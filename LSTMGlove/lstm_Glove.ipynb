{
 "cells": [
  {
   "cell_type": "code",
   "execution_count": 3,
   "metadata": {},
   "outputs": [],
   "source": [
    "import os\n",
    "import sys\n",
    "import re\n",
    "import pickle\n",
    "import numpy as np\n",
    "import pandas as pd\n",
    "\n",
    "from keras.preprocessing.text import Tokenizer\n",
    "from keras.preprocessing.sequence import pad_sequences\n",
    "from keras.utils.np_utils import to_categorical\n",
    "from keras.models import Sequential\n",
    "from keras.layers.recurrent import LSTM\n",
    "from keras.layers.core import Dense, Activation\n",
    "from keras.layers.embeddings import Embedding\n",
    "from sklearn.model_selection import train_test_split"
   ]
  },
  {
   "cell_type": "code",
   "execution_count": 4,
   "metadata": {},
   "outputs": [],
   "source": [
    "DIR_GLOVE = os.path.abspath('..\\Glove')\n",
    "DIR_DATA = os.path.abspath('..\\Data')\n",
    "MAX_SEQUENCE_LENGTH = 100\n",
    "MAX_NB_WORDS = 20000\n",
    "EMBEDDING_DIM = 300\n",
    "TEST_SPLIT = 0.2\n",
    "VALIDATION_SPLIT = 0.1\n",
    "tokenizer = Tokenizer(num_words=MAX_NB_WORDS)"
   ]
  },
  {
   "cell_type": "code",
   "execution_count": 5,
   "metadata": {},
   "outputs": [],
   "source": [
    "def clean_str(string):\n",
    "    string = re.sub(r\"[^A-Za-z0-9(),!?\\'\\`]\", \" \", string)\n",
    "    string = re.sub(r\"\\'s\", \" \\'s\", string)\n",
    "    string = re.sub(r\"\\'ve\", \" \\'ve\", string)\n",
    "    string = re.sub(r\"n\\'t\", \" n\\'t\", string)\n",
    "    string = re.sub(r\"\\'re\", \" \\'re\", string)\n",
    "    string = re.sub(r\"\\'d\", \" \\'d\", string)\n",
    "    string = re.sub(r\"\\'ll\", \" \\'ll\", string)\n",
    "    string = re.sub(r\",\", \" , \", string)\n",
    "    string = re.sub(r\"!\", \" ! \", string)\n",
    "    string = re.sub(r\"\\(\", \" \\( \", string)\n",
    "    string = re.sub(r\"\\)\", \" \\) \", string)\n",
    "    string = re.sub(r\"\\?\", \" \\? \", string)\n",
    "    string = re.sub(r\"\\s{2,}\", \" \", string)\n",
    "    return string.strip().lower()"
   ]
  },
  {
   "cell_type": "code",
   "execution_count": 6,
   "metadata": {},
   "outputs": [],
   "source": [
    "def gloveVec(filename):\n",
    "    embeddings = {}\n",
    "    f = open(os.path.join(DIR_GLOVE, filename), encoding='utf-8')\n",
    "    i = 0\n",
    "    for line in f:\n",
    "        values = line.split()\n",
    "        word = values[0]\n",
    "        try:\n",
    "            coefs = np.asarray(values[1:], dtype='float32')\n",
    "            embeddings[word] = coefs\n",
    "        except ValueError:\n",
    "            i += 1\n",
    "    f.close()\n",
    "    return embeddings"
   ]
  },
  {
   "cell_type": "code",
   "execution_count": 7,
   "metadata": {},
   "outputs": [],
   "source": [
    "def loadData(filename):\n",
    "    df = pd.read_csv(DIR_DATA + filename,delimiter=';')\n",
    "    selected = ['label', 'text']\n",
    "    non_selected = list(set(df.columns) - set(selected))\n",
    "    df = df.drop(non_selected, axis=1)\n",
    "    df = df.dropna(axis=0, how='any', subset=selected)\n",
    "    labels = sorted(list(set(df[selected[0]].tolist())))\n",
    "    dict.fromkeys(set(df[selected[0]].tolist()))\n",
    "    label_dict = {}\n",
    "    for i in range(len(labels)):\n",
    "        label_dict[labels[i]] = i\n",
    "\n",
    "    x_train = df[selected[1]].apply(lambda x: clean_str(x)).tolist()\n",
    "    y_train = df[selected[0]].apply(lambda y: label_dict[y]).tolist()\n",
    "    y_train = to_categorical(np.asarray(y_train))\n",
    "    return x_train,y_train\n"
   ]
  },
  {
   "cell_type": "code",
   "execution_count": 8,
   "metadata": {},
   "outputs": [],
   "source": [
    "def createVocabAndData(sentences):\n",
    "    \n",
    "    tokenizer.fit_on_texts(sentences)\n",
    "    sequences = tokenizer.texts_to_sequences(sentences)\n",
    "    vocab = tokenizer.word_index\n",
    "    data = pad_sequences(sequences, maxlen=MAX_SEQUENCE_LENGTH)\n",
    "    return vocab,data"
   ]
  },
  {
   "cell_type": "code",
   "execution_count": 9,
   "metadata": {},
   "outputs": [],
   "source": [
    "def createEmbeddingMatrix(word_index,embeddings_index):\n",
    "    nb_words = min(MAX_NB_WORDS, len(word_index))\n",
    "    embedding_matrix = np.zeros((nb_words + 1, EMBEDDING_DIM))\n",
    "    for word, i in word_index.items():\n",
    "        if i > MAX_NB_WORDS:\n",
    "            continue\n",
    "        embedding_vector = embeddings_index.get(word)\n",
    "        if embedding_vector is not None:\n",
    "            embedding_matrix[i] = embedding_vector\n",
    "    return embedding_matrix"
   ]
  },
  {
   "cell_type": "code",
   "execution_count": 10,
   "metadata": {},
   "outputs": [
    {
     "ename": "KeyboardInterrupt",
     "evalue": "",
     "output_type": "error",
     "traceback": [
      "\u001b[1;31m---------------------------------------------------------------------------\u001b[0m",
      "\u001b[1;31mKeyboardInterrupt\u001b[0m                         Traceback (most recent call last)",
      "\u001b[1;32m<ipython-input-10-7b1191f2f435>\u001b[0m in \u001b[0;36m<module>\u001b[1;34m\u001b[0m\n\u001b[0;32m     17\u001b[0m     \u001b[0mprint\u001b[0m\u001b[1;33m(\u001b[0m\u001b[1;34m\"%s: %.2f%%\"\u001b[0m \u001b[1;33m%\u001b[0m \u001b[1;33m(\u001b[0m\u001b[0mmodel\u001b[0m\u001b[1;33m.\u001b[0m\u001b[0mmetrics_names\u001b[0m\u001b[1;33m[\u001b[0m\u001b[1;36m1\u001b[0m\u001b[1;33m]\u001b[0m\u001b[1;33m,\u001b[0m \u001b[0mscores\u001b[0m\u001b[1;33m[\u001b[0m\u001b[1;36m1\u001b[0m\u001b[1;33m]\u001b[0m \u001b[1;33m*\u001b[0m \u001b[1;36m100\u001b[0m\u001b[1;33m)\u001b[0m\u001b[1;33m)\u001b[0m\u001b[1;33m\u001b[0m\u001b[1;33m\u001b[0m\u001b[0m\n\u001b[0;32m     18\u001b[0m     \u001b[1;32mreturn\u001b[0m \u001b[0mmodel\u001b[0m\u001b[1;33m\u001b[0m\u001b[1;33m\u001b[0m\u001b[0m\n\u001b[1;32m---> 19\u001b[1;33m \u001b[0membeddings\u001b[0m \u001b[1;33m=\u001b[0m \u001b[0mgloveVec\u001b[0m\u001b[1;33m(\u001b[0m\u001b[1;34m'glove.840B.300d.txt'\u001b[0m\u001b[1;33m)\u001b[0m\u001b[1;33m\u001b[0m\u001b[1;33m\u001b[0m\u001b[0m\n\u001b[0m",
      "\u001b[1;32m<ipython-input-6-c5a37d03dbeb>\u001b[0m in \u001b[0;36mgloveVec\u001b[1;34m(filename)\u001b[0m\n\u001b[0;32m      3\u001b[0m     \u001b[0mf\u001b[0m \u001b[1;33m=\u001b[0m \u001b[0mopen\u001b[0m\u001b[1;33m(\u001b[0m\u001b[0mos\u001b[0m\u001b[1;33m.\u001b[0m\u001b[0mpath\u001b[0m\u001b[1;33m.\u001b[0m\u001b[0mjoin\u001b[0m\u001b[1;33m(\u001b[0m\u001b[0mDIR_GLOVE\u001b[0m\u001b[1;33m,\u001b[0m \u001b[0mfilename\u001b[0m\u001b[1;33m)\u001b[0m\u001b[1;33m,\u001b[0m \u001b[0mencoding\u001b[0m\u001b[1;33m=\u001b[0m\u001b[1;34m'utf-8'\u001b[0m\u001b[1;33m)\u001b[0m\u001b[1;33m\u001b[0m\u001b[1;33m\u001b[0m\u001b[0m\n\u001b[0;32m      4\u001b[0m     \u001b[0mi\u001b[0m \u001b[1;33m=\u001b[0m \u001b[1;36m0\u001b[0m\u001b[1;33m\u001b[0m\u001b[1;33m\u001b[0m\u001b[0m\n\u001b[1;32m----> 5\u001b[1;33m     \u001b[1;32mfor\u001b[0m \u001b[0mline\u001b[0m \u001b[1;32min\u001b[0m \u001b[0mf\u001b[0m\u001b[1;33m:\u001b[0m\u001b[1;33m\u001b[0m\u001b[1;33m\u001b[0m\u001b[0m\n\u001b[0m\u001b[0;32m      6\u001b[0m         \u001b[0mvalues\u001b[0m \u001b[1;33m=\u001b[0m \u001b[0mline\u001b[0m\u001b[1;33m.\u001b[0m\u001b[0msplit\u001b[0m\u001b[1;33m(\u001b[0m\u001b[1;33m)\u001b[0m\u001b[1;33m\u001b[0m\u001b[1;33m\u001b[0m\u001b[0m\n\u001b[0;32m      7\u001b[0m         \u001b[0mword\u001b[0m \u001b[1;33m=\u001b[0m \u001b[0mvalues\u001b[0m\u001b[1;33m[\u001b[0m\u001b[1;36m0\u001b[0m\u001b[1;33m]\u001b[0m\u001b[1;33m\u001b[0m\u001b[1;33m\u001b[0m\u001b[0m\n",
      "\u001b[1;32m~\\AppData\\Local\\Continuum\\anaconda3\\lib\\codecs.py\u001b[0m in \u001b[0;36mdecode\u001b[1;34m(self, input, final)\u001b[0m\n\u001b[0;32m    316\u001b[0m         \u001b[1;32mraise\u001b[0m \u001b[0mNotImplementedError\u001b[0m\u001b[1;33m\u001b[0m\u001b[1;33m\u001b[0m\u001b[0m\n\u001b[0;32m    317\u001b[0m \u001b[1;33m\u001b[0m\u001b[0m\n\u001b[1;32m--> 318\u001b[1;33m     \u001b[1;32mdef\u001b[0m \u001b[0mdecode\u001b[0m\u001b[1;33m(\u001b[0m\u001b[0mself\u001b[0m\u001b[1;33m,\u001b[0m \u001b[0minput\u001b[0m\u001b[1;33m,\u001b[0m \u001b[0mfinal\u001b[0m\u001b[1;33m=\u001b[0m\u001b[1;32mFalse\u001b[0m\u001b[1;33m)\u001b[0m\u001b[1;33m:\u001b[0m\u001b[1;33m\u001b[0m\u001b[1;33m\u001b[0m\u001b[0m\n\u001b[0m\u001b[0;32m    319\u001b[0m         \u001b[1;31m# decode input (taking the buffer into account)\u001b[0m\u001b[1;33m\u001b[0m\u001b[1;33m\u001b[0m\u001b[1;33m\u001b[0m\u001b[0m\n\u001b[0;32m    320\u001b[0m         \u001b[0mdata\u001b[0m \u001b[1;33m=\u001b[0m \u001b[0mself\u001b[0m\u001b[1;33m.\u001b[0m\u001b[0mbuffer\u001b[0m \u001b[1;33m+\u001b[0m \u001b[0minput\u001b[0m\u001b[1;33m\u001b[0m\u001b[1;33m\u001b[0m\u001b[0m\n",
      "\u001b[1;31mKeyboardInterrupt\u001b[0m: "
     ]
    }
   ],
   "source": [
    "def lstmModel(embedding_matrix,epoch):\n",
    "    model = Sequential()\n",
    "    n, embedding_dims = embedding_matrix.shape\n",
    "\n",
    "    model.add(Embedding(n, embedding_dims, weights=[embedding_matrix], input_length=MAX_SEQUENCE_LENGTH, trainable=False))\n",
    "    model.add(LSTM(128, dropout=0.6, recurrent_dropout=0.6))\n",
    "    model.add(Dense(2))\n",
    "    model.add(Activation('softmax'))\n",
    "\n",
    "    model.compile(loss='binary_crossentropy', optimizer='adam', metrics=['accuracy'])\n",
    "    print(model.summary())\n",
    "    \n",
    "    model.fit(X_train, y_train, validation_split=VALIDATION_SPLIT, epochs=epoch, batch_size=128)\n",
    "    model.save_weights('text_lstm_weights.h5')\n",
    "\n",
    "    scores= model.evaluate(X_test, y_test, verbose=0)\n",
    "    print(\"%s: %.2f%%\" % (model.metrics_names[1], scores[1] * 100))\n",
    "    return model\n",
    "embeddings = gloveVec('glove.840B.300d.txt')"
   ]
  },
  {
   "cell_type": "code",
   "execution_count": 9,
   "metadata": {},
   "outputs": [
    {
     "name": "stdout",
     "output_type": "stream",
     "text": [
      "Data created\n",
      "Train Test split\n",
      "_________________________________________________________________\n",
      "Layer (type)                 Output Shape              Param #   \n",
      "=================================================================\n",
      "embedding_1 (Embedding)      (None, 100, 300)          585900    \n",
      "_________________________________________________________________\n",
      "lstm_1 (LSTM)                (None, 128)               219648    \n",
      "_________________________________________________________________\n",
      "dense_1 (Dense)              (None, 2)                 258       \n",
      "_________________________________________________________________\n",
      "activation_1 (Activation)    (None, 2)                 0         \n",
      "=================================================================\n",
      "Total params: 805,806\n",
      "Trainable params: 219,906\n",
      "Non-trainable params: 585,900\n",
      "_________________________________________________________________\n",
      "None\n",
      "Train on 977 samples, validate on 109 samples\n",
      "Epoch 1/40\n",
      "977/977 [==============================] - 6s 6ms/step - loss: 0.5643 - acc: 0.7247 - val_loss: 0.3498 - val_acc: 0.8165\n",
      "Epoch 2/40\n",
      "977/977 [==============================] - 3s 3ms/step - loss: 0.3615 - acc: 0.8557 - val_loss: 0.1835 - val_acc: 0.9541\n",
      "Epoch 3/40\n",
      "977/977 [==============================] - 4s 4ms/step - loss: 0.2475 - acc: 0.9140 - val_loss: 0.1044 - val_acc: 0.9633\n",
      "Epoch 4/40\n",
      "977/977 [==============================] - 3s 4ms/step - loss: 0.1854 - acc: 0.9335 - val_loss: 0.0816 - val_acc: 0.9725\n",
      "Epoch 5/40\n",
      "977/977 [==============================] - 3s 3ms/step - loss: 0.1403 - acc: 0.9539 - val_loss: 0.0828 - val_acc: 0.9725\n",
      "Epoch 6/40\n",
      "977/977 [==============================] - 3s 3ms/step - loss: 0.1389 - acc: 0.9498 - val_loss: 0.0599 - val_acc: 0.9725\n",
      "Epoch 7/40\n",
      "977/977 [==============================] - 3s 3ms/step - loss: 0.1203 - acc: 0.9580 - val_loss: 0.0593 - val_acc: 0.9817\n",
      "Epoch 8/40\n",
      "977/977 [==============================] - 3s 3ms/step - loss: 0.1079 - acc: 0.9621 - val_loss: 0.0491 - val_acc: 0.9817\n",
      "Epoch 9/40\n",
      "977/977 [==============================] - 3s 3ms/step - loss: 0.0935 - acc: 0.9652 - val_loss: 0.0462 - val_acc: 0.9817\n",
      "Epoch 10/40\n",
      "977/977 [==============================] - 3s 4ms/step - loss: 0.0934 - acc: 0.9662 - val_loss: 0.0449 - val_acc: 0.9817\n",
      "Epoch 11/40\n",
      "977/977 [==============================] - 3s 4ms/step - loss: 0.0821 - acc: 0.9703 - val_loss: 0.0423 - val_acc: 0.9817\n",
      "Epoch 12/40\n",
      "977/977 [==============================] - 3s 3ms/step - loss: 0.0855 - acc: 0.9724 - val_loss: 0.0417 - val_acc: 0.9817\n",
      "Epoch 13/40\n",
      "977/977 [==============================] - 3s 3ms/step - loss: 0.0870 - acc: 0.9652 - val_loss: 0.0366 - val_acc: 0.9817\n",
      "Epoch 14/40\n",
      "977/977 [==============================] - 3s 3ms/step - loss: 0.0708 - acc: 0.9806 - val_loss: 0.0336 - val_acc: 0.9817\n",
      "Epoch 15/40\n",
      "977/977 [==============================] - 3s 4ms/step - loss: 0.0621 - acc: 0.9795 - val_loss: 0.0324 - val_acc: 0.9817\n",
      "Epoch 16/40\n",
      "977/977 [==============================] - 3s 3ms/step - loss: 0.0611 - acc: 0.9785 - val_loss: 0.0283 - val_acc: 0.9908\n",
      "Epoch 17/40\n",
      "977/977 [==============================] - 4s 4ms/step - loss: 0.0640 - acc: 0.9754 - val_loss: 0.0292 - val_acc: 0.9908\n",
      "Epoch 18/40\n",
      "977/977 [==============================] - 3s 3ms/step - loss: 0.0631 - acc: 0.9846 - val_loss: 0.0257 - val_acc: 0.9908\n",
      "Epoch 19/40\n",
      "977/977 [==============================] - 3s 4ms/step - loss: 0.0626 - acc: 0.9785 - val_loss: 0.0291 - val_acc: 0.9908\n",
      "Epoch 20/40\n",
      "977/977 [==============================] - 4s 4ms/step - loss: 0.0585 - acc: 0.9734 - val_loss: 0.0295 - val_acc: 0.9908\n",
      "Epoch 21/40\n",
      "977/977 [==============================] - 4s 4ms/step - loss: 0.0544 - acc: 0.9846 - val_loss: 0.0359 - val_acc: 0.9817\n",
      "Epoch 22/40\n",
      "977/977 [==============================] - 4s 4ms/step - loss: 0.0510 - acc: 0.9795 - val_loss: 0.0244 - val_acc: 0.9908\n",
      "Epoch 23/40\n",
      "977/977 [==============================] - 4s 4ms/step - loss: 0.0577 - acc: 0.9806 - val_loss: 0.0234 - val_acc: 0.9908\n",
      "Epoch 24/40\n",
      "977/977 [==============================] - 4s 4ms/step - loss: 0.0544 - acc: 0.9785 - val_loss: 0.0269 - val_acc: 0.9908\n",
      "Epoch 25/40\n",
      "977/977 [==============================] - 4s 4ms/step - loss: 0.0472 - acc: 0.9918 - val_loss: 0.0239 - val_acc: 0.9908\n",
      "Epoch 26/40\n",
      "977/977 [==============================] - 4s 4ms/step - loss: 0.0444 - acc: 0.9867 - val_loss: 0.0291 - val_acc: 0.9908\n",
      "Epoch 27/40\n",
      "977/977 [==============================] - 3s 4ms/step - loss: 0.0413 - acc: 0.9846 - val_loss: 0.0347 - val_acc: 0.9817\n",
      "Epoch 28/40\n",
      "977/977 [==============================] - 3s 4ms/step - loss: 0.0289 - acc: 0.9918 - val_loss: 0.0284 - val_acc: 0.9908\n",
      "Epoch 29/40\n",
      "977/977 [==============================] - 3s 4ms/step - loss: 0.0356 - acc: 0.9887 - val_loss: 0.0291 - val_acc: 0.9908\n",
      "Epoch 30/40\n",
      "977/977 [==============================] - 4s 4ms/step - loss: 0.0443 - acc: 0.9826 - val_loss: 0.0277 - val_acc: 0.9908\n",
      "Epoch 31/40\n",
      "977/977 [==============================] - 4s 4ms/step - loss: 0.0352 - acc: 0.9877 - val_loss: 0.0358 - val_acc: 0.9908\n",
      "Epoch 32/40\n",
      "977/977 [==============================] - 4s 4ms/step - loss: 0.0374 - acc: 0.9826 - val_loss: 0.0463 - val_acc: 0.9817\n",
      "Epoch 33/40\n",
      "977/977 [==============================] - 4s 4ms/step - loss: 0.0302 - acc: 0.9908 - val_loss: 0.0351 - val_acc: 0.9908\n",
      "Epoch 34/40\n",
      "977/977 [==============================] - 3s 4ms/step - loss: 0.0500 - acc: 0.9816 - val_loss: 0.0431 - val_acc: 0.9817\n",
      "Epoch 35/40\n",
      "977/977 [==============================] - 4s 4ms/step - loss: 0.0359 - acc: 0.9887 - val_loss: 0.0383 - val_acc: 0.9817\n",
      "Epoch 36/40\n",
      "977/977 [==============================] - 4s 4ms/step - loss: 0.0359 - acc: 0.9898 - val_loss: 0.0280 - val_acc: 0.9908\n",
      "Epoch 37/40\n",
      "977/977 [==============================] - 4s 4ms/step - loss: 0.0280 - acc: 0.9928 - val_loss: 0.0455 - val_acc: 0.9817\n",
      "Epoch 38/40\n",
      "977/977 [==============================] - 4s 4ms/step - loss: 0.0287 - acc: 0.9887 - val_loss: 0.0277 - val_acc: 0.9908\n",
      "Epoch 39/40\n",
      "977/977 [==============================] - 4s 4ms/step - loss: 0.0265 - acc: 0.9928 - val_loss: 0.0229 - val_acc: 0.9908\n",
      "Epoch 40/40\n",
      "977/977 [==============================] - 4s 4ms/step - loss: 0.0335 - acc: 0.9908 - val_loss: 0.0373 - val_acc: 0.9817\n",
      "acc: 98.53%\n"
     ]
    }
   ],
   "source": [
    "if __name__ == \"__main__\":\n",
    "\n",
    "    sentences, labels = loadData('\\service5.csv')\n",
    "    \n",
    "    vocab, data = createVocabAndData(sentences)\n",
    "    embedding_mat = createEmbeddingMatrix(vocab,embeddings)\n",
    "    pickle.dump([data, labels, embedding_mat], open('embedding_matrix.pkl', 'wb'))\n",
    "    print (\"Data created\")\n",
    "\n",
    "    print(\"Train Test split\")\n",
    "    X_train, X_test, y_train, y_test = train_test_split(data, labels, test_size=TEST_SPLIT, random_state=42)\n",
    "\n",
    "    model=lstmModel(embedding_mat,40)"
   ]
  },
  {
   "cell_type": "code",
   "execution_count": 10,
   "metadata": {},
   "outputs": [
    {
     "name": "stdout",
     "output_type": "stream",
     "text": [
      "[[4.0947594e-04 9.9959058e-01]]\n"
     ]
    }
   ],
   "source": [
    "x_input = np.array(['i have a big problem i need your help now'])\n",
    "seq= tokenizer.texts_to_sequences(x_input)\n",
    "seqs = pad_sequences(seq, maxlen=MAX_SEQUENCE_LENGTH)\n",
    "yhat = model.predict(seqs)\n",
    "print(yhat)   "
   ]
  },
  {
   "cell_type": "code",
   "execution_count": null,
   "metadata": {},
   "outputs": [],
   "source": []
  }
 ],
 "metadata": {
  "kernelspec": {
   "display_name": "Python 3",
   "language": "python",
   "name": "python3"
  },
  "language_info": {
   "codemirror_mode": {
    "name": "ipython",
    "version": 3
   },
   "file_extension": ".py",
   "mimetype": "text/x-python",
   "name": "python",
   "nbconvert_exporter": "python",
   "pygments_lexer": "ipython3",
   "version": "3.6.8"
  }
 },
 "nbformat": 4,
 "nbformat_minor": 2
}
