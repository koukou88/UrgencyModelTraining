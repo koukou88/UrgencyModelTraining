{
 "cells": [
  {
   "cell_type": "code",
   "execution_count": 3,
   "metadata": {},
   "outputs": [],
   "source": [
    "import pandas as pd\n",
    "import numpy as np\n",
    "import matplotlib.pyplot as plt\n",
    "import seaborn as sns\n",
    "from sklearn.model_selection import train_test_split\n",
    "from sklearn.preprocessing import LabelEncoder\n",
    "from keras.models import Model\n",
    "from keras.layers import LSTM, Activation, Dense, Dropout, Input, Embedding\n",
    "from keras.optimizers import RMSprop\n",
    "from keras.preprocessing.text import Tokenizer\n",
    "from keras.preprocessing import sequence\n",
    "from keras.utils import to_categorical\n",
    "from keras.callbacks import EarlyStopping\n",
    "%matplotlib inline\n",
    "import os"
   ]
  },
  {
   "cell_type": "code",
   "execution_count": 5,
   "metadata": {},
   "outputs": [
    {
     "data": {
      "text/html": [
       "<div>\n",
       "<style scoped>\n",
       "    .dataframe tbody tr th:only-of-type {\n",
       "        vertical-align: middle;\n",
       "    }\n",
       "\n",
       "    .dataframe tbody tr th {\n",
       "        vertical-align: top;\n",
       "    }\n",
       "\n",
       "    .dataframe thead th {\n",
       "        text-align: right;\n",
       "    }\n",
       "</style>\n",
       "<table border=\"1\" class=\"dataframe\">\n",
       "  <thead>\n",
       "    <tr style=\"text-align: right;\">\n",
       "      <th></th>\n",
       "      <th>text</th>\n",
       "      <th>label</th>\n",
       "    </tr>\n",
       "  </thead>\n",
       "  <tbody>\n",
       "    <tr>\n",
       "      <th>0</th>\n",
       "      <td>my request is very urgent!!</td>\n",
       "      <td>urgent</td>\n",
       "    </tr>\n",
       "    <tr>\n",
       "      <th>1</th>\n",
       "      <td>my request is very important!!</td>\n",
       "      <td>urgent</td>\n",
       "    </tr>\n",
       "    <tr>\n",
       "      <th>2</th>\n",
       "      <td>my request is really urgent!!</td>\n",
       "      <td>urgent</td>\n",
       "    </tr>\n",
       "    <tr>\n",
       "      <th>3</th>\n",
       "      <td>my request is really impotant!!</td>\n",
       "      <td>urgent</td>\n",
       "    </tr>\n",
       "    <tr>\n",
       "      <th>4</th>\n",
       "      <td>you must complete this Mission now !!</td>\n",
       "      <td>urgent</td>\n",
       "    </tr>\n",
       "    <tr>\n",
       "      <th>5</th>\n",
       "      <td>you must complete your Mission now !!</td>\n",
       "      <td>urgent</td>\n",
       "    </tr>\n",
       "    <tr>\n",
       "      <th>6</th>\n",
       "      <td>you must complete this Mission right now !!</td>\n",
       "      <td>urgent</td>\n",
       "    </tr>\n",
       "    <tr>\n",
       "      <th>7</th>\n",
       "      <td>you must complete this Mission instantly !!</td>\n",
       "      <td>urgent</td>\n",
       "    </tr>\n",
       "    <tr>\n",
       "      <th>8</th>\n",
       "      <td>you must complete this Mission fast !!</td>\n",
       "      <td>urgent</td>\n",
       "    </tr>\n",
       "    <tr>\n",
       "      <th>9</th>\n",
       "      <td>you must complete this Mission very fast !!</td>\n",
       "      <td>urgent</td>\n",
       "    </tr>\n",
       "  </tbody>\n",
       "</table>\n",
       "</div>"
      ],
      "text/plain": [
       "                                          text   label\n",
       "0                  my request is very urgent!!  urgent\n",
       "1               my request is very important!!  urgent\n",
       "2                my request is really urgent!!  urgent\n",
       "3              my request is really impotant!!  urgent\n",
       "4        you must complete this Mission now !!  urgent\n",
       "5        you must complete your Mission now !!  urgent\n",
       "6  you must complete this Mission right now !!  urgent\n",
       "7  you must complete this Mission instantly !!  urgent\n",
       "8       you must complete this Mission fast !!  urgent\n",
       "9  you must complete this Mission very fast !!  urgent"
      ]
     },
     "execution_count": 5,
     "metadata": {},
     "output_type": "execute_result"
    }
   ],
   "source": [
    "datasource = os.path.abspath('..\\Data\\service5.csv')\n",
    "data = pd.read_csv(datasource , delimiter=\";\")\n",
    "data.head(10)"
   ]
  },
  {
   "cell_type": "code",
   "execution_count": 3,
   "metadata": {},
   "outputs": [
    {
     "data": {
      "text/plain": [
       "Text(0.5,1,'Number of urgent and noturgent messages')"
      ]
     },
     "execution_count": 3,
     "metadata": {},
     "output_type": "execute_result"
    },
    {
     "data": {
      "image/png": "[encoded data removed]",
      "text/plain": [
       "<Figure size 432x288 with 1 Axes>"
      ]
     },
     "metadata": {
      "needs_background": "light"
     },
     "output_type": "display_data"
    }
   ],
   "source": [
    "sns.countplot(data.label)\n",
    "plt.xlabel('Label')\n",
    "plt.title('Number of urgent and noturgent messages')"
   ]
  },
  {
   "cell_type": "code",
   "execution_count": 4,
   "metadata": {},
   "outputs": [
    {
     "name": "stdout",
     "output_type": "stream",
     "text": [
      "[[1]\n",
      " [1]\n",
      " [1]\n",
      " ...\n",
      " [1]\n",
      " [0]\n",
      " [0]]\n"
     ]
    }
   ],
   "source": [
    "X = data.text\n",
    "Y = data.label\n",
    "le = LabelEncoder()\n",
    "Y = le.fit_transform(Y)\n",
    "Y = Y.reshape(-1,1)\n",
    "print(Y)"
   ]
  },
  {
   "cell_type": "code",
   "execution_count": 5,
   "metadata": {},
   "outputs": [
    {
     "name": "stdout",
     "output_type": "stream",
     "text": [
      "[[0]\n",
      " [1]\n",
      " [0]\n",
      " ...\n",
      " [0]\n",
      " [1]\n",
      " [0]]\n",
      "1080                              WARNING - DO NOT BUY!!.\n",
      "123            You must give me your answer immediatly !!\n",
      "530                     Rip off---- Over charge shipping.\n",
      "753                                     It's AGGRAVATING!\n",
      "431                              Great sound and service.\n",
      "784     It feels poorly constructed, the menus are dif...\n",
      "1335    my laptop is broken and i have work to do can ...\n",
      "472       I gave it 5 stars because of the sound quality.\n",
      "1292    i need to buy the ticket fast before it solde ...\n",
      "605                                          Works great.\n",
      "901                           lightweight and works well.\n",
      "1048    I have read other's reviews here but I haven't...\n",
      "506            I received it quickly and it works great!!\n",
      "1050                              Comfortable in my hand.\n",
      "36                     i need these papers very quickly!!\n",
      "1224       i need some papers from the agency instantly!!\n",
      "429                             What a big waste of time.\n",
      "1320                      my order will be here in 1 hour\n",
      "1199             I need to go to the hospital instantly!!\n",
      "1111                               Couldn't figure it out\n",
      "272                Nice docking station for home or work.\n",
      "31             you have to prepare this work immediatly!!\n",
      "1037    the only VERY DISAPPOINTING thing was there wa...\n",
      "519                                 I want my money back.\n",
      "1039    Product is useless, since it does not have eno...\n",
      "897     Comfortable fit - you need your headset to be ...\n",
      "1223                       you must go to the post now!! \n",
      "675     It holds a charge for a long time, is reasonab...\n",
      "83      I need your help with something please complet...\n",
      "437     I was very excited to get this headset because...\n",
      "                              ...                        \n",
      "300     Buyer Beware, you could flush money right down...\n",
      "556     The loudspeaker option is great, the bumpers w...\n",
      "1312    i can't finish programing without the internet...\n",
      "1177    It fits so securely that the ear hook does not...\n",
      "188                   you have to repair my car right now\n",
      "41                        i need these papers instantly!!\n",
      "148                    my boss demand this work instantly\n",
      "794     What possesed me to get this junk, I have no i...\n",
      "108                                I want your help now!!\n",
      "1170                  you have to fix up my phone quickly\n",
      "1306    i don't have any clue how to do it can you ple...\n",
      "1094                                         Great phone.\n",
      "379     I've had this bluetooth headset for some time ...\n",
      "119                          Call the police immediatly!!\n",
      "1145     Otherwise, easy to install and use, clear sound.\n",
      "814     the charger worked for about a week and then c...\n",
      "1226               you must call all our customers now !!\n",
      "1060    I have only had it for a few weeks, but so far...\n",
      "478     Best of all is the rotating feature, very help...\n",
      "983                    It is simple to use and I like it.\n",
      "748     I love the camera, it's really pretty good qua...\n",
      "596                              Great product and price.\n",
      "1293    i gived you enough time to finish the job so h...\n",
      "630      What is that !! I am very angry about your se...\n",
      "851     The earpiece on this is too large or too heavy...\n",
      "650     I even fully charged it before I went to bed a...\n",
      "338                                         What a waste.\n",
      "821     This is a great product..... sure beats using ...\n",
      "1299    do you have any idea how much you wasted my ti...\n",
      "1128                                    Never got it!!!!!\n",
      "Name: text, Length: 1154, dtype: object\n"
     ]
    }
   ],
   "source": [
    "X_train,X_test,Y_train,Y_test = train_test_split(X,Y,test_size=0.15)\n",
    "print(Y_train)\n",
    "print(X_train)"
   ]
  },
  {
   "cell_type": "code",
   "execution_count": 6,
   "metadata": {},
   "outputs": [
    {
     "name": "stdout",
     "output_type": "stream",
     "text": [
      "[[822, 49, 19, 109], [10, 22, 74, 29, 21, 194, 97], [823, 137, 195, 75, 350], [56, 824], [23, 40, 4, 61], [5, 296, 436, 825, 1, 826, 44, 273, 3, 827, 4, 1, 274, 44, 36, 828, 25, 5, 7, 273, 3, 568, 163], [8, 569, 7, 351, 4, 2, 20, 27, 3, 49, 70, 10, 118, 5, 16, 178, 437], [2, 829, 5, 196, 570, 119, 17, 1, 40, 34], [2, 15, 3, 109, 1, 571, 32, 164, 5, 830, 81], [41, 23], [572, 4, 41, 52], [2, 20, 831, 832, 573, 243, 46, 2, 833, 39, 87, 110, 18, 5], [2, 275, 5, 179, 4, 5, 41, 23], [120, 16, 8, 574], [2, 15, 33, 128, 13, 179], [2, 15, 244, 128, 58, 1, 438, 59], [121, 9, 245, 138, 17, 62], [8, 246, 91, 45, 243, 16, 178, 352], [2, 15, 3, 67, 3, 1, 105, 59], [180, 575, 5, 81], [92, 576, 577, 14, 276, 82, 27], [10, 20, 3, 111, 6, 27, 97], [1, 98, 13, 439, 150, 24, 99, 24, 78, 834], [2, 55, 8, 100, 181], [35, 7, 247, 277, 5, 88, 19, 20, 151, 353, 835, 3, 75, 1, 53, 836, 2, 24, 837, 3, 47, 5, 18], [120, 197, 10, 15, 21, 37, 3, 45, 120, 14, 79, 440, 101, 352, 79, 9, 62, 68, 19, 14, 101, 838, 437], [10, 22, 67, 3, 1, 839, 12], [5, 441, 9, 75, 14, 9, 152, 62, 7, 442, 120, 578, 152, 443, 840, 4, 1, 34, 17, 40, 7, 841], [2, 15, 21, 48, 18, 165, 76, 69, 6, 38, 12], [2, 24, 13, 579, 3, 60, 6, 37, 119, 2, 580, 5, 24, 63, 842], [2, 166, 444, 87, 354, 2, 55, 8, 11, 97], [9, 167, 17, 278, 25, 216, 71, 248, 26, 8, 11, 14, 53, 139], [10, 22, 69, 21, 153, 32], [42, 75, 182, 7, 279, 152], [2, 166, 843, 18, 6, 11, 2, 72, 13, 445], [13, 28, 446, 14, 1, 83], [1, 11, 844, 7, 447, 2, 22, 38, 8, 845, 16, 581, 448], [77, 122, 196, 582, 183, 25, 40, 106, 64, 33], [102, 49, 19, 355, 93, 1, 583, 43, 584], [1, 846, 585, 5, 8, 847, 24, 848], [2, 112, 8, 849, 37, 8, 850, 123, 37, 7, 23, 1, 129, 7, 13, 28, 4, 1, 57, 167, 7, 9, 120, 197], [140, 36, 168], [2, 15, 21, 48, 18, 165, 76, 69, 6, 38, 30, 12], [586, 7, 94, 4, 130, 7, 31, 28, 31, 87, 58, 25, 249], [10, 22, 12, 84, 8, 11], [38, 1, 217, 59], [23, 40, 4, 61], [95, 42, 41, 23, 16, 11], [5, 41], [2, 20, 9, 851, 60, 1, 587, 356, 32], [2, 88, 19, 588, 9, 297, 18, 1, 449, 154, 5, 7, 26, 8, 852], [23, 37, 13, 218, 853], [2, 112, 1, 298, 119, 102, 44, 36, 854], [23, 450], [5, 219, 451, 16, 452, 57, 1, 40, 7, 169, 4, 299, 4, 1, 75, 453, 9, 300, 17, 139], [2, 15, 3, 67, 3, 1, 105, 59], [1, 357, 7, 63, 855, 16, 856, 4, 7, 358, 151, 2, 85, 359, 87, 170], [1, 857, 454, 4, 858, 44, 63, 23], [42, 182, 7, 126, 23], [138, 17, 859, 860], [21, 61, 7, 589, 86, 590, 30, 12], [184, 20, 3, 75, 33, 141, 12], [6, 35, 7, 13, 280, 34, 861, 455], [28, 83], [301, 862, 2, 863, 591, 5, 7, 99], [10, 22, 74, 29, 21, 194, 31, 198, 31, 250], [1, 57, 864, 98, 592, 865, 16, 43, 57], [1, 593, 866, 7, 594, 595, 4, 185, 5, 142, 3, 867, 596], [868, 131, 20, 244, 220, 3, 869, 9, 132, 11, 14, 9, 870, 281, 82, 165], [871, 8, 11, 3, 73, 95, 360], [251, 1, 57, 872, 221, 137, 597, 4, 71, 98, 43, 302, 2, 456, 43], [2, 65, 598, 3, 19, 155, 6, 143, 5, 252, 113, 13, 52], [2, 15, 33, 128, 13, 32], [92, 183, 14, 1, 83, 4, 102, 27, 23], [457, 6, 43, 68, 10, 70], [253], [1, 114, 150, 25, 873, 24, 25, 1, 874, 24, 137], [458, 5, 181], [2, 63, 89, 6, 875, 277, 5, 222, 13, 92, 876, 4, 254], [223, 877, 93, 6, 459, 878, 7, 25, 5, 63, 222, 361, 879, 362, 16, 1, 50, 303, 599], [1, 282, 44, 142, 3, 47, 4, 460, 880, 163], [1, 224, 167, 17, 455, 156, 881, 18, 1, 283, 255, 61], [2, 144, 1, 882, 80, 14, 8, 95, 461, 883, 4, 5, 113, 63, 52, 5, 66, 884, 8, 885, 284, 36, 168], [85, 138, 21, 100], [283, 886, 600, 887, 8, 462, 9, 186, 888, 304, 17, 145, 113, 4, 2, 601, 51, 305, 3, 49, 9, 306, 889, 363, 890, 81, 50, 8, 364], [2, 15, 21, 48, 76, 69, 6, 38, 30, 12], [10, 22, 69, 21, 153, 12], [40, 34, 26, 307, 285, 7, 94, 2, 47, 37, 3, 38, 8, 463, 4, 602, 8, 463, 3, 47, 37, 3, 38, 29, 53], [2, 24, 19, 218, 199, 6, 35], [2, 55, 3, 308, 33, 128, 12], [68, 10, 73, 9, 299, 603, 3, 604, 50, 21, 464, 124, 6, 11, 7, 14, 10], [1, 171, 7, 13, 28, 465], [114, 17, 50, 5, 157, 225, 52], [5, 7, 466, 605, 51, 14, 47, 31, 9, 226, 891, 892, 130, 606, 4, 893, 16, 365, 894], [2, 15, 33, 128, 56, 13, 227], [50, 16, 50, 2, 228, 5, 24, 9, 28, 895], [6, 143, 113, 23, 46, 5, 216, 71, 607, 256, 17, 47], [23, 11], [1, 143, 275, 24, 896], [71, 353, 897, 33, 141, 27, 23], [10, 20, 3, 84, 8, 54, 115], [2, 24, 13, 218, 18, 1, 83, 17, 1, 366], [309, 51, 1, 28, 27, 200], [10, 467, 898, 5], [94, 899, 900, 11, 80], [2, 122, 6, 11, 31, 9, 310, 14, 8, 901, 4, 20, 902, 5, 277], [1, 468, 903, 7, 904], [19, 9, 28, 143, 5, 113, 14, 9, 154, 124, 311, 305, 170, 16, 8, 608, 905, 906, 469], [46, 116, 2, 907, 257, 908, 79, 909, 1, 609, 910, 610, 137, 9, 186, 611, 229, 1, 114, 911, 4, 124, 86, 456], [87, 612, 912, 367, 28, 11, 3, 109], [913, 613, 368], [2, 275, 8, 37, 16, 28, 62, 4, 24, 140, 18, 5], [126, 187, 614, 151, 3, 197, 229, 8, 914, 915, 576, 577, 201, 916, 1, 80], [158, 65, 89, 33, 3, 369], [9, 312], [8, 11, 157, 917, 313, 8, 54, 12, 4, 1, 918, 919, 8, 11, 58, 920, 81, 17, 8, 574], [102, 22, 69, 230, 27, 12], [2, 24, 19, 140, 18, 6, 143], [10, 22, 84, 8, 54, 59], [138, 17, 100], [38, 1, 105, 96, 51], [23, 14, 1, 615], [2, 15, 9, 921, 146, 59], [2, 22, 75, 33, 141, 30, 12], [113, 284], [1, 357, 7, 9, 92, 922, 470, 9, 616, 923, 4, 1, 924, 172, 11, 617, 609], [78, 925, 926, 26, 6, 43], [50, 16, 50, 314, 370, 9, 106, 583, 618, 58, 173], [159, 110, 133, 2, 166, 619, 87, 17, 8, 471, 26, 8, 927, 76, 118, 5, 32], [472, 71, 315, 82, 928, 473, 1, 620, 17, 1, 929, 216, 4, 2, 134, 19, 47, 5, 87, 354, 26, 1, 930], [10, 20, 3, 74, 29, 1, 183, 12], [1, 231, 17, 5, 7, 13, 474, 4, 1, 258, 7, 92, 4, 169, 18, 23, 621], [259, 93, 247, 255, 61], [10, 22, 49, 6, 27, 30, 12], [103, 37, 156], [2, 275, 8, 931, 95, 173, 932, 4, 933, 99, 24, 19, 9, 622, 470, 1, 11, 4, 1, 117], [23, 11], [5, 371, 286, 934, 307, 623, 26, 3, 8, 372, 4, 935, 1, 475, 624], [304, 17, 1, 315, 936, 102, 937, 18, 1, 37, 65, 287, 16, 8, 316], [439, 625, 58, 9, 28, 938], [2, 626, 8, 627, 123, 173, 939, 3, 8, 11, 4, 5, 113, 73, 9, 317, 940, 1, 11, 24, 16, 8, 628, 82, 1, 80], [202, 29, 18, 10, 68, 10, 44, 590, 2, 15, 10, 3, 373, 29, 629, 56, 63, 188, 4, 2, 15, 3, 60, 99, 941], [202, 6, 942, 18, 10, 4, 74, 5, 3, 943, 184, 15, 5, 30, 12], [5, 66, 50, 1, 476, 2, 55], [42, 182, 7, 189, 28], [2, 55, 3, 308, 33, 128, 32], [41, 14, 29], [10, 44, 630, 5, 318, 25, 91, 477, 374, 135, 107, 100, 10, 15, 3, 49, 5, 260, 36, 96, 51], [154, 2, 944, 3, 945, 1, 946, 620, 181, 16, 319, 1, 947, 12, 66, 151, 948, 25, 5, 91, 375, 26, 1, 478, 373], [86, 631, 16, 136, 139, 45, 320, 3, 74, 29, 21, 27], [56, 9, 167, 17, 455], [949, 376, 950, 632, 951, 40, 4, 952, 633, 14, 365, 26, 1, 190, 285, 17, 1, 38], [2, 15, 10, 3, 108, 8, 634, 27, 133, 4, 2, 15, 5, 12], [2, 112, 1, 231, 4, 635, 17, 377, 378, 261], [13, 28, 34, 479], [2, 47, 6, 35, 16, 9, 953, 954, 955, 288, 99, 7, 9, 232, 17, 280, 956, 957, 58, 1, 958, 4, 5, 41, 23], [10, 22, 191, 21, 233, 12], [2, 15, 3, 67, 3, 1, 105, 96], [2, 15, 33, 128, 12], [56, 9, 23, 143], [9, 192, 28, 35], [1, 480, 25, 379, 203, 19, 622, 1, 959, 16, 1, 960], [108, 5, 27, 133, 32], [10, 134, 98, 202, 53, 961, 79, 9, 62, 4, 1, 34, 24, 13, 147], [2, 380, 1, 481, 962, 963, 14, 6, 4, 86, 192, 140, 18, 25, 636], [204, 8, 54, 91, 19, 637, 6, 964], [1, 321, 965, 966, 638, 381, 203, 19, 27, 18, 8, 11], [159, 110, 31, 369, 20, 967], [2, 482, 6, 14, 481, 968, 639, 46, 2, 228, 5, 98, 113, 640, 641, 116, 2, 114, 148, 5], [2, 15, 3, 109, 1, 969, 483], [8, 642, 55, 3, 84, 382, 130, 970], [160, 16, 8, 971, 174, 643, 145, 7, 972, 644, 2, 20, 484, 973, 121, 1, 190, 645, 7, 646], [8, 37, 41, 104, 974, 975], [262, 33, 263, 96], [71, 647, 4, 205, 1, 35, 14, 104, 53, 139, 5, 216], [10, 22, 234, 8, 206, 13, 32], [2, 383, 9, 264, 976, 4, 24, 13, 140, 18, 5, 46, 1, 40, 34, 362, 977, 26, 6, 7, 106], [978, 3, 384, 979, 1, 322, 42, 58, 980, 25, 235, 18, 8, 981], [6, 485, 16, 1, 11, 248, 452, 982, 79, 983, 207, 82, 984], [49, 19, 155, 6, 11], [2, 985, 1, 323, 4, 102, 648, 29, 25, 649, 1, 281, 24, 175, 578, 650, 68, 2, 180, 986, 8, 987, 2, 24, 81, 17, 988], [6, 7, 1, 11, 3, 60, 14, 989, 2, 104, 122, 8, 990, 4, 50, 2, 70, 265, 7, 651], [121, 9, 138, 17, 100, 4, 62], [991, 652, 486, 486], [86, 653, 163], [23, 628, 654, 11, 992], [23, 14, 993, 90], [70, 10, 45, 260, 2, 15, 3, 60, 276, 12], [71, 1, 114, 75, 385, 289, 487, 71, 994, 127], [10, 20, 581, 448, 3, 995, 82, 2, 91, 996, 10, 81], [13, 997, 360], [10, 22, 998, 21, 655, 115], [2, 39, 482, 9, 173, 364, 381, 144, 9, 13, 52, 999, 4, 161, 35], [1000, 3, 265, 2, 488, 8, 100], [2, 72, 489, 386, 14, 21, 194, 93, 8, 387, 2, 72, 13, 490], [36, 168, 36, 28], [1001, 13, 388, 18, 8, 155], [2, 15, 3, 67, 3, 1, 105, 96, 51], [2, 65, 89, 656, 1, 264, 1002, 324, 643, 53, 145, 41, 657, 18, 8, 658, 491, 67, 575], [659, 45, 13, 660], [325, 150, 26, 11, 27, 284, 492, 73, 5], [1003, 14, 1, 1004], [389, 102, 20, 9, 204, 255, 61, 36, 10, 60, 121, 10, 191, 14], [10, 20, 3, 74, 29, 1, 183, 30, 12], [187, 19, 594, 595], [208, 93, 6, 35, 7, 318, 114], [1, 98, 28, 150, 24, 25, 5, 219, 451, 26, 226, 316], [10, 131, 84, 8, 54, 115], [2, 326, 228, 25, 1, 661, 493, 662, 390, 3, 29], [222, 28, 16, 1, 391, 46, 6, 80, 24, 9, 663, 312], [2, 112, 6, 381, 5, 1005, 29, 3, 664, 87, 1006, 638, 209, 3, 8, 654], [124, 9, 186, 139, 392, 1, 9, 1007, 17, 1008, 235, 81, 17, 1, 11, 154, 16, 47], [2, 24, 494, 3, 49, 257, 665, 16, 1, 54, 18, 78, 110], [666, 2, 15, 8, 11, 12], [222, 23, 4, 7, 495], [77, 39, 6, 14, 667, 53, 236, 4, 5, 66, 113, 23, 14, 29], [262, 33, 263, 59], [10, 166, 1009, 1, 83, 26, 33], [264, 57, 668, 1010, 1, 103], [393, 157, 27], [237, 237, 669], [2, 15, 21, 48, 59], [41, 23], [1, 496, 7, 17, 210, 34, 36, 31, 670, 1, 612, 671, 40, 13, 211], [5, 88, 208, 1, 497, 327, 5, 65], [23, 290, 394, 209], [2, 55, 21, 48, 59], [2, 15, 8, 176, 146, 115], [1011, 11], [1, 257, 1012, 1013, 1, 1014, 7, 94], [19, 218], [2, 65, 395, 89, 1, 264, 1015, 14, 365, 498, 44, 238, 14, 499, 396, 4, 9, 23, 83], [254, 11], [5, 41, 177, 26, 8, 173, 1016, 606, 4, 9, 232, 106, 64, 1, 1017, 81, 42, 203], [2, 22, 191, 8, 233, 97], [10, 22, 69, 6, 153, 32], [86, 140, 93, 6, 155, 28, 34, 4, 210, 83], [71, 500, 328, 328, 501, 1018, 6, 7, 1, 43, 25, 472, 41, 52], [77, 239, 329, 502, 503, 14, 8, 172, 11, 4, 6, 264, 43, 7, 1, 114, 43, 77, 240, 25, 219, 8, 57, 451], [10, 22, 38, 12, 1, 1019, 3, 84, 1, 1020, 1021], [2, 15, 8, 176, 146, 115], [121, 9, 138, 17, 62], [10, 20, 3, 74, 29, 1, 183, 59], [147, 40, 34], [13, 1022], [9, 28, 34, 504, 2, 122, 6, 71, 2, 122, 9, 1023, 58, 245, 1024, 25, 672, 376, 4, 266, 26, 1, 190, 285, 180, 212, 29], [2, 63, 73, 6, 35, 195, 1, 173, 119, 5, 7, 1025, 1026, 26, 1, 57, 167, 4, 1, 393], [49, 158, 15, 3, 67, 6, 220, 5, 91, 202, 90, 135, 62, 2, 15, 3, 60, 99, 189, 32], [65, 19, 1027], [65, 89, 6, 143], [211, 46, 1028, 5, 41, 24, 1029, 1030, 505, 1, 210, 477, 17, 6, 143], [1, 11, 7, 358, 4, 1031], [6, 11, 673, 13, 306, 3, 49, 208, 46, 1032, 79, 56, 13, 674, 3, 45, 9, 11], [379, 179, 4, 135, 267, 506, 64, 369, 248, 1033], [10, 20, 3, 74, 29, 1, 183, 97], [10, 131, 84, 8, 54, 30, 12], [2, 55, 1, 11, 12], [1, 258, 507, 7, 245, 1034, 675, 1035, 52, 151, 4, 1, 130, 34, 7, 94, 14, 9, 130, 11], [49, 19, 108, 1, 159, 676, 31, 29], [38, 1, 217, 12], [9, 232, 17, 1036, 20, 149, 1037, 6, 9, 13, 28, 11, 4, 36, 49, 2], [1, 1038, 4, 274, 44, 677, 284], [1039, 1040, 167, 17, 278], [56, 397, 17, 678, 3, 47, 119, 17, 193, 5, 222, 4, 1041, 56, 678, 193, 1042, 73, 1, 323, 7], [262, 33, 263, 12], [132, 155], [679, 45, 238, 14, 9, 95, 330, 615, 1043, 7, 398, 90], [8, 387, 7, 13, 188], [180, 47, 1, 281, 18, 680, 19, 28, 16, 1044], [112, 6, 37], [38, 1, 105, 30, 12], [439], [5, 66, 149, 9, 1045, 14, 374], [2, 39, 399, 78, 110, 18, 6, 37, 1046, 3, 8, 1047, 681, 1048], [400, 1049, 7, 142, 3, 47], [2, 55, 8, 176, 146, 59], [6, 7, 9, 23, 401], [8, 682, 15, 6, 11, 12], [92, 37, 508, 30], [1050, 213, 41, 23], [312, 2, 331, 332, 25, 402, 16, 8, 57], [86, 9, 584, 253], [5, 1051, 229, 319, 16, 9, 220, 25, 185, 10, 1052, 193, 152, 25, 1053, 65, 268], [2, 166, 444, 107, 64, 25, 3, 509, 8, 110, 2, 72, 13, 1054], [1055, 169, 17, 6, 35, 4, 67, 18, 1, 1056, 461, 310, 1057, 145, 221, 16, 9, 315, 1058], [683, 171], [10, 22, 111, 6, 27, 16, 53, 127], [1, 403, 7, 13, 1059, 4, 1060, 2, 65, 395, 109, 58, 163, 133], [1, 83, 24, 13, 28, 4, 18, 1, 394, 350, 4, 50, 5, 24, 9, 28, 155], [106, 64, 95], [126, 68, 21, 11, 7, 404, 6, 80, 7, 19, 289, 3, 1061, 5, 1062, 116, 404, 1063, 291], [2, 22, 111, 6, 27, 13, 32], [8, 130, 510, 161, 4, 2, 15, 3, 1064, 9, 684, 333], [2, 15, 3, 67, 3, 1, 105, 30, 12], [2, 55, 8, 176, 146, 12], [2, 55, 3, 67, 3, 1, 438, 59], [5, 24, 101, 1065, 167, 46, 2, 65, 175, 20, 370, 106, 34], [10, 22, 84, 8, 511, 12], [1, 129, 7, 94], [8, 387, 7, 63, 1066], [125, 21, 292, 32, 82, 334, 401, 7, 195], [2, 22, 111, 6, 27, 16, 53, 127], [10, 20, 3, 1067, 8, 1068, 11, 12], [1, 323, 685, 8, 35, 13, 483, 4, 5, 41, 52], [253, 18, 42], [49, 19, 109, 68, 10, 55, 3, 47, 1, 480], [2, 512, 20, 1069, 9, 1070, 46, 2, 65, 19, 1071, 513, 5, 133, 119, 17, 1, 1072, 34, 686], [1, 1073, 91, 1074, 16, 687, 214], [148, 4, 1075], [1, 514, 17, 1, 136, 1076, 24, 36, 142, 5, 688, 689, 9, 300, 127, 164, 2, 311, 670, 215, 18, 1, 257, 665, 515], [96, 51, 4, 118, 8, 11], [204, 35, 4, 138, 17, 100], [1, 405, 7, 13, 406, 77, 149, 494, 3, 1077, 313, 8, 407, 18, 1, 11, 16, 1, 1078, 690, 18, 78, 129, 40, 34, 691], [28, 143, 210, 83], [21, 335, 336, 6, 27, 30, 12], [2, 15, 3, 67, 3, 1, 105, 12], [184, 20, 3, 75, 33, 141, 59], [10, 22, 74, 29, 21, 194, 32], [251, 8, 1079, 24, 1080, 25, 244, 62, 1, 11, 157, 1081, 51, 73, 692, 11, 88], [184, 22, 69, 382, 27, 12], [158, 20, 239, 53, 1082, 4, 102, 307, 693, 337, 53, 256, 694], [23, 35], [10, 22, 49, 6, 27, 59], [41, 52], [1083, 123, 37, 7, 9, 324], [1, 695, 1084, 1085, 50, 1, 1086, 25, 43, 1087, 501, 7, 23], [2, 15, 8, 11, 338, 30, 12], [134, 19, 60, 495, 151, 339], [94, 1088, 696, 37], [10, 131, 49, 6, 27, 12], [166, 408, 332, 46, 11, 1089, 3, 1090], [2, 15, 21, 48, 18, 165, 76, 69, 6, 38, 13, 32], [56, 9, 23, 409, 14, 1091, 1092, 4, 364, 1093, 410, 45, 411, 3, 47, 1094, 465, 53, 14, 1095, 364, 1096, 485], [5, 697, 161, 71, 314, 148, 5, 14, 93, 1097, 256, 36, 2, 104, 412, 223, 43, 119, 6, 7, 1, 103, 37, 77, 156, 698], [10, 60, 29, 1, 318, 246, 67, 516, 5, 12], [2, 15, 8, 100, 320, 16, 53, 139], [5, 7, 13, 120, 3, 225, 31, 52, 145, 7, 517, 1, 293, 188, 1098, 93, 205, 9, 80], [130, 413, 1099, 7, 376], [46, 5, 7, 23, 2, 65, 63, 89, 5], [2, 518, 10, 118, 6, 11, 32], [23, 11], [1100, 519, 699, 4, 36, 88, 6, 211, 269, 11], [78, 189, 1101], [2, 122, 136, 17, 163, 4, 700, 91, 75], [23, 83, 126], [123, 405, 7, 28, 9, 186, 139, 414, 2, 415, 8, 11, 16, 1, 1102, 144, 9, 38, 4, 1103, 1, 701, 201, 9, 1104], [410, 4, 2, 1105, 3, 126, 1106, 1, 1107, 413, 702, 5, 66, 26, 21, 11], [2, 60, 399, 237, 129, 16, 8, 1108, 288, 18, 190, 261, 2, 20, 19, 39, 6, 110], [10, 22, 74, 29, 21, 194, 12], [19, 151, 207], [33, 44, 703, 13, 120, 4, 704, 7, 406], [2, 122, 6, 3, 47, 18, 8, 1109, 705, 4, 399, 1110, 5], [6, 7, 9, 13, 1111, 11, 18, 132, 42, 182, 25, 1112, 26, 9, 416, 520], [2, 417, 25, 706, 1113, 46, 3, 29, 5, 1114, 73, 1115, 613, 25, 1116, 27, 52, 52, 6, 43, 41, 23], [104, 88, 19, 27], [499, 14, 334, 707, 708], [1, 215, 373, 1, 11, 521, 26, 4, 137, 79, 91, 1, 258, 402, 303, 4, 1, 224, 17, 50, 5, 1117, 1118, 1119], [2, 326, 55, 1, 522, 289, 195, 1, 1120, 17, 8, 57, 1121, 1122], [80, 24, 107, 82, 267, 101, 418, 25, 2, 1123, 294, 26, 46, 392, 1124, 119, 5, 1125, 8, 57], [2, 20, 53, 174, 419, 26, 8, 172, 11, 116, 2, 72, 276, 46, 10, 709, 19, 212, 332], [1126, 376], [6, 7, 290, 291, 1, 103, 11, 77, 156, 39], [5, 66, 9, 23, 130, 641, 1127, 4, 1, 1128, 44, 92, 4, 169, 18, 23, 391, 34], [230, 520, 523, 16, 1129, 1130, 7, 237], [268, 62, 513, 58, 10], [1131, 293, 17, 1, 446, 88, 19, 27, 18, 8, 11], [126, 273, 3, 294, 26, 314, 89, 1132, 6, 35], [77, 98, 39, 8, 123, 14, 9, 186, 270, 46, 2, 63, 73, 5], [10, 22, 69, 21, 153, 30, 12], [193, 70, 25, 45, 1, 295, 34, 7, 147], [2, 70, 212, 154, 86, 710, 16, 1, 54, 4, 1133, 85, 160, 20, 3, 294, 5, 26, 56, 1134, 1135], [2, 72, 107, 64, 140, 18, 6, 35, 178], [2, 15, 25, 13, 179], [2, 15, 6, 587, 356, 16, 136, 270], [53, 1136, 51, 3, 6, 403], [295, 34, 7, 147, 13, 147], [1, 393, 99, 7, 9, 711, 4, 1, 207, 7, 279, 210], [2, 488, 8, 269, 100, 18, 6, 330], [1137, 48], [712, 524, 8, 62, 2, 20, 190, 446, 3, 49, 36, 96, 51], [10, 20, 3, 84, 8, 54, 59], [247, 11, 525, 1138], [21, 61, 7, 36, 132, 10, 20, 3, 713, 21, 438], [10, 22, 74, 29, 8, 176, 146, 12], [2, 85, 228, 5, 65, 340, 5, 90, 1139, 26, 21, 372], [23, 5, 24, 95, 526, 92, 41, 28, 78, 170, 4, 5, 235, 16, 267, 62, 124, 2, 370], [2, 15, 21, 48, 13, 32], [10, 22, 69, 21, 153, 13, 32], [169, 1140, 215, 152, 42, 182, 152, 405], [1, 42, 7, 161, 52, 31, 9, 310, 14, 1, 322, 25, 235, 18, 1, 11, 195, 53, 236, 414], [63, 1141], [49, 19, 109, 49, 19, 109, 5, 368], [74, 29, 1, 714, 4, 32], [2, 15, 3, 202, 8, 1142, 36, 76, 715, 29, 276, 260], [6, 35, 39, 9, 495, 1143, 1144, 716, 25, 24, 1145, 71, 9, 154, 4, 717, 29, 3, 341, 5], [102, 27, 93, 53, 270, 124, 375], [2, 22, 75, 33, 141, 97], [19, 9, 28, 504], [10, 22, 74, 29, 21, 194, 13, 32], [68, 10, 44, 238, 14, 9, 28, 34, 173, 37, 309, 238, 6, 510, 5], [9, 302, 392, 71, 2, 1146, 5, 5, 1147, 718], [5, 203, 19, 27, 16, 8, 172, 11, 213, 2, 72, 13, 51, 363, 18, 1, 117], [1148, 420, 28], [6, 7, 9, 23, 11], [10, 15, 136, 290, 3, 719, 1, 258, 6, 271, 1149, 7, 1150, 342, 4, 527, 1151, 18, 95, 271, 1152], [41, 28], [10, 131, 49, 6, 27, 32], [10, 20, 3, 111, 6, 27, 30, 12], [56, 36, 720, 3, 20, 3, 309, 513, 95, 454, 54, 454, 1153, 183, 4, 54, 1154, 325, 62, 9, 95, 11, 521, 81], [2, 15, 21, 48, 30, 12], [110, 7, 25, 1, 57, 1155, 44, 162, 17, 416, 1156, 4, 375, 597], [5, 126, 39, 9, 95, 110], [184, 22, 67, 3, 1, 217, 115, 3, 509, 382, 110], [10, 22, 111, 6, 27, 59], [5, 7, 1, 103, 117, 2, 20, 1157, 26, 1, 721, 528], [10, 20, 3, 111, 6, 27, 13, 32], [99, 158, 67, 133, 2, 518, 102, 118, 1, 1158, 333, 36, 2, 125, 8, 292], [6, 88, 19, 197, 1, 461, 1159, 1160, 4, 5, 216, 1, 114, 62, 2, 239, 3, 213, 5, 16], [10, 131, 49, 6, 27, 115], [722, 5, 91, 19, 723, 8, 475, 1161, 529, 1162, 5, 58, 1163, 1164, 1165, 1166, 1167, 42, 724, 725, 596], [94, 290, 394, 409], [6, 726, 699], [99, 7, 9, 1168, 727, 38, 1, 1169, 12], [2, 15, 3, 67, 3, 1, 105, 32], [126, 185, 5, 421, 3, 340, 26, 3], [132, 197, 220, 90, 245], [85, 1170, 67, 3, 1, 408], [241, 7, 1171, 343], [13, 28, 35, 52, 162], [2, 72, 514, 6, 18, 8, 475, 4, 2, 134, 19, 45, 530, 18, 5, 36, 168], [287, 422, 58, 1, 491], [50, 2, 70, 49, 7, 1172, 26, 1, 241, 36, 243, 5, 402, 1, 107, 2, 47, 1, 150, 1, 267, 2, 73, 5], [1, 43, 245, 1173, 17, 1, 1174, 469, 7, 25, 1, 274, 26, 1, 459, 531, 728, 25, 1175, 10, 1176, 4, 1177, 1178, 729, 81, 71, 9, 186, 611], [70, 10, 45, 260, 16, 730, 25, 11], [532, 325, 1179], [5, 1180, 1, 696, 17, 9, 123, 37], [78, 1181, 78, 1182, 78, 1183, 19, 160, 9, 1184, 344, 2, 180, 45, 107, 530, 18, 8, 95, 43, 14, 1, 1185], [2, 15, 8, 176, 146, 59], [2, 24, 731, 79, 1, 1186, 1187, 17, 1, 136, 322, 533, 172, 11, 141, 4, 4, 79, 9, 1188, 17, 1, 83], [10, 22, 1189, 1, 511, 12], [10, 20, 3, 111, 6, 27, 16, 53, 127], [102, 22, 69, 230, 27, 12], [113, 23], [1, 42, 182, 7, 272, 732], [399, 23], [733, 329, 502, 53, 534, 215, 2, 734, 196, 535, 4, 5, 24, 16, 101, 536, 25, 39, 196, 419], [1, 1190, 24, 26, 62], [8, 387, 7, 63, 227], [10, 22, 69, 6, 153, 12], [1191, 1192, 18, 1, 173, 423, 11], [537, 345, 66, 1, 103, 255, 61, 1193], [1194, 1, 54, 14, 29, 2, 91, 45, 181, 16, 538, 127], [274, 44, 90, 226], [94, 35], [157, 340, 75], [85, 138, 21, 100], [56, 63, 142], [2, 15, 21, 48, 18, 165, 76, 69, 6, 38, 31, 198, 31, 250], [13, 28, 11], [2, 15, 8, 176, 146, 12], [42, 7, 623, 51, 52], [539, 16, 1, 57, 85, 47, 18, 533, 1195, 1196], [2, 73, 1, 735, 25, 5, 1197, 1198, 1199, 21, 57, 361, 64, 624], [1, 310, 718, 16, 9, 186, 270], [304, 17, 1, 95, 1200, 20, 156, 279, 113, 1201], [2, 55, 8, 176, 146, 115], [5, 24, 237], [10, 22, 69, 6, 153, 59], [291, 1, 736, 119, 17, 9, 416, 1202], [737, 138, 21, 100], [23, 14, 205, 18, 21, 276, 1203], [8, 196, 249, 342, 321, 1204, 58, 593, 441, 1, 75, 9, 232, 106, 64, 6], [540, 4, 537, 345, 1205, 3, 424, 5, 133, 4, 738, 29, 3, 109, 223, 11, 201, 87, 397, 17, 1206, 1207], [2, 65, 89, 5], [6, 7, 9, 28, 42, 4, 5, 144, 243, 63, 32], [63, 28, 35], [6, 7, 1, 114, 11, 77, 39, 25, 66, 149, 36, 1208, 162], [70, 2, 60, 8, 11, 12], [1, 40, 34, 7, 94, 31, 52], [2, 20, 3, 111, 6, 27, 59], [9, 1209, 357, 384, 610, 9, 726, 229, 9, 189, 1210, 1211, 1212, 739, 17, 104, 9, 1213, 1214], [132, 129], [142, 3, 740, 18, 8, 377, 172], [2, 383, 53, 17, 33, 366, 4, 65, 246, 223], [2, 39, 283, 53, 236, 414, 4, 63, 1215, 230, 61], [35, 24, 94, 4, 41, 106, 64, 1, 283, 43, 4, 1216, 24, 5, 741], [6, 1217, 11, 317, 7, 742, 4, 13, 1218, 743], [262, 33, 263, 97], [2, 144, 1, 54, 117, 4, 19, 160, 71, 9, 302, 1, 117, 24, 351, 2, 346, 3, 213, 5, 16, 4, 5, 311, 1219], [202, 25, 1220, 76, 2, 15, 3, 60, 3, 8, 1221, 189, 32], [1, 40, 7, 169, 4, 1, 266, 2, 259, 3, 26, 5, 44, 731, 79, 1, 34, 90], [1222, 233, 251, 44, 273, 3, 744, 160, 479, 230, 1223, 1224, 44, 347], [94, 35, 14, 1, 83], [1225, 210, 34, 40, 4, 1, 1226, 313, 1, 1227, 1228, 24, 436, 466, 1229, 4, 1230, 137], [230, 1231, 4, 1232, 1233, 389, 1234, 121, 1235, 630], [178, 5, 41, 53, 5, 7, 120], [245, 312, 18, 1236, 1237], [2, 55, 10, 3, 715, 29, 3, 1, 1238, 105, 189, 32], [2, 55, 3, 1239, 9, 407, 164, 2, 235, 199, 70, 10, 242, 43, 1240], [633, 110, 13, 1241], [104, 121, 2, 425], [8, 1242, 66, 1243, 1244, 17, 535, 26, 1245, 201, 1246, 702], [6, 7, 36, 1247, 4, 126, 8, 316, 1248, 68, 2, 426, 3, 568, 1, 57, 213, 229, 8, 57], [106, 64, 370], [184, 22, 75, 33, 141, 59], [24, 19, 140], [1249, 3, 117, 14, 464, 745, 107, 64, 1250, 127, 1251, 170], [498, 16, 230, 30, 1252, 7, 1253, 109, 6, 42], [185, 5, 421, 3, 309, 51, 18, 8, 123, 116, 86, 19, 443, 5], [21, 1254, 1255, 1256, 21, 1257, 3, 221, 115], [2, 15, 21, 48, 76, 125, 6, 38, 32], [8, 335, 336, 6, 27, 97], [1, 129, 462, 6, 37, 7, 94], [8, 1258, 2, 12, 60, 23, 129, 9, 269, 506, 46, 360, 7, 23], [208, 113, 26, 1, 114, 426, 1, 209, 24, 703, 1259, 16, 9, 1260, 220, 4, 1, 746, 296, 28], [10, 20, 3, 74, 29, 1, 183, 59], [2, 20, 39, 1261, 14, 93, 9, 249, 4, 6, 1262, 2, 122, 244, 14, 1, 747, 17, 1, 708], [56, 427, 1263, 2, 15, 8, 54, 12], [68, 1, 136, 662, 1264, 199, 9, 1265, 196, 1266, 2, 311, 3, 591, 1267, 541, 4, 1268, 40, 58, 1, 37], [96, 51, 516, 1, 1269, 26, 1, 724, 164, 460, 221], [92, 748], [13, 253, 16, 625, 43], [722, 1, 674, 3, 384, 417, 10, 44, 647, 9, 38, 7, 9, 361, 188, 515, 4, 6, 11, 7, 1270, 16, 25, 1271], [36, 2, 122, 93, 324, 17, 33, 4, 1272, 1273, 17, 100], [102, 1274, 3, 542, 82, 424], [56, 13, 1275, 4, 347, 3, 47, 428, 292, 356, 185, 1, 54, 1276, 36, 135, 1277], [2, 72, 289, 3, 20, 3, 45, 1, 114, 3, 1278, 749, 6, 35], [94, 1279, 519, 37], [152, 745, 42, 10, 85, 20, 3, 723, 5, 31, 750, 31, 244, 17, 1, 378, 261], [2, 55, 8, 176, 146, 30, 12], [5, 41, 23, 18, 9, 54, 117, 362, 68, 10, 527, 213, 16, 136, 1280, 79, 1, 159, 62], [77, 698, 6, 11, 14, 1281, 256, 12, 4, 70, 265, 25, 56, 1, 103, 345, 11, 77, 39], [2, 15, 8, 11, 12], [543, 26, 1282, 58, 163, 133, 4, 133], [116, 2, 677, 8, 540, 229, 1, 80, 19, 98, 24, 5, 19, 1283, 46, 99, 24, 9, 232, 17, 418, 690, 26, 1, 1284], [6, 80, 371, 52, 162], [23, 123], [2, 72, 19, 218, 18, 6, 4, 2, 65, 19, 89, 6, 143, 3, 429], [2, 65, 272, 89, 6, 35], [10, 22, 49, 6, 27, 12], [101, 398, 95, 231, 14, 544, 1285], [221, 63, 32, 2, 15, 10, 3, 48, 29, 18, 8, 569], [2, 39, 3, 155, 9, 502, 80], [10, 1286, 10, 375, 5, 288, 70, 2, 242, 223, 16, 267, 64, 465, 214], [10, 22, 191, 21, 233, 30, 12], [545, 35], [1287, 1288, 4, 34, 35], [5, 7, 52, 162, 142, 3, 751, 1, 11, 4, 66, 9, 752, 1289, 372, 522], [28, 753, 377], [10, 22, 74, 29, 8, 1290, 675, 12], [8, 98, 754, 7, 1, 1291, 40, 207, 7, 9, 269, 210, 160, 116, 546, 51, 3, 196, 17, 196], [1, 37, 1292, 8, 1293, 36, 2, 72, 140, 18, 8, 155], [2, 22, 75, 33, 141, 12], [25, 248, 327, 14, 9, 11, 1, 130, 7, 13, 92, 328, 254, 1294, 3, 592, 18, 4, 684, 7, 406, 31, 52], [2, 15, 21, 48, 18, 165, 76, 125, 6, 38, 31, 198, 31, 250], [10, 22, 69, 21, 153, 12, 56, 227], [112, 6, 35], [118, 5, 30, 422], [36, 2, 39, 3, 202, 1, 42, 81, 17, 1, 11, 294, 5, 50, 181, 1295, 4, 124, 1296, 5], [2, 20, 528, 3, 755, 6, 95, 42, 756, 136, 419, 4, 757, 315, 139, 201, 353], [1, 80, 7, 23, 4, 41, 177, 18, 1, 1297], [5, 24, 9, 138, 17, 8, 100], [41, 73, 9, 317, 5, 27, 1, 159, 31, 1, 43, 2, 144, 18, 1, 11], [2, 15, 21, 48, 18, 165, 76, 125, 6, 38, 30, 12], [166, 1298, 298, 58, 9, 758, 759], [2, 15, 33, 128, 13, 179], [760], [108, 1, 11, 27, 12], [5, 453, 267, 64, 1299, 127, 68, 2, 384, 426, 3, 47, 1, 11, 8, 463, 66, 1, 159, 11, 18, 1, 159, 110], [2, 15, 21, 48, 76, 69, 6, 38, 13, 32], [9, 22, 1300, 14, 429, 1301, 16, 1, 224, 1302, 17, 1303, 171], [1304, 121, 2, 425], [2, 55, 10, 3, 38, 1, 217, 386], [1, 1305, 1306, 7, 547], [1307, 1, 478, 1308, 221, 16, 53, 534, 96, 51], [2, 20, 3, 118, 8, 11, 12, 14, 101, 227, 1309], [1, 40, 34, 7, 28, 4, 704, 7, 398], [25, 54, 7, 63, 188, 36, 76, 96, 51], [38, 1, 105, 12], [2, 55, 10, 3, 118, 8, 11, 16, 687, 214], [13, 253], [31, 2, 327, 548, 192, 247], [389, 99, 7, 9, 110, 18, 1, 1310], [6, 740, 17, 183, 7, 1, 224, 25, 2, 20, 156, 39, 40, 1311], [1, 1312, 80, 157, 197], [2, 55, 3, 308, 33, 128, 12], [1313, 112, 193, 1314, 5, 7], [147, 257, 396], [6, 1315, 7, 220, 3, 343, 2, 166, 125, 8, 27, 16, 62, 108, 5, 27, 260, 56, 63, 227], [187, 761, 343, 4, 762, 549, 3, 49, 332, 18, 5], [158, 22, 69, 334, 27, 12], [38, 1, 217, 12], [31, 101, 1316, 749, 1317, 213, 16, 6, 117, 4, 344, 1318], [13, 169, 34, 40, 4, 10, 85, 20, 3, 1319, 18, 1, 40, 26, 21, 763, 277, 10, 20, 1, 40, 274, 26, 1, 37], [10, 22, 191, 21, 233, 97], [2, 15, 8, 176, 146, 30, 12], [1, 11, 24, 764, 4, 24, 19, 95], [2, 20, 148, 329, 11, 16, 136, 236, 46, 6, 43, 7, 1, 103], [2, 20, 239, 33, 1320, 18, 8, 449, 4, 8, 763, 4, 5, 41, 104, 177], [2, 15, 8, 54, 97], [157, 27, 79, 50, 2, 1321, 5, 14, 8, 1322, 4, 187, 19, 161], [6, 7, 9, 23, 401], [25, 43, 326, 27, 452], [10, 22, 69, 21, 153, 59], [6, 143, 7, 765, 4, 41, 284], [237, 11], [157, 268, 152], [103, 123, 26, 1, 721], [5, 1323, 19, 27, 293, 17, 1, 62, 18, 8, 321, 1324], [92, 1325, 357], [348, 123, 1326, 109], [2, 20, 149, 13, 140, 18, 1, 550, 4, 20, 39, 78, 1327, 58, 87, 43, 1328, 8, 40, 34, 26, 230, 285], [1, 103, 1329, 17, 1, 1330, 1331, 1332], [2, 15, 3, 84, 8, 349, 30, 12], [528, 348, 1333, 3, 47, 1, 159, 1334, 117, 171], [13, 430, 61, 58, 537, 345], [10, 22, 84, 8, 54, 115], [2, 15, 8, 1335, 320, 333], [2, 15, 6, 61, 12], [23, 295], [5, 219, 8, 57, 52, 4, 7, 120, 26], [66, 149, 161, 23], [142, 3, 47], [266, 1336, 212, 29, 259, 4, 2, 39, 3, 766, 81, 1, 1337, 4, 259, 26, 1, 11], [365, 261, 44, 161, 104, 177, 12], [4, 2, 104, 112, 1, 1338], [2, 22, 111, 6, 27, 97], [108, 208, 1339, 164, 1, 767, 235, 276, 102, 91, 45, 243, 16, 538, 1340], [68, 10, 20, 329, 1341, 82, 329, 1342, 471, 124, 1343, 1, 1344, 17, 458, 1345, 17, 163, 43, 199, 43], [5, 24, 279, 120, 16, 1, 57], [262, 33, 263, 59], [19, 98, 203, 1, 271, 49, 9, 23, 292, 17, 6, 2, 134, 126, 108, 8, 383, 298, 768, 8, 1346, 1347, 201, 101, 241, 297], [769, 10, 14, 551, 23, 61], [436, 1348, 1349], [1, 246, 22, 45, 243, 71, 174, 139], [10, 22, 191, 21, 233, 12], [46, 12, 25, 5, 7, 81, 17, 650, 1, 159, 170, 1350, 552, 553, 294, 21, 100, 629, 1351, 770, 91, 19, 600, 5], [771, 180, 20, 149, 1352], [10, 131, 84, 8, 54, 115], [92, 171, 4, 34], [6, 772, 599, 65, 19, 27, 18, 8, 173, 491, 1353], [1, 554, 37, 24, 551, 9, 1354], [36, 168, 5, 66, 113, 73, 9, 317], [42, 182, 175, 19, 152, 151, 16, 173, 1355, 1356], [2, 1357, 2, 134, 341, 1, 281, 4, 60, 181, 8, 100], [68, 10, 73, 9, 299, 603, 3, 604, 50, 21, 464, 124, 6, 11, 7, 14, 10], [33, 44, 1358], [2, 22, 191, 8, 233, 30, 12], [6, 7, 9, 347, 269, 11, 3, 47, 46, 1, 1359, 7, 1360], [52, 526, 379, 26, 62, 4, 41, 31, 1361], [737, 109, 5], [2, 24, 238, 14, 6, 37, 14, 9, 152, 62, 4, 12, 25, 77, 144, 5, 2, 180, 45, 530], [257, 34, 339, 1362, 404, 215], [2, 144, 6, 11, 26, 1363, 58, 9, 1364, 4, 86, 431, 2, 203], [10, 22, 234, 8, 206, 96], [10, 22, 234, 8, 206, 96, 51], [251, 1, 298, 44, 19, 1, 103, 4, 700, 44, 1, 773], [56, 192, 142], [8, 1365, 432, 6, 27, 115], [555, 204, 255, 61], [171, 774], [213, 24, 1, 318, 507], [2, 20, 136, 107, 236, 415, 16, 6, 1366, 4, 2, 331, 6, 11], [1, 129, 66, 149, 1367, 28], [2, 55, 3, 67, 3, 1, 217, 12], [193, 720, 7, 25], [49, 19, 109, 14, 775, 1368, 776, 14, 775], [2, 15, 33, 128, 30, 12], [1, 501, 433, 41, 177, 46, 124, 1, 54, 673, 3, 1369, 1, 777, 778, 4, 1, 540, 1370, 367, 2, 175, 1371, 6, 209, 280], [2, 70, 688, 156, 212, 26, 5, 4, 72, 1372, 646, 121], [67, 3, 1, 1373, 12, 3, 509, 21, 170], [187, 1, 103, 37, 2, 20, 148], [19, 28, 151, 14, 1, 83], [119, 307, 316, 44, 1374, 779, 7, 19, 1375, 79, 50], [304, 17, 5, 41, 104, 85, 109, 5], [38, 1, 105, 96], [10, 22, 69, 6, 153, 13, 32], [5, 24, 25, 299, 431, 3, 265, 25, 1, 348, 550, 1376, 9, 1377, 297, 3, 8, 172, 4, 18, 78, 541, 733, 692, 47], [192, 167, 17, 278], [102, 309, 427, 106, 4, 106, 6, 7, 8, 758, 43, 4, 77, 39, 780, 1378, 90], [23, 78, 170, 79, 50], [33, 206, 728, 51, 1, 188, 301, 1379, 548, 1, 57, 725], [10, 22, 74, 29, 8, 176, 146, 59], [781, 1380, 6, 7, 9, 28, 34, 54, 117, 4, 556, 19, 135, 573, 93, 5], [2, 112, 6, 150], [1, 42, 7, 286, 247, 3, 29], [41, 73, 9, 317, 41, 31, 776], [16, 8, 407, 2, 24, 427, 404, 523, 1381, 4, 78, 523, 16, 8, 1382], [1, 552, 553, 223, 545, 211, 1383, 58, 555], [2, 518, 10, 44, 356, 18, 8, 11, 119, 2, 15, 5, 12], [10, 22, 234, 8, 206, 32], [6, 1384, 466, 557, 290, 394, 11, 496, 7, 398], [694, 28, 130, 13, 92, 1385, 126, 66, 254, 1386, 73, 303, 4, 782, 4, 107], [13, 52, 162, 4, 219, 8, 1387, 1388, 284], [90, 132, 10, 20, 3, 191, 51, 3, 9, 783, 14, 1, 61], [1, 42, 41, 23], [1389, 497, 2, 39, 3, 341, 5], [36, 2, 784, 1390, 8, 100, 81, 1, 1391, 14, 344], [147, 34, 4, 61], [8, 642, 66, 1, 1392, 4, 1, 42, 7, 447], [2, 112, 6, 11, 5, 7, 13, 752, 4, 66, 9, 232, 17, 476], [272, 89, 14, 87, 43, 498, 66, 9, 400, 557, 11], [2, 166, 47, 6, 80, 119, 1, 716, 7, 1393], [48, 29, 730, 8, 241, 333], [2, 20, 3, 47, 1, 1394, 503, 493, 46, 5, 1395, 26, 192, 52], [6, 35, 7, 1396, 14, 266, 73, 29, 1397, 316, 44, 13, 1398], [86, 13, 253, 18, 8, 636], [2, 112, 6, 209], [14, 9, 35, 25, 1399, 31, 135, 31, 6, 43, 88, 2, 359, 5, 3, 27, 168, 106, 4, 18, 1400, 785, 64, 6, 150, 88], [2, 598, 460, 49, 19, 45, 1401], [28, 558, 4, 88, 19, 108, 11, 90, 1402], [2, 15, 21, 48, 76, 69, 6, 38, 12], [50, 315, 216, 337, 136, 256, 17, 47], [1403, 102, 20, 149, 761, 92, 4, 390, 26, 1, 11], [2, 15, 10, 3, 664, 29, 18, 21, 786, 30, 12, 56, 227], [103, 77, 240, 36, 168, 77, 239, 53, 190, 1404, 4, 6, 43, 66, 1, 103, 34, 14, 307, 29, 4, 1, 1405, 31, 52, 31, 785, 17, 205], [10, 22, 75, 33, 141, 12], [2, 15, 386, 3, 84, 8, 11], [86, 431, 2, 240, 6, 35, 26, 200, 5, 7, 306, 3, 242, 5, 787, 280, 508], [1, 393, 7, 23], [6, 11, 510, 161, 1406, 70, 10, 118, 5, 2, 63, 15, 3, 47, 5, 30, 12], [2, 272, 89, 6, 80], [1407, 585, 31, 559, 58, 1, 497, 44, 19, 559], [205, 50, 503, 415, 82, 30, 6, 150, 91, 19, 287, 26, 8, 57], [86, 289, 3, 38, 1, 217, 12, 2, 70, 19, 1408, 107, 64, 25, 2, 72, 13, 1409], [48, 2, 15, 6, 11, 338, 12], [94, 35, 2, 72, 13, 560, 18, 1, 155], [43, 150, 2, 331, 7, 1, 1410, 363, 788, 79, 1, 561], [1, 1411, 44, 1, 293, 1412], [23, 11], [1, 1413, 754, 2, 20, 7, 1, 42, 1414, 1415], [98, 39, 6, 9, 783, 46, 56, 113, 657, 36, 168], [262, 33, 263, 96, 51], [1, 40, 34, 14, 1, 209, 7, 732, 789, 10, 44, 16, 9, 63, 644, 536, 10, 562, 212, 344], [639, 7, 104, 790], [2, 20, 3, 1416, 1, 213, 3, 60, 5, 3, 553, 51, 30, 3, 60, 406, 207], [2, 20, 3, 111, 6, 27, 30, 12], [129, 7, 204, 4, 616, 17, 541], [314, 73, 3, 341, 5], [706, 28, 442, 508, 4, 1417, 187, 25, 347], [6, 42, 7, 101, 94, 504], [25, 695, 7, 63, 188, 70, 10, 108, 5, 260], [2, 15, 3, 84, 8, 349, 12], [10, 131, 49, 6, 27, 30, 12], [106, 64, 1418, 359], [262, 33, 263, 31, 198, 31, 250], [2, 15, 3, 84, 8, 349, 12], [2, 1419, 1, 241, 4, 240, 6, 43, 3, 45, 1, 103, 450], [237, 39, 3, 1420, 174, 473], [54, 117, 31, 52, 31, 1421, 117, 44, 559, 3, 108, 411, 10, 252, 755, 81, 17, 1422, 1423, 1424], [13, 791, 1425], [25, 323, 7, 9, 711], [28, 41, 177], [10, 22, 74, 29, 21, 194, 30, 12], [104, 63, 28, 36, 168, 517, 1, 103, 554, 37, 2, 20, 156, 39], [10, 252, 417, 68, 10, 1426, 5, 306, 151, 82, 1, 30, 617, 17, 473, 14, 1, 1427, 10, 55, 82, 19], [1, 11, 762, 549, 3, 75, 73, 53, 3, 196, 214, 792], [2, 73, 171, 4, 231, 17, 264, 1428, 1, 57, 282, 4, 1429, 7, 192, 120, 3, 225, 434, 214, 9, 437, 201, 1430, 16, 1, 57], [2, 22, 191, 8, 233, 12], [50, 5, 689, 24, 43, 373, 58, 93, 607, 1431, 548, 1, 1432, 1433, 4, 5, 24, 1434, 2, 72, 19, 218, 4, 2, 72, 19, 1435], [77, 126, 39, 170, 18, 1, 11, 793, 1, 1436, 146, 16, 145, 2, 420, 563, 5, 26, 4, 124, 137, 133], [126, 1, 11, 157, 794, 3, 637, 332, 1437, 1438, 1439, 1440, 1441, 199, 795, 1442, 469], [2, 15, 21, 48, 18, 165, 76, 125, 6, 38, 13, 32], [102, 49, 19, 268, 549, 46, 7, 19, 1443, 506, 3, 424, 142, 3, 719, 4, 1, 40, 7, 135, 106, 64, 369, 2, 20, 239], [78, 57, 1444, 1445, 56, 1446, 4, 1, 40, 7, 23], [124, 2, 380, 14, 1, 159, 11, 160, 25, 39, 1, 159, 110], [251, 554, 282, 44, 1447, 19, 28, 14, 189, 62, 773, 73, 114, 645, 1448, 277, 1, 295, 1449, 1450, 29, 51], [2, 242, 6, 1451, 4, 36, 91, 517, 45, 653, 6, 11, 4, 1452, 1453, 1454], [1, 274, 14, 26, 4, 137, 44, 132], [147, 34], [224, 271, 156, 148, 68, 2, 134, 74, 6, 1455, 570, 2, 65], [36, 429, 1456, 10, 91, 212, 433, 17, 21, 701], [6, 1457, 7, 351, 118, 5, 12], [1, 42, 1458, 291, 179], [114, 137, 1, 129, 368, 2, 20, 252, 39, 107, 64, 53, 419, 156], [2, 240, 1, 35, 3, 45, 142, 3, 363, 51, 4, 47], [2, 385, 743, 1, 381, 26, 1, 1459, 4, 2, 39, 3, 766, 1, 11, 81, 3, 563, 5, 26, 101, 137], [555, 1460, 14, 6, 61], [796, 7, 19, 169, 40, 7, 13, 1461, 4, 10, 20, 3, 1462, 116, 10, 259], [41, 23], [184, 22, 75, 33, 141, 12], [6, 11, 7, 192, 358, 4, 77, 252, 39, 87, 797, 170, 18, 5], [77, 1463, 780, 215, 119, 17, 6, 1464], [19, 121, 2, 425], [48, 70, 10, 60, 6, 11, 338, 4, 32], [367, 2, 65, 89, 6, 11, 195, 1, 95, 1465], [6, 7, 9, 23, 269, 143], [345, 11, 1466, 44, 9, 22, 20], [2, 240, 6, 35, 3, 45, 1467, 90, 245], [1, 171, 7, 13, 1468, 31, 1, 57, 522, 7, 19, 13, 120, 79, 50], [13, 253], [14, 1, 83, 6, 24, 9, 23, 401], [71, 8, 11, 144, 3, 45, 93, 9, 249, 342, 56, 149, 1469, 798, 529, 135, 355, 26, 8, 433], [8, 335, 336, 6, 27, 30, 12], [2, 63, 15, 8, 11, 338, 36, 32], [2, 527, 108, 215, 79, 1470, 1471], [52, 781, 560], [36, 104, 799], [104, 793, 26, 1, 1472, 686, 185, 10, 265, 651], [10, 60, 418, 127, 36, 25, 10, 70, 1473, 81, 1, 38, 4, 19, 60, 1474, 137], [143, 379, 179, 4, 41, 23, 18, 8, 1475, 1476, 377, 1477, 1478, 1479, 11, 4, 481, 1480, 40, 16, 57, 1481], [94, 61], [99, 24, 9, 705, 16, 1, 1482, 10, 22, 38, 14, 1483, 558, 115], [2, 24, 13, 388, 3, 619, 25, 2, 134, 424, 8, 52, 1484, 1485, 480, 14, 8, 681, 378], [1, 130, 649, 1486, 79, 101, 800, 178, 174, 1487, 1488, 1489, 25, 544, 52, 756, 1490, 17, 551, 9, 1491, 280, 1492], [769, 10, 14, 524, 8, 100], [1, 1493, 22, 45, 243, 16, 448], [226, 1494, 800, 238, 1495, 771, 18, 1496, 801, 16, 319], [2, 15, 21, 48, 76, 125, 6, 38, 13, 32], [67, 1497, 1, 802, 10, 20, 98, 1498, 127], [1499, 3, 6, 1500, 26, 325, 38, 2, 24, 738, 3, 712, 205, 6, 37], [564, 1501, 479], [37, 41, 23, 24, 526, 1502, 3, 457, 87, 1503], [1, 1504, 7, 90, 280, 14, 6, 407, 70, 10, 242, 29, 223, 43, 16, 53, 139], [2, 112, 6, 123], [1, 746, 17, 1, 282, 7, 147], [2, 15, 33, 128, 56, 13, 188], [122, 1505, 14, 1, 117, 145, 216, 198, 71, 656], [1, 1506, 271, 7, 562, 1507], [5, 7, 211, 4, 5, 635, 4, 231, 104, 31, 211], [135, 106, 64, 1, 306, 435, 366], [2, 15, 3, 67, 3, 1, 105, 13, 32], [2, 20, 39, 1508, 61, 14, 53, 82, 174, 236, 12, 4, 2, 72, 192, 140, 18, 5], [2, 15, 3, 84, 8, 349, 32], [204, 11, 1509], [6, 11, 512, 52, 45, 1, 224, 77, 156, 39, 16, 87, 1510], [41, 31, 1511], [71, 9, 249, 1, 42, 346, 286, 487, 26, 8, 37], [765, 109, 4, 91, 60, 133, 14, 1512, 8, 478, 11, 7], [2, 144, 6, 11, 313, 1, 285, 17, 803, 4, 86, 286, 804, 18, 5], [85, 138, 21, 26, 6, 43], [74, 29, 181, 25, 11, 12], [6, 35, 7, 805, 19, 320, 14, 1513, 62, 2, 85, 355, 193, 254, 5, 222, 68, 10, 166, 1514, 9, 38, 7, 631, 16, 56, 545], [5, 66, 208, 2, 15, 4, 2, 180, 602, 14, 107], [2, 15, 21, 48, 18, 165, 76, 125, 6, 38, 32], [10, 20, 3, 340, 1, 11, 79, 9, 772, 1515, 14, 1, 190, 759, 3, 212, 10, 805], [2, 55, 8, 11, 30, 12], [1516, 3, 8, 11, 201, 1517], [5, 185, 13, 1518, 1519, 1520, 164, 5, 1521, 1, 38], [99, 7, 9, 806, 727, 10, 20, 3, 807, 1, 795, 4, 713, 1, 806, 1522, 115], [173, 472, 144, 1, 257, 34, 17, 9, 123, 37, 30], [2, 225, 5, 1523, 4, 5, 441, 51, 13, 52], [23, 271, 14, 1524], [184, 22, 75, 33, 141, 30, 12], [5, 7, 764, 16, 9, 1525, 54, 79, 1526, 1527], [2, 65, 20, 505, 78, 652, 68, 2, 24, 494], [71, 174, 256, 258, 104, 346, 303, 50, 17, 9, 1528], [2, 15, 21, 48, 32], [6, 7, 9, 564, 11], [1529, 14, 1, 552, 1530, 7, 539, 4, 1, 1531, 4, 285, 1532, 44, 19, 288, 2, 359, 163, 3, 45, 174], [28, 35, 760, 450], [10, 131, 67, 3, 3, 1, 1533, 59], [1534, 485], [10, 20, 174, 139, 164, 2, 235, 181, 4, 202, 8, 11], [2, 331, 3, 265, 5, 46, 10, 44, 524, 334, 62, 4, 158, 15, 3, 67, 12, 1, 786, 91, 1535, 374, 189, 198], [8, 11, 672, 808, 19, 23, 808, 46, 8, 627, 11, 24, 562, 1536, 1537, 492, 180, 744, 9, 1538, 248, 327, 26, 5], [255, 61, 24, 204], [6, 80, 66, 1539, 1, 43, 249, 1540, 4, 154, 5, 1541, 1542, 17, 225, 5, 7, 1543, 1544], [16, 1, 1545, 17, 101, 352, 2, 39, 136, 266, 1546, 1547, 7, 25, 1, 95, 11, 26, 511], [2, 235, 195, 58, 283, 119, 1548, 66, 1549, 172, 261, 1, 114, 150, 2, 809, 24, 1, 63, 132, 61], [210, 34], [38, 1, 105, 97], [88, 19, 197], [2, 23, 129, 50, 1, 62], [10, 22, 234, 8, 206, 30, 12], [162, 13, 358], [2, 55, 21, 48, 30, 12], [23, 330], [1, 171, 512, 45, 1550, 16, 1551, 46, 2, 134, 19, 1552, 305, 33, 16, 8, 57], [5, 7, 36, 226, 4, 10, 85, 160, 1553, 25, 5, 7, 99, 71, 9, 154, 17, 427, 148, 3, 5], [158, 15, 3, 60, 99, 16, 174, 127], [2, 55, 3, 308, 33, 128, 30, 12], [10, 162, 29, 444, 90, 152, 74, 29, 8, 11, 32], [1, 413, 7, 160, 1554, 64, 2, 580, 5, 65, 45, 4, 1, 621, 44, 1555, 474], [2, 175, 588, 25, 1556, 1557, 108, 183, 158, 104, 389, 85, 1558, 151, 1559, 3, 1560, 1, 171, 195, 3, 1561], [556, 9, 237, 1562, 40, 16, 1, 779, 26, 50, 8, 215, 25, 2, 20, 252, 734, 164], [13, 1563, 61], [1564, 748, 18, 92, 1565, 4, 499, 2, 89, 10, 6, 80], [10, 131, 49, 6, 27, 59], [5, 395, 24, 19, 31, 28, 31, 8, 1566], [19, 667, 31, 28, 238, 31, 1, 200, 391, 185, 5, 231], [500, 3, 108, 9, 38, 26, 33, 7, 101, 1567, 16, 1568], [10, 15, 3, 96, 51, 1, 1569, 467, 287, 807, 434, 434, 5, 1570, 16, 1571, 127], [147, 35], [85, 109, 6, 35], [6, 7, 199, 168, 1, 224, 155, 77, 162, 26, 200], [1, 1572, 468, 1573, 7, 1574, 145, 7, 13, 188, 14, 9, 1575, 1576], [6, 11, 7, 614, 4, 301, 4, 1, 586, 7, 564], [102, 44, 36, 254], [126, 1, 536, 288, 8, 281, 216, 86, 19, 90, 1577, 17, 1, 1578, 1579], [2, 55, 3, 67, 3, 1, 105, 12], [167, 17, 589], [2, 294, 1, 1580, 1581, 26, 5, 1582, 1583, 4, 5, 12, 1584, 3, 343, 3, 9, 1585, 4, 729, 51, 325, 640, 16, 9, 154], [287, 422, 58, 6, 408, 45, 660], [10, 60, 121, 10, 191, 14, 2, 1586], [74, 29, 1, 30, 714, 12], [430, 86, 1587, 51], [423, 42, 28, 109], [23, 810], [108, 29, 9, 1588, 4, 221, 3, 8, 1589, 10, 20, 53, 127], [121, 9, 312], [565, 432, 3, 125, 811, 566, 12], [77, 39, 78, 484, 1590, 1, 241, 1591, 298, 82, 1592, 87, 17, 1, 1593], [41, 177], [10, 22, 234, 8, 206, 12], [68, 2, 202, 9, 391, 1, 42, 535, 9, 1594, 4, 1595, 1596, 1597, 29, 417, 187, 1598], [5, 812, 90, 301, 4, 632], [5, 24, 9, 23, 11], [5, 7, 9, 1599, 3, 47], [10, 22, 234, 8, 206, 12], [1600, 35], [28, 295, 34], [5, 222, 13, 92], [2, 20, 3, 111, 6, 27, 13, 32], [86, 388], [6, 7, 1601, 9, 1602, 409, 25, 88, 19, 1603], [102, 20, 149, 313, 14, 236, 4, 1604, 1, 1605, 34, 17, 1606, 1607, 258, 669, 25, 2, 20, 240, 3, 1608], [13, 211, 435, 1609, 73, 101, 342, 1610, 1611], [2, 55, 9, 1612, 115], [70, 10, 118, 6, 1613, 16, 53, 139], [124, 2, 39, 3, 1614, 514, 5, 1615, 277, 5, 1616, 385, 1617], [112, 5, 23, 1618], [2, 272, 89, 33, 4, 1619, 266, 3, 74, 163, 9, 426], [2, 225, 813, 4, 5, 219, 177, 18, 163], [224, 255, 61], [6, 35, 7, 23, 5, 185, 161, 9, 232, 421, 2, 70, 67, 3, 1, 1620, 154, 489, 26, 340, 14, 165], [2, 412, 6, 4, 337, 53, 139, 5, 24, 78, 354, 161], [68, 99, 7, 9, 791, 5, 7, 286, 247], [2, 22, 111, 6, 27, 97], [2, 126, 326, 73, 1, 26, 788, 5, 812, 73, 5, 65, 1621, 18, 47], [10, 22, 49, 6, 27, 13, 32], [6, 7, 1622], [1, 1623, 7, 175, 547, 16, 814], [28, 80], [10, 22, 84, 8, 54, 30, 12], [556, 63, 344, 132, 2, 70, 265, 93, 6, 37], [2, 63, 425, 1, 348, 550, 3, 45, 1, 30, 43, 46, 5, 66, 90, 328, 691, 14, 29, 1, 28], [2, 55, 3, 199, 6, 54, 115], [70, 10, 60, 29, 1, 747, 17, 8, 1624, 30, 12], [2, 148, 3, 259, 26, 5, 14, 178, 178, 178, 53, 214, 4, 1, 42, 65, 45, 792, 1625, 4, 447], [2, 15, 8, 11, 386], [403, 685, 179, 4, 135, 741, 64, 1, 1626], [2, 15, 6, 54, 3, 45, 338, 199, 1627], [10, 22, 75, 33, 141, 30, 12], [1, 80, 7, 9, 1628, 167, 17, 435, 4, 66, 78, 531, 82, 561, 558, 815], [1629, 27, 30, 82, 1630, 14, 29], [2, 20, 420, 148, 1631, 282, 4, 1, 1632, 58, 1, 519, 7, 13, 390], [1, 1633, 1634, 1, 40, 1635, 229, 21, 57, 4, 794, 3, 1636, 1, 40, 207, 4, 396], [10, 20, 149, 1637, 4, 1638, 2, 91, 1639, 10], [410, 1, 117, 371, 3, 27, 177], [28, 35, 28, 403], [2, 1640, 107, 64, 53, 270, 489, 14, 21, 1641, 3, 1642, 1, 1643, 7, 90, 135, 25], [2, 39, 3, 67, 3, 9, 408, 4, 122, 9, 95, 321, 11, 145, 7, 161, 23], [2, 482, 6, 35, 114, 4, 24, 804, 18, 5, 115], [2, 15, 3, 84, 8, 349, 13, 32], [5, 7, 1644, 247, 4, 203, 19, 1645, 87, 397, 17, 1646, 3, 8, 129, 71, 2, 122, 5], [2, 55, 21, 48, 13, 32], [88, 208, 5, 131, 4, 107], [757, 9, 663, 171, 774, 789, 86, 19, 205, 5, 1647, 145, 2, 85, 228, 7, 1, 80], [86, 500, 3, 341, 5, 14, 9, 542], [56, 19, 121, 5, 816, 5, 7], [91, 246, 58, 163, 133], [2, 122, 6, 42, 18, 9, 1648, 58, 200, 4, 86, 13, 140, 18, 8, 155], [6, 11, 7, 13, 32, 18, 458, 87, 397, 17, 1649, 4, 1650, 1651, 7, 1652, 260, 64, 817, 261, 2, 20, 148], [32, 61], [10, 22, 111, 6, 27, 13, 32], [5, 1653, 1654, 64, 87, 190, 496, 17, 6, 507, 1, 83, 7, 36, 210, 25, 293, 65, 228, 1, 34, 7, 547, 251, 56, 19], [50, 1, 190, 366, 77, 239, 1655, 544, 1656, 71, 9, 186, 256, 46, 6, 43, 371, 3, 45, 16, 14, 1, 152, 1657], [88, 19, 27], [2, 72, 13, 218, 18, 6, 37, 58, 348], [5, 98, 1658, 1, 11, 31, 187, 801, 209], [158, 203, 20, 9, 110, 18, 43, 35, 4, 158, 15, 179, 380, 5, 14, 374, 46, 200, 85, 380, 5], [10, 22, 69, 6, 153, 30, 12], [6, 7, 101, 94, 409, 362, 116, 1659, 18, 21, 459, 608, 194], [10, 22, 111, 6, 27, 30, 12], [68, 10, 525, 55, 9, 226, 378, 11, 231, 1660, 31, 1, 418, 1661, 1662, 44, 1663], [60, 29, 1, 1664, 777, 96], [2, 15, 12, 6, 61, 2, 72, 13, 490], [6, 7, 525, 1, 103, 123, 37, 14, 40, 34], [116, 5, 1665, 1, 42, 297, 7, 351, 4, 1, 209, 7, 546, 137], [5, 1666, 8, 172, 11, 30, 422, 116, 2, 1667, 1, 54], [486, 2, 666, 49, 19, 1668, 5, 7, 532, 187, 1669, 83, 1670], [4, 304, 17, 1, 671, 7, 1671], [132, 34], [1672, 133, 3, 200, 14, 305, 1, 818, 2, 15, 14, 9, 28, 83], [6, 24, 1673, 1674, 79, 114, 145, 717, 29, 3, 1675, 9, 300, 17, 13, 13, 188, 471], [92, 80, 296, 28, 16, 21, 290], [10, 15, 79, 440, 174, 1676, 3, 60, 3, 21, 11, 778, 58, 1, 62, 10, 114, 563, 26, 1, 11, 42, 182, 7, 1677], [23, 117], [2, 15, 21, 48, 12], [85, 138, 21, 100, 4, 62], [2, 122, 33, 1678, 2, 134, 108, 8, 123, 37, 197, 106, 46, 33, 818, 162, 5, 1679, 3, 225], [19, 28, 116, 443, 9, 1680, 82, 680], [2, 15, 21, 48, 97], [4, 1, 40, 34, 7, 23], [46, 5, 88, 60, 106, 129, 4, 396, 64, 87, 11, 77, 39, 164], [2, 144, 5, 119, 5, 24, 36, 226, 4, 742], [88, 19, 197], [68, 10, 543, 3, 47, 6, 16, 9, 54, 1681, 93, 5], [147, 259, 62, 360], [78, 1682, 57, 668, 493, 4, 78, 661, 815], [10, 22, 74, 29, 21, 194, 12], [5, 326, 75, 14, 29], [31, 328, 266, 1683, 2, 240, 6, 1684, 1685, 24, 13, 416], [2, 22, 69, 8, 27, 12], [1686, 432, 3, 125, 382, 566, 12], [2, 134, 19, 89, 33, 107], [6, 634, 15, 3, 45, 118, 16, 434, 214], [92, 34, 1687, 1688, 244, 211, 1689, 81, 99], [1690, 8, 1691, 1, 103, 11, 2, 20, 156, 39], [2, 55, 21, 48, 97], [1, 42, 7, 430, 31, 52, 31, 1, 61, 47, 1692], [5, 7, 301, 142, 3, 47, 4, 66, 13, 169, 129, 4, 1693], [10, 22, 234, 8, 206, 97], [2, 239, 1694, 189, 299, 46, 1695, 26, 1, 1696, 428, 342, 4, 2, 24, 175, 648, 5, 787, 23], [8, 565, 7, 16, 1, 105, 2, 15, 3, 60, 99, 16, 324, 127], [118, 5, 30, 12, 76], [2, 98, 212, 1697, 14, 295], [19, 532, 5], [1, 1698, 1699, 7, 273, 4, 683], [158, 275, 9, 782, 1700, 42, 25, 402, 487, 71, 9, 300, 214, 1, 322, 148, 3, 268, 9, 302, 46, 175, 453, 354, 64, 1, 310], [251, 71, 93, 9, 249, 1, 1701, 311, 3, 60, 1702, 4, 1703, 4, 1704, 8, 258, 346, 303, 4, 2, 180, 1705, 4, 319, 215], [10, 131, 84, 8, 54, 12], [1, 98, 150, 25, 2, 228, 134, 1706, 7, 1, 40, 1707, 81, 58, 1, 37], [94, 40, 34], [16, 1708, 5, 296, 1709, 222, 31, 68, 1, 11, 7, 50, 572, 211, 435], [2, 85, 355, 193, 135, 5, 477, 2, 104, 15, 5, 30, 12], [112, 6, 11], [5, 157, 27, 16, 1710, 82, 1711], [6, 1712, 50, 1, 170], [2, 15, 3, 67, 3, 1, 105, 97], [228, 5, 195, 116, 10, 543, 3, 383, 6, 43, 6, 411, 7, 1, 268, 658, 11, 14, 29], [6, 323, 75, 29, 9, 1713, 1714, 4, 175, 19, 505, 29, 8, 542, 181], [74, 29, 11, 30, 12], [6, 7, 395, 9, 22, 20, 68, 21, 1715, 88, 19, 1716, 172, 11, 1717, 154, 710], [2, 412, 6, 14, 1, 54, 117, 4, 5, 88, 19, 27], [1718, 4, 5, 41], [167, 17, 278], [1719, 3, 47, 4, 430], [2, 819, 5, 16, 98, 3, 242, 81, 19, 9, 1720, 150, 113], [2, 112, 50, 1, 476, 4, 768, 1721], [2, 275, 8, 802, 52, 337, 1, 350, 1722, 208, 24, 16, 28, 161, 246, 4, 367, 2, 72, 13, 579, 3, 20, 6, 1723], [13, 388, 18, 6, 37], [2, 24, 1724, 16, 8, 1725, 18, 1, 1726, 26, 8, 372, 4, 1, 37, 456, 339], [48, 29, 242, 1, 110, 333], [2, 65, 272, 89, 6], [102, 162, 6, 80, 90, 226, 4, 7, 13, 273, 3, 820], [2, 122, 5, 14, 8, 682, 4, 492, 39, 9, 110, 18, 1, 42], [2, 1727, 39, 170, 288, 2, 134, 19, 287, 626, 14, 107, 64, 324, 127, 164, 248, 1728], [21, 61, 7, 13, 132, 2, 72, 13, 13, 445], [565, 432, 3, 125, 811, 566, 12], [2, 15, 21, 48, 76, 69, 6, 38, 12], [147, 1729], [10, 20, 3, 84, 8, 54, 12], [68, 10, 331, 814, 457, 6, 11, 199, 50, 1730], [200, 368], [208, 93, 5, 7, 177, 4, 1731, 14, 1, 83, 2, 1732], [169, 1733, 40], [1734, 278], [2, 15, 21, 48, 483], [5, 157, 108, 10, 231, 254], [56, 539, 4, 1, 40, 34, 7, 279, 147, 1735, 18, 1, 11, 423, 82, 18, 8, 817, 582, 37, 25, 819, 229, 101, 533], [2, 55, 3, 308, 33, 128, 13, 32], [21, 335, 336, 6, 27, 12], [1, 178, 53, 1736, 1737, 130, 248, 9, 433, 17, 9, 11, 7, 442, 28], [2, 20, 3, 111, 6, 27, 97], [1, 130, 26, 1, 11, 803, 45, 148, 31, 9, 1738, 116, 1739, 314, 361, 45, 205, 9, 1740, 124, 6], [5, 296, 107, 120, 64, 293, 282, 119, 2, 225, 813, 4, 25, 428, 16, 1, 220, 1741], [86, 175, 1742, 18, 6, 11], [1743, 750], [2, 15, 21, 48, 76, 69, 6, 38, 31, 198, 31, 250], [96, 51, 4, 118, 25, 11], [709, 60, 1, 271, 3, 27, 18, 8, 449], [68, 10, 85, 242, 5, 90, 132, 31, 133, 1, 281, 521, 18, 43, 1744, 98, 2, 65, 19, 89, 6, 3, 429], [5, 66, 385, 51, 13, 52], [1745, 2, 1746, 1, 246, 70, 10, 108, 223, 43, 16, 79, 440, 178, 534], [679, 45, 238, 14, 9, 95, 330], [784, 1, 61, 24, 13, 132], [23, 80, 4, 83], [23, 35, 14, 1, 83], [10, 131, 84, 8, 54, 59], [96, 51, 2, 63, 15, 5, 30, 12], [21, 61, 7, 13, 343, 529, 1, 735, 25, 2, 327, 25, 2, 72, 13, 490], [2, 65, 89, 6], [85, 108, 1, 159, 676, 2, 203], [305, 484, 18, 207], [157, 49, 1, 292], [410, 78, 8, 1747, 7, 318, 158, 15, 3, 60, 320, 16, 267, 64, 101, 352], [68, 10, 44, 423, 767, 10, 22, 20, 6], [790, 11, 26, 9, 23, 520], [120, 92, 405, 28, 42, 182], [2, 15, 21, 48, 76, 125, 6, 38, 31, 198, 31, 250], [6, 269, 209, 66, 1748, 8, 1749, 1750, 4, 162, 8, 182, 9, 707, 232, 421], [1751, 56, 1752, 26, 531, 561, 4, 2, 112, 5], [187, 52, 1753, 4, 13, 474, 1, 400, 7, 9, 13, 92, 413], [1754, 291, 1, 736], [14, 1, 83, 26, 200, 5, 7, 101, 94, 35, 145, 2, 65, 272, 89], [10, 22, 697, 6, 319, 12, 99, 7, 9, 1755], [2, 1756, 89], [184, 22, 75, 33, 141, 59], [2, 72, 431, 2, 412, 5], [428, 9, 339, 116, 190, 283, 261, 467], [88, 19, 75, 1, 770, 796, 1757, 11], [2, 15, 21, 48, 18, 165, 76, 125, 6, 38, 12], [50, 16, 50, 86, 279, 560, 18, 6, 155], [5, 420, 1758, 81, 4, 185, 9, 567, 567, 567, 40, 124, 816, 339, 693], [2, 15, 3, 67, 3, 1, 105, 31, 198, 31, 250], [2, 72, 13, 140], [10, 22, 69, 6, 153, 12, 56, 227], [184, 24, 13, 218, 116, 289, 58, 1, 322, 42, 3, 1, 1759, 42], [2, 601, 51, 1760, 5, 26, 1, 1761, 17, 8, 1762, 82, 181, 1763, 739], [23, 35, 32, 350], [10, 131, 49, 6, 27, 13, 32], [2, 15, 1, 571, 32, 1, 753, 7, 1764], [2, 20, 122, 6, 321, 172, 11, 9, 186, 270, 414, 4, 5, 24, 9, 1765], [5, 1766, 297, 3, 1, 11, 160, 116, 5, 7, 337, 9, 300, 1767, 470, 1, 136], [2, 22, 111, 6, 27, 59], [8, 618, 24, 204, 6, 24, 8, 1768, 123, 37, 4, 154, 5, 24, 135, 107, 120, 64, 8, 268, 264, 145, 2, 1769], [1, 241, 751, 24, 177, 5, 1, 1770, 1771, 25, 5, 113], [1772], [42, 7, 204], [56, 149, 8, 810, 37, 14, 236, 23, 40, 28, 207, 28, 468, 1773], [1774, 1775, 214, 392], [1, 189, 1776, 7, 1, 207, 4, 17, 1777, 5, 798], [659, 799, 10, 134, 1778, 100, 30, 291, 1, 1779], [1, 1780, 1781, 7, 23, 1, 1782, 18, 1, 1783, 7, 13, 1784], [2, 166, 125, 1785, 201, 1, 241, 76, 118, 5, 32], [5, 219, 36, 1786, 25, 1, 57, 1787, 88, 19, 160, 15, 3, 45, 148, 4, 1, 40, 7, 106, 1788, 462, 21, 57, 1789], [10, 20, 3, 84, 8, 54, 30, 12], [2, 15, 33, 128, 59], [8, 335, 336, 6, 27, 59], [121, 1790, 29, 3, 60, 6, 278, 2, 20, 78, 821], [2, 55, 21, 48, 12], [10, 20, 3, 118, 51, 8, 11, 179], [2, 85, 20, 87, 1791, 193, 3, 49, 5, 70, 10, 76, 221, 4, 48, 29, 56, 227], [23, 11], [77, 39, 6, 123, 37, 14, 244, 62, 12, 4, 175, 19, 120, 18, 1, 220, 5, 219, 26, 1, 57], [38, 1, 217, 97], [1792, 142, 3, 820, 4, 47, 169, 40], [1, 117, 113, 14, 93, 9, 302, 4, 124, 286, 1793, 353, 8, 11], [10, 22, 38, 50, 334, 655, 12], [2, 20, 98, 39, 5, 14, 9, 186, 270, 46, 36, 168, 36, 28], [103, 17, 50, 7, 1, 1794, 515, 13, 390], [5, 7, 347, 3, 47, 4, 2, 73, 5], [2, 112, 1, 130, 56, 63, 192, 28, 34], [23, 35, 4, 83], [2, 1795, 10, 151, 62, 3, 125, 1, 292, 36, 96, 51], [121, 7, 25, 2, 72, 13, 445, 93, 21, 61, 10, 22, 516, 1, 34, 17, 21, 61], [1, 330, 26, 6, 7, 90, 797, 82, 90, 1796, 5, 1797, 1798, 81, 17, 8, 57], [2, 160, 1799, 605, 5, 164, 2, 346, 3, 1800, 4, 546, 137, 400, 557, 4, 1801, 1802, 4, 809, 25, 5, 98, 39, 538, 415, 16, 1, 1803], [121, 9, 138], [6, 7, 9, 23, 35, 411, 1804, 205, 21, 1805], [49, 10, 20, 87, 821, 193, 135, 10, 488, 8, 62, 96, 51], [252, 144, 5]]\n"
     ]
    },
    {
     "name": "stdout",
     "output_type": "stream",
     "text": [
      "[[   0    0    0 ...   49   19  109]\n",
      " [   0    0    0 ...   21  194   97]\n",
      " [   0    0    0 ...  195   75  350]\n",
      " ...\n",
      " [   0    0    0 ...  205   21 1805]\n",
      " [   0    0    0 ...   62   96   51]\n",
      " [   0    0    0 ...  252  144    5]]\n",
      "word_index :  {'the': 1, 'i': 2, 'to': 3, 'and': 4, 'it': 5, 'this': 6, 'is': 7, 'my': 8, 'a': 9, 'you': 10, 'phone': 11, 'now': 12, 'very': 13, 'for': 14, 'need': 15, 'in': 16, 'of': 17, 'with': 18, 'not': 19, 'have': 20, 'your': 21, 'must': 22, 'great': 23, 'was': 24, 'that': 25, 'on': 26, 'work': 27, 'good': 28, 'me': 29, 'right': 30, 'as': 31, 'fast': 32, 'these': 33, 'quality': 34, 'product': 35, 'so': 36, 'headset': 37, 'call': 38, 'had': 39, 'sound': 40, 'works': 41, 'battery': 42, 'one': 43, 'are': 44, 'be': 45, 'but': 46, 'use': 47, 'help': 48, 'do': 49, 'all': 50, 'up': 51, 'well': 52, '2': 53, 'car': 54, 'want': 55, \"it's\": 56, 'ear': 57, 'from': 58, 'instantly': 59, 'get': 60, 'service': 61, 'time': 62, 'really': 63, 'than': 64, 'would': 65, 'has': 66, 'go': 67, 'if': 68, 'complete': 69, 'can': 70, 'after': 71, 'am': 72, 'like': 73, 'give': 74, 'charge': 75, 'please': 76, \"i've\": 77, 'no': 78, 'at': 79, 'case': 80, 'out': 81, 'or': 82, 'price': 83, 'repair': 84, \"don't\": 85, \"i'm\": 86, 'any': 87, 'does': 88, 'recommend': 89, 'too': 90, 'will': 91, 'nice': 92, 'about': 93, 'excellent': 94, 'new': 95, 'hurry': 96, 'immediatly': 97, 'only': 98, 'there': 99, 'money': 100, 'an': 101, 'they': 102, 'best': 103, 'just': 104, 'hospital': 105, 'better': 106, 'more': 107, 'make': 108, 'buy': 109, 'problem': 110, 'prepare': 111, 'love': 112, 'worked': 113, 'first': 114, 'immediately': 115, 'when': 116, 'charger': 117, 'fix': 118, 'because': 119, 'comfortable': 120, 'what': 121, 'bought': 122, 'bluetooth': 123, 'then': 124, 'finish': 125, 'also': 126, 'minutes': 127, 'papers': 128, 'reception': 129, 'camera': 130, 'should': 131, 'bad': 132, 'again': 133, 'could': 134, 'much': 135, 'two': 136, 'off': 137, 'waste': 138, 'days': 139, 'happy': 140, 'batteries': 141, 'easy': 142, 'item': 143, 'got': 144, 'which': 145, 'card': 146, 'poor': 147, 'used': 148, 'been': 149, 'thing': 150, 'enough': 151, 'long': 152, 'mission': 153, 'while': 154, 'purchase': 155, 'ever': 156, \"doesn't\": 157, 'we': 158, 'same': 159, 'even': 160, 'working': 161, 'made': 162, 'them': 163, 'before': 164, 'something': 165, \"can't\": 166, 'piece': 167, 'far': 168, 'clear': 169, 'problems': 170, 'design': 171, 'cell': 172, 'motorola': 173, '3': 174, 'still': 175, 'credit': 176, 'fine': 177, '1': 178, 'quickly': 179, \"couldn't\": 180, 'back': 181, 'life': 182, 'headphones': 183, 'he': 184, 'makes': 185, 'few': 186, 'its': 187, 'important': 188, 'real': 189, 'other': 190, 'pay': 191, 'pretty': 192, 'how': 193, 'answer': 194, 'over': 195, '5': 196, 'fit': 197, 'soon': 198, 'by': 199, 'amazon': 200, 'without': 201, 'take': 202, 'did': 203, 'terrible': 204, 'using': 205, 'products': 206, 'volume': 207, 'everything': 208, 'device': 209, 'low': 210, 'cheap': 211, 'hear': 212, 'plug': 213, 'hours': 214, 'calls': 215, 'broke': 216, 'police': 217, 'impressed': 218, 'fits': 219, 'way': 220, 'come': 221, 'looks': 222, 'another': 223, 'worst': 224, 'wear': 225, 'small': 226, 'urgent': 227, 'think': 228, 'into': 229, 'their': 230, 'look': 231, 'lot': 232, 'bills': 233, 'provide': 234, 'came': 235, 'years': 236, 'horrible': 237, 'looking': 238, 'tried': 239, 'found': 240, 'internet': 241, 'find': 242, 'here': 243, 'some': 244, 'big': 245, 'order': 246, 'useless': 247, 'being': 248, 'year': 249, 'possible': 250, 'however': 251, 'never': 252, 'disappointed': 253, 'cool': 254, 'customer': 255, 'months': 256, 'voice': 257, 'screen': 258, 'talk': 259, 'faster': 260, 'phones': 261, 'print': 262, 'sheets': 263, 'jabra': 264, 'say': 265, 'people': 266, 'less': 267, 'last': 268, 'little': 269, 'weeks': 270, 'software': 271, 'highly': 272, 'difficult': 273, 'buttons': 274, 'received': 275, 'home': 276, 'since': 277, 'junk': 278, 'quite': 279, 'high': 280, 'unit': 281, 'headsets': 282, 'verizon': 283, 'perfectly': 284, 'end': 285, 'completely': 286, 'stay': 287, 'where': 288, 'going': 289, 'hands': 290, 'down': 291, 'job': 292, 'most': 293, 'put': 294, 'audio': 295, 'feels': 296, 'connection': 297, 'ringtones': 298, 'loud': 299, 'couple': 300, 'light': 301, 'week': 302, 'black': 303, 'none': 304, 'having': 305, 'hard': 306, 'both': 307, 'extract': 308, 'keep': 309, 'replacement': 310, 'started': 311, 'disappointment': 312, 'around': 313, \"i'd\": 314, 'three': 315, 'ears': 316, 'charm': 317, 'wrong': 318, 'place': 319, 'ready': 320, 'nokia': 321, 'original': 322, 'company': 323, '10': 324, 'every': 325, \"didn't\": 326, 'said': 327, 'many': 328, 'several': 329, 'earpiece': 330, 'hate': 331, 'anything': 332, 'asap': 333, 'our': 334, 'boss': 335, 'demand': 336, 'within': 337, 'fixed': 338, 'signal': 339, 'hold': 340, 'return': 341, 'old': 342, 'slow': 343, 'nothing': 344, 'mobile': 345, 'went': 346, 'simple': 347, 'plantronics': 348, 'motorcycle': 349, 'shipping': 350, 'broken': 351, 'hour': 352, 'charging': 353, 'longer': 354, 'care': 355, 'done': 356, 'keyboard': 357, 'sturdy': 358, 'expect': 359, 'performance': 360, 'rather': 361, 'especially': 362, 'set': 363, 'data': 364, 'those': 365, 'cases': 366, 'overall': 367, 'sucks': 368, 'others': 369, 'expected': 370, 'seems': 371, 'belt': 372, 'drop': 373, 'us': 374, 'break': 375, 'awful': 376, 'samsung': 377, 'flip': 378, 'arrived': 379, 'exchanged': 380, 'cable': 381, 'his': 382, 'own': 383, 'actually': 384, 'kept': 385, 'urgently': 386, 'request': 387, 'pleased': 388, 'obviously': 389, 'helpful': 390, 'picture': 391, 'later': 392, 'mic': 393, 'free': 394, 'definitely': 395, 'clarity': 396, 'kind': 397, 'awesome': 398, 'absolutely': 399, 'blue': 400, 'deal': 401, 'goes': 402, 'seller': 403, 'dropped': 404, 'range': 405, 'decent': 406, 'house': 407, 'store': 408, 'tool': 409, 'oh': 410, 'sure': 411, 'purchased': 412, 'color': 413, 'ago': 414, 'left': 415, 'weak': 416, 'know': 417, 'extra': 418, 'bars': 419, 'always': 420, 'easier': 421, 'away': 422, 'razr': 423, 'replace': 424, 'wanted': 425, 'try': 426, 'getting': 427, 'gets': 428, 'anyone': 429, 'unreliable': 430, 'glad': 431, 'wants': 432, 'part': 433, '24': 434, 'plastic': 435, 'poorly': 436, 'day': 437, 'agency': 438, 'disappointing': 439, 'least': 440, 'holds': 441, 'reasonably': 442, 'wearing': 443, 'wait': 444, 'angry': 445, 'stuff': 446, 'dying': 447, 'secondes': 448, 'computer': 449, 'value': 450, 'comfortably': 451, 'either': 452, 'lasts': 453, 'chargers': 454, 'crap': 455, 'lost': 456, 'avoid': 457, 'sending': 458, \"phone's\": 459, 'everyone': 460, 'palm': 461, 'through': 462, 'wife': 463, 'conversations': 464, '4': 465, 'super': 466, \"won't\": 467, 'noise': 468, 'player': 469, 'between': 470, 'contacts': 471, 'finally': 472, 'times': 473, 'sharp': 474, 'iphone': 475, 'features': 476, 'cost': 477, 'next': 478, 'though': 479, 'holster': 480, 'sony': 481, 'ordered': 482, 'promptly': 483, 'trouble': 484, 'results': 485, 'plus': 486, 'dead': 487, 'wasted': 488, 'waiting': 489, 'rushed': 490, 'q': 491, 'she': 492, 'provided': 493, 'able': 494, 'strong': 495, 'speaker': 496, 'description': 497, 'who': 498, 'comfort': 499, 'trying': 500, 'handsfree': 501, 'different': 502, 'earpieces': 503, 'bargain': 504, 'given': 505, 'expensive': 506, 'size': 507, 'priced': 508, 'solve': 509, \"isn't\": 510, 'tv': 511, 'might': 512, 'buying': 513, 'pairing': 514, 'feature': 515, 'change': 516, 'probably': 517, 'hope': 518, 'wireless': 519, 'network': 520, 'comes': 521, 'clip': 522, 'coverage': 523, 'wasting': 524, 'simply': 525, 'packaged': 526, 'cannot': 527, 'yet': 528, 'despite': 529, 'happier': 530, 'front': 531, 'worth': 532, 'lg': 533, 'minute': 534, 'drops': 535, 'area': 536, 't': 537, '20': 538, 'uncomfortable': 539, 'treo': 540, 'static': 541, 'refund': 542, 'plan': 543, 'fall': 544, 'worthless': 545, 'turned': 546, 'lacking': 547, 'above': 548, 'forever': 549, '510': 550, 'such': 551, 'bottom': 552, 'line': 553, 'bt': 554, 'sprint': 555, \"there's\": 556, 'tooth': 557, 'protection': 558, 'included': 559, 'satisfied': 560, 'side': 561, 'almost': 562, 'turn': 563, 'beautiful': 564, 'mom': 565, 'business': 566, 'beep': 567, 'push': 568, 'laptop': 569, 'stars': 570, 'ticket': 571, 'lightweight': 572, 'reviews': 573, 'hand': 574, 'figure': 575, 'docking': 576, 'station': 577, 'under': 578, 'excited': 579, 'thought': 580, '60': 581, 'wired': 582, 'consumer': 583, 'bit': 584, 'stated': 585, 'display': 586, 'files': 587, 'maintain': 588, 'trash': 589, 'leaving': 590, 'notice': 591, 'play': 592, 'tracfone': 593, 'user': 594, 'friendly': 595, 'etc': 596, 'easily': 597, 'advise': 598, 'model': 599, 'support': 600, 'ended': 601, 'ask': 602, 'buzzing': 603, 'override': 604, 'charged': 605, 'cellphone': 606, '6': 607, 'auto': 608, 'keypad': 609, 'turns': 610, 'seconds': 611, 'ring': 612, 'technology': 613, 'slim': 614, 'jawbone': 615, 'full': 616, 'number': 617, 'experience': 618, 'see': 619, 'spring': 620, 'graphics': 621, 'match': 622, 'holding': 623, 'inside': 624, 'accessory': 625, 'connected': 626, \"wife's\": 627, 'pocket': 628, 'somewhere': 629, 'doing': 630, 'coming': 631, 'tinny': 632, 'echo': 633, 'tablet': 634, 'feel': 635, 'decision': 636, 'accept': 637, 'usb': 638, 'w810i': 639, 'once': 640, 'thats': 641, 'father': 642, 'series': 643, 'quiet': 644, 'person': 645, 'saying': 646, 'receiving': 647, 'told': 648, 'although': 649, 'warranty': 650, 'wow': 651, 'star': 652, 'returning': 653, 'pc': 654, 'customers': 655, 'purchasing': 656, 'flawlessly': 657, 'moto': 658, 'buyer': 659, 'careful': 660, 'instructions': 661, 'were': 662, 'huge': 663, 'connect': 664, 'dialing': 665, 'seriously': 666, 'nearly': 667, 'gels': 668, 'protector': 669, 'making': 670, 'tones': 671, 'sounded': 672, 'tries': 673, 'ability': 674, 'pad': 675, 'mistake': 676, 'placed': 677, 'embarrassing': 678, \"i'll\": 679, 'sunglasses': 680, 'blackberry': 681, 'mother': 682, 'cumbersome': 683, 'video': 684, 'shipped': 685, 'alone': 686, '48': 687, 'barely': 688, 'took': 689, 'room': 690, 'issues': 691, 'normal': 692, 'failed': 693, 'pros': 694, 'file': 695, 'purpose': 696, 'quit': 697, 'owned': 698, 'rocks': 699, 'neither': 700, 'conversation': 701, 'effect': 702, 'certainly': 703, 'functionality': 704, 'fire': 705, 'sounds': 706, 'whole': 707, 'family': 708, 'cant': 709, 'driving': 710, 'joke': 711, 'stop': 712, 'close': 713, 'location': 714, 'drive': 715, 'smell': 716, 'caused': 717, 'died': 718, 'operate': 719, 'stupid': 720, 'market': 721, 'unfortunately': 722, 'recharge': 723, 'wall': 724, 'outlet': 725, 'pda': 726, 'leak': 727, 'cover': 728, 'lock': 729, 'fixing': 730, 'amazed': 731, 'unacceptable': 732, 'during': 733, 'experienced': 734, 'fact': 735, 'drain': 736, 'dont': 737, 'forced': 738, 'instead': 739, 'pair': 740, 'cheaper': 741, 'adorable': 742, 'catching': 743, 'understand': 744, 'lasting': 745, 'construction': 746, 'rest': 747, 'leather': 748, 'review': 749, 'frequently': 750, 'access': 751, 'handy': 752, 'show': 753, 'complaint': 754, 'run': 755, 'below': 756, \"that's\": 757, 'third': 758, 'party': 759, 'incredible': 760, 'extremely': 761, 'takes': 762, 'ipod': 763, 'unusable': 764, 'fantastic': 765, 'pull': 766, 'owner': 767, 'form': 768, 'thank': 769, 'cingular': 770, 'setup': 771, 'particular': 772, 'games': 773, 'flaw': 774, 'd807': 775, 'advertised': 776, 'address': 777, 'book': 778, 'background': 779, 'numerous': 780, 'im': 781, 'white': 782, 'month': 783, 'basically': 784, 'ease': 785, 'manager': 786, \"wasn't\": 787, 'button': 788, 'unless': 789, 'superb': 790, 'wind': 791, 'literally': 792, 'reading': 793, 'seem': 794, 'windows': 795, 'att': 796, 'large': 797, 'breaking': 798, 'beware': 799, 'impressive': 800, 'storage': 801, 'orders': 802, 'may': 803, 'unhappy': 804, 'clearly': 805, 'gas': 806, 'open': 807, 'ok': 808, 'noticed': 809, 'choice': 810, 'her': 811, 'felt': 812, 'glasses': 813, 'earbuds': 814, 'whatsoever': 815, 'says': 816, 'previous': 817, 'things': 818, 'plugged': 819, 'install': 820, 'idea': 821, 'warning': 822, 'rip': 823, 'aggravating': 824, 'constructed': 825, 'menus': 826, 'navigate': 827, 'recessed': 828, 'gave': 829, 'solde': 830, 'read': 831, \"other's\": 832, \"haven't\": 833, 'speakerphone': 834, 'current': 835, 'cellphones': 836, 'planning': 837, 'entire': 838, 'post': 839, 'conditions': 840, 'tremendous': 841, 'cute': 842, 'speek': 843, 'batterie': 844, 'parents': 845, 'nano': 846, 'son': 847, 'dissapointed': 848, '350': 849, 'jabra350': 850, 'meeting': 851, 'lap': 852, 'h500': 853, 'upbeat': 854, 'worthwhile': 855, 'usefulness': 856, 'igo': 857, 'tips': 858, '13': 859, 'bucks': 860, 'chinese': 861, 'weight': 862, 'hardly': 863, 'buds': 864, 'music': 865, 'website': 866, 'activate': 867, 'linksys': 868, 'exchange': 869, 'refurb': 870, 'restored': 871, 'pads': 872, 'happened': 873, 'tracking': 874, 'faceplates': 875, 'elegant': 876, 'note': 877, 'appearance': 878, 'bland': 879, 'loves': 880, 'along': 881, 'aluminum': 882, 'vx': 883, 'protected': 884, 'handheld': 885, 'tech': 886, 'walked': 887, 'procedures': 888, 're': 889, 'wiping': 890, 'hybrid': 891, 'palmtop': 892, 'excels': 893, 'roles': 894, 'investment': 895, 'counterfeit': 896, 'overnight': 897, 'regret': 898, 'wallet': 899, 'type': 900, 'startac': 901, 'regretted': 902, 'shield': 903, 'incrediable': 904, 'reverse': 905, 'tape': 906, 'check': 907, 'mail': 908, 'night': 909, 'backlight': 910, 'message': 911, 'tone': 912, 'soyo': 913, 'alarm': 914, 'clock': 915, 'removing': 916, 'slide': 917, 'grip': 918, 'prevents': 919, 'slipping': 920, 'electronic': 921, 'compromise': 922, 'qwerty': 923, 'basic': 924, 'buyers': 925, 'remorse': 926, 'divice': 927, 'four': 928, 'latch': 929, 'visor': 930, 'supposedly': 931, '375': 932, 'apparently': 933, 'secure': 934, 'keeping': 935, 'sizes': 936, 'sent': 937, 'manufacturer': 938, 'hs850': 939, 'whether': 940, 'quikly': 941, 'backpack': 942, 'sam': 943, 'managed': 944, 'bend': 945, 'leaf': 946, 'metal': 947, 'stress': 948, 'performed': 949, 'muffled': 950, 'incoming': 951, 'severe': 952, 'motor': 953, 'control': 954, 'center': 955, 'voltage': 956, 'humming': 957, 'equipment': 958, 'photo': 959, 'ad': 960, 'videos': 961, 'ericson': 962, 'z500a': 963, 'cassette': 964, 'ca': 965, '42': 966, 'mentioned': 967, 'ericsson': 968, 'drugs': 969, 'forthwith': 970, 'bmw': 971, 'fairly': 972, 'hearing': 973, 'peachy': 974, 'keen': 975, 'earset': 976, 'outgoing': 977, 'appears': 978, 'outperform': 979, 'china': 980, 'v325i': 981, 'stuck': 982, 'max': 983, 'mute': 984, 'contacted': 985, 'produce': 986, 'receipt': 987, 'luck': 988, '2005': 989, 's710a': 990, 'five': 991, 'combination': 992, 'ipods': 993, '12': 994, 'leave': 995, 'kick': 996, 'dissapointing': 997, 'contact': 998, 'finished': 999, 'needless': 1000, 'iam': 1001, 'jx': 1002, 'perfect': 1003, 'ps3': 1004, 'allows': 1005, 'mini': 1006, 'puff': 1007, 'smoke': 1008, 'beat': 1009, 'r': 1010, 'sweetest': 1011, 'recognition': 1012, 'thru': 1013, 'handset': 1014, 'bt250v': 1015, '325': 1016, 'worn': 1017, 'gadgets': 1018, 'mechanic': 1019, 'air': 1020, 'conditioner': 1021, 'displeased': 1022, 'cheapy': 1023, 'lots': 1024, 'allot': 1025, 'clearer': 1026, 'reccommend': 1027, 'hey': 1028, 'pleasantly': 1029, 'suprised': 1030, 'waterproof': 1031, 'fails': 1032, 'sold': 1033, 'key': 1034, 'lit': 1035, 'websites': 1036, 'rating': 1037, 'cutouts': 1038, 'saggy': 1039, 'floppy': 1040, 'mostly': 1041, 'child': 1042, 'era': 1043, 'texas': 1044, 'winner': 1045, 'linking': 1046, '8530': 1047, 'curve': 1048, 'ant': 1049, 'reversible': 1050, 'clicks': 1051, 'wonder': 1052, 'mechanism': 1053, 'pressing': 1054, 'steer': 1055, 'genuine': 1056, 'pens': 1057, 'pack': 1058, 'understanding': 1059, 'patient': 1060, 'save': 1061, 'specially': 1062, 'face': 1063, 'film': 1064, 'inexpensive': 1065, 'impotant': 1066, 'spot': 1067, \"mother's\": 1068, 'gotten': 1069, 'defect': 1070, 'risk': 1071, 'built': 1072, 'volcano': 1073, 'explode': 1074, 'dirty': 1075, 'devices': 1076, 'roam': 1077, 'living': 1078, 'girl': 1079, 'complain': 1080, 'wake': 1081, 'units': 1082, 'logitech': 1083, 'browser': 1084, 'offers': 1085, 'options': 1086, 'needs': 1087, 'dual': 1088, 'numbers': 1089, 'sim': 1090, 'entertainment': 1091, 'communication': 1092, 'management': 1093, 'activesync': 1094, 'optimal': 1095, 'synchronization': 1096, '18': 1097, 'aspect': 1098, 'balance': 1099, 'virgin': 1100, 'improvement': 1101, 'trunk': 1102, 'carried': 1103, 'hitch': 1104, 'forgot': 1105, 'mention': 1106, 'weird': 1107, 'apartment': 1108, 'kindle': 1109, 'loved': 1110, 'average': 1111, 'operates': 1112, 'funny': 1113, 'seemed': 1114, 'sketchy': 1115, \"wouldn't\": 1116, 'stops': 1117, 'ringing': 1118, 'intermittently': 1119, 'top': 1120, 'causing': 1121, 'discomfort': 1122, 'originally': 1123, 'discarded': 1124, 'scratched': 1125, 'truly': 1126, '2mp': 1127, 'pics': 1128, 'los': 1129, 'angeles': 1130, 'sucked': 1131, 'avoiding': 1132, 'usually': 1133, 'loudest': 1134, 'setting': 1135, 'thumbs': 1136, 'magical': 1137, 'deaf': 1138, 'securly': 1139, 'skype': 1140, 'ugly': 1141, 'medecine': 1142, 'rubber': 1143, 'petroleum': 1144, 'unbearable': 1145, 'activated': 1146, 'suddenly': 1147, 'krusell': 1148, 'interface': 1149, 'decade': 1150, 'compete': 1151, 'designs': 1152, 'cradles': 1153, 'kits': 1154, 'loops': 1155, 'material': 1156, 'seen': 1157, 'electricity': 1158, 'tungsten': 1159, 'e2': 1160, '4s': 1161, 'connecting': 1162, 'multiple': 1163, 'power': 1164, 'sources': 1165, 'imac': 1166, 'external': 1167, 'water': 1168, 'plumber': 1169, 'bother': 1170, 'excrutiatingly': 1171, 'whine': 1172, 'drawback': 1173, 'mp3': 1174, 'let': 1175, 'pause': 1176, 'skip': 1177, 'songs': 1178, 'penny': 1179, 'defeats': 1180, 'shifting': 1181, 'bubbling': 1182, 'peeling': 1183, 'scratch': 1184, 'droid': 1185, 'quick': 1186, 'arrival': 1187, 'fraction': 1188, 'reform': 1189, 'delivery': 1190, 'integrated': 1191, 'seamlessly': 1192, 'anywhere': 1193, 'wash': 1194, 'vx9900': 1195, 'env': 1196, 'rests': 1197, 'lightly': 1198, 'against': 1199, 'ones': 1200, 'properly': 1201, 'snap': 1202, 'stereo': 1203, '2160': 1204, 'refused': 1205, 'upgrade': 1206, 'discount': 1207, 'cheaply': 1208, 'usable': 1209, 'world': 1210, 'useful': 1211, 'machine': 1212, 'neat': 1213, 'gadget': 1214, 'liked': 1215, 'boy': 1216, 'frog': 1217, 'eye': 1218, 'smoking': 1219, 'shortcut': 1220, 'friends': 1221, \"verizon's\": 1222, 'pricing': 1223, 'plans': 1224, 'muddy': 1225, 'casing': 1226, \"wire's\": 1227, 'insert': 1228, 'glued': 1229, 'slid': 1230, 'research': 1231, 'development': 1232, 'division': 1233, 'knows': 1234, \"they're\": 1235, 'calendar': 1236, 'sync': 1237, 'closest': 1238, 'rent': 1239, 'today': 1240, 'unsatisfactory': 1241, 'sanyo': 1242, 'survived': 1243, 'dozens': 1244, 'blacktop': 1245, 'ill': 1246, 'embarassing': 1247, 'hurt': 1248, 'tied': 1249, '45': 1250, 'major': 1251, 'mind': 1252, 'gonna': 1253, 'health': 1254, 'condition': 1255, 'requires': 1256, 'doctor': 1257, 'colleague': 1258, 'engineered': 1259, 'clever': 1260, 'mine': 1261, 'christmas': 1262, 'late': 1263, 'seperated': 1264, 'mere': 1265, 'ft': 1266, 'excessive': 1267, 'garbled': 1268, 'painting': 1269, 'pitiful': 1270, 'respect': 1271, 'saved': 1272, 'alot': 1273, 'refuse': 1274, 'convenient': 1275, 'ride': 1276, 'smoother': 1277, 'negatively': 1278, 'starter': 1279, 'adapters': 1280, '7': 1281, 'ordering': 1282, 'snug': 1283, 'sides': 1284, '2000': 1285, 'fool': 1286, 'timely': 1287, 'shipment': 1288, 'detachable': 1289, 'touch': 1290, 'standard': 1291, 'fulfills': 1292, 'requirements': 1293, 'effects': 1294, 'together': 1295, 'restart': 1296, '680': 1297, 'upload': 1298, '3o': 1299, 'study': 1300, 'interested': 1301, 'sins': 1302, 'industrial': 1303, 'exactly': 1304, 'instruction': 1305, 'manual': 1306, 'dude': 1307, 'bus': 1308, 'argument': 1309, 'adhesive': 1310, 'wise': 1311, 'pleather': 1312, \"you'll\": 1313, 'thin': 1314, 'server': 1315, 'earlier': 1316, 'noted': 1317, 'happens': 1318, 'mess': 1319, 'cables': 1320, 'bougth': 1321, 'l7c': 1322, 'dit': 1323, '5320': 1324, 'solid': 1325, 'excelent': 1326, 'complaints': 1327, 'regarding': 1328, 'electronics': 1329, 'available': 1330, 'fm': 1331, 'transmitters': 1332, 'continues': 1333, 'flawed': 1334, 'pasport': 1335, 'couldnt': 1336, 'earphone': 1337, 'colors': 1338, 'clean': 1339, 'min': 1340, 'dozen': 1341, 'hundred': 1342, 'imagine': 1343, 'fun': 1344, 'each': 1345, 'existing': 1346, 'cds': 1347, 'construct': 1348, 'hinge': 1349, 'recur': 1350, 'else': 1351, 'simpler': 1352, 'smartphone': 1353, 'disappoinment': 1354, 'razor': 1355, 'v3i': 1356, 'wish': 1357, 'fabulous': 1358, 'breakage': 1359, 'unacceptible': 1360, 'intended': 1361, 'strength': 1362, 'reccomendation': 1363, 'relative': 1364, 'sister': 1365, 'contract': 1366, 'generally': 1367, 'wrongly': 1368, 'download': 1369, 'reboots': 1370, 'rate': 1371, 'constantly': 1372, 'municipality': 1373, 'occupied': 1374, 'distracting': 1375, 'maintains': 1376, 'flawless': 1377, 'palms': 1378, 'sensor': 1379, 'surprised': 1380, 'upstairs': 1381, 'basement': 1382, 'gimmick': 1383, 'blueant': 1384, 'pictures': 1385, 'styles': 1386, 'surefire': 1387, 'gx2': 1388, 'improper': 1389, 'threw': 1390, 'window': 1391, 'v265': 1392, 'disgusting': 1393, 'smallest': 1394, 'stays': 1395, 'ideal': 1396, 'whose': 1397, 'sensitive': 1398, 'costs': 1399, 'greater': 1400, 'fooled': 1401, 'bulky': 1402, 'lately': 1403, 'bluetooths': 1404, 'listener': 1405, 'anymore': 1406, 'items': 1407, 'bear': 1408, 'accelerated': 1409, 'mode': 1410, 'commercials': 1411, 'misleading': 1412, 'biggest': 1413, 'drains': 1414, 'superfast': 1415, 'jiggle': 1416, 'effective': 1417, \"you'd\": 1418, 'searched': 1419, 'switch': 1420, 'ac': 1421, 'juice': 1422, 'highy': 1423, 'recommended': 1424, 'resistant': 1425, 'pushed': 1426, 'function': 1427, 'behing': 1428, '5020': 1429, 'pain': 1430, 'inches': 1431, 'kitchen': 1432, 'counter': 1433, 'cracked': 1434, 'laughing': 1435, 'memory': 1436, 'except': 1437, 'cbr': 1438, 'mp3s': 1439, 'preferably': 1440, 'ripped': 1441, 'media': 1442, 'overly': 1443, 'loop': 1444, 'needed': 1445, 'tiny': 1446, 'currently': 1447, 'shooters': 1448, 'delay': 1449, 'messes': 1450, 'inexcusable': 1451, 'perhaps': 1452, 'changing': 1453, 'carriers': 1454, 'zero': 1455, 'near': 1456, 'pipe': 1457, 'runs': 1458, 'seat': 1459, 'charges': 1460, 'distorted': 1461, 'yell': 1462, 'missed': 1463, 'reason': 1464, 'walkman': 1465, 'tools': 1466, 'waaay': 1467, 'odd': 1468, 'slowly': 1469, 'certain': 1470, 'places': 1471, 'specs': 1472, 'carry': 1473, 'cut': 1474, 'metro': 1475, 'pcs': 1476, 'sch': 1477, 'r450': 1478, 'slider': 1479, 'premium': 1480, 'plugs': 1481, 'neighborhood': 1482, 'civil': 1483, 'travled': 1484, 'swivel': 1485, 'rated': 1486, 'megapixels': 1487, 'renders': 1488, 'images': 1489, 'expectations': 1490, 'relatively': 1491, 'resolution': 1492, 'ambulance': 1493, 'sleek': 1494, 'practical': 1495, 'ample': 1496, 'deliver': 1497, '30': 1498, 'due': 1499, 'happening': 1500, 'styling': 1501, 'nicely': 1502, 'damage': 1503, 'bill': 1504, 'mainly': 1505, 'accompanied': 1506, 'brilliant': 1507, 'tmobile': 1508, 'holder': 1509, 'brand': 1510, 'described': 1511, 'whatever': 1512, 'prime': 1513, 'tell': 1514, 'angle': 1515, 'linked': 1516, 'effort': 1517, 'strange': 1518, 'ticking': 1519, 'noises': 1520, 'ends': 1521, 'cylinder': 1522, 'everyday': 1523, 'motorolas': 1524, 'moving': 1525, 'freeway': 1526, 'speed': 1527, 'sudden': 1528, 'reaching': 1529, 'row': 1530, 'send': 1531, 'keys': 1532, 'bank': 1533, 'disapointing': 1534, 'visit': 1535, 'totally': 1536, 'unintelligible': 1537, 'word': 1538, 'passed': 1539, 'mark': 1540, 'shows': 1541, 'signs': 1542, '100': 1543, 'functional': 1544, 'span': 1545, 'exclaim': 1546, 'whoa': 1547, 'singulair': 1548, 'nicer': 1549, 'ergonomic': 1550, 'theory': 1551, 'stand': 1552, 'realize': 1553, 'prettier': 1554, 'incredibly': 1555, 'monkeys': 1556, \"shouldn't\": 1557, 'share': 1558, 'dna': 1559, 'copy': 1560, 'humans': 1561, 'tick': 1562, 'prompt': 1563, 'authentic': 1564, 'shine': 1565, 's11': 1566, 'exercise': 1567, 'frustration': 1568, 'shop': 1569, 'closing': 1570, '17': 1571, 'bose': 1572, 'cancelling': 1573, 'amazing': 1574, 'nyc': 1575, 'commuter': 1576, 'fond': 1577, 'magnetic': 1578, 'strap': 1579, 'latest': 1580, 'os': 1581, 'v1': 1582, '15g': 1583, 'likes': 1584, 'crawl': 1585, 'guess': 1586, 'giving': 1587, 'coffee': 1588, 'office': 1589, 'accessing': 1590, 'downloading': 1591, 'performing': 1592, 'functions': 1593, 'bar': 1594, 'starts': 1595, 'beeping': 1596, 'letting': 1597, 'dieing': 1598, 'joy': 1599, 'lousy': 1600, 'essentially': 1601, 'communications': 1602, 'communicate': 1603, 'carries': 1604, 'highest': 1605, 'anti': 1606, 'glare': 1607, 'date': 1608, 'creaks': 1609, 'wooden': 1610, 'floor': 1611, 'gardener': 1612, 'watch': 1613, 'continue': 1614, 'periodically': 1615, 'somehow': 1616, 'dropping': 1617, 'armband': 1618, 'encourage': 1619, 'copier': 1620, 'crack': 1621, 'infuriating': 1622, 'ngage': 1623, 'toolbox': 1624, 'drained': 1625, 'competitors': 1626, 'tomorrow': 1627, 'flimsy': 1628, 'wont': 1629, 'atleast': 1630, 'corded': 1631, 'freedom': 1632, 'eargels': 1633, 'channel': 1634, 'directly': 1635, 'increase': 1636, 'deceptive': 1637, 'fraud': 1638, 'sue': 1639, 'spent': 1640, 'technicians': 1641, 'correct': 1642, 'failure': 1643, 'practically': 1644, 'add': 1645, 'boost': 1646, 'correctly': 1647, 'coupon': 1648, 'messages': 1649, 'web': 1650, 'browsing': 1651, 'significantly': 1652, 'plays': 1653, 'louder': 1654, 'normally': 1655, 'apart': 1656, 'haul': 1657, 'recognizes': 1658, 'paired': 1659, 'elsewhere': 1660, 'bells': 1661, 'whistles': 1662, 'mediocre': 1663, 'email': 1664, 'opens': 1665, 'finds': 1666, 'enter': 1667, 'believe': 1668, 'steep': 1669, 'point': 1670, 'acceptable': 1671, 'thanks': 1672, 'utterly': 1673, 'confusing': 1674, 'lose': 1675, 'mins': 1676, 'short': 1677, 'hoping': 1678, 'impossible': 1679, 'hat': 1680, 'forget': 1681, 'additional': 1682, 'complained': 1683, \"headset's\": 1684, 'microphone': 1685, 'dad': 1686, 'build': 1687, 'unlike': 1688, 's': 1689, 'o': 1690, 'gosh': 1691, 'antena': 1692, 'transmission': 1693, 'talking': 1694, 'shouting': 1695, 'telephone': 1696, 'garbage': 1697, 'update': 1698, 'procedure': 1699, 'colored': 1700, 'fliptop': 1701, 'loose': 1702, 'wobbly': 1703, 'eventually': 1704, 'receive': 1705, 'improve': 1706, 'leaks': 1707, 'addition': 1708, 'amp': 1709, 'europe': 1710, 'asia': 1711, 'fixes': 1712, 'restocking': 1713, 'fee': 1714, 'state': 1715, 'allow': 1716, 'usage': 1717, 'portable': 1718, 'awkward': 1719, 'darn': 1720, 'factor': 1721, 'timeframe': 1722, 'source': 1723, 'sitting': 1724, 'vehicle': 1725, 'cradle': 1726, 'recently': 1727, 'disconnected': 1728, 'reliability': 1729, 'means': 1730, 'reasonable': 1731, 'e': 1732, 'crisp': 1733, 'absolutel': 1734, 'compared': 1735, 'mega': 1736, 'pixel': 1737, 'dustpan': 1738, 'indoors': 1739, 'disposable': 1740, 'sometimes': 1741, 'infatuated': 1742, 'freezes': 1743, 'earpad': 1744, 'oops': 1745, 'droped': 1746, 'timer': 1747, 'transformed': 1748, 'organizational': 1749, 'capability': 1750, 'yes': 1751, 'shiny': 1752, 'designed': 1753, '50': 1754, 'theft': 1755, 'definitly': 1756, '8525': 1757, 'cuts': 1758, 'extended': 1759, 'sliding': 1760, 'edge': 1761, 'pants': 1762, 'pockets': 1763, 'starting': 1764, 'nightmare': 1765, 'looses': 1766, 'feet': 1767, 'fourth': 1768, 'hated': 1769, 'rare': 1770, 'instance': 1771, 'hello': 1772, 'cancellation': 1773, 'returned': 1774, '8': 1775, 'killer': 1776, 'course': 1777, 'flush': 1778, 'toilet': 1779, 'loudspeaker': 1780, 'option': 1781, 'bumpers': 1782, 'lights': 1783, 'appealing': 1784, 'programing': 1785, 'securely': 1786, 'hook': 1787, 'directed': 1788, 'canal': 1789, 'possesed': 1790, 'clue': 1791, 'otherwise': 1792, 'stopped': 1793, 'rotating': 1794, 'gived': 1795, 'heavy': 1796, 'keeps': 1797, 'falling': 1798, 'fully': 1799, 'bed': 1800, 'wi': 1801, 'fi': 1802, 'morning': 1803, 'beats': 1804, 'fingers': 1805}\n"
     ]
    }
   ],
   "source": [
    "import os\n",
    "from keras.preprocessing.sequence import pad_sequences\n",
    "max_words = 2000\n",
    "max_len = 25\n",
    "tok = Tokenizer(num_words=max_words)\n",
    "tok.fit_on_texts(X_train)\n",
    "sequences = tok.texts_to_sequences(X_train)\n",
    "print(sequences)\n",
    "sequences_matrix = sequence.pad_sequences(sequences,maxlen=max_len)\n",
    "print(sequences_matrix)\n",
    "print('word_index : ',tok.word_index)"
   ]
  },
  {
   "cell_type": "code",
   "execution_count": 7,
   "metadata": {},
   "outputs": [],
   "source": [
    "def RNN():\n",
    "    inputs = Input(name='inputs',shape=[max_len])\n",
    "    layer = Embedding(max_words,50,input_length=max_len)(inputs)\n",
    "    layer = LSTM(64)(layer)\n",
    "    layer = Dense(256,name='FC1')(layer)\n",
    "    layer = Activation('relu')(layer)\n",
    "    layer = Dropout(0.5)(layer)\n",
    "    layer = Dense(1,name='out_layer')(layer)\n",
    "    layer = Activation('sigmoid')(layer)\n",
    "    model = Model(inputs=inputs,outputs=layer)\n",
    "    return model"
   ]
  },
  {
   "cell_type": "code",
   "execution_count": 8,
   "metadata": {},
   "outputs": [
    {
     "name": "stdout",
     "output_type": "stream",
     "text": [
      "_________________________________________________________________\n",
      "Layer (type)                 Output Shape              Param #   \n",
      "=================================================================\n",
      "inputs (InputLayer)          (None, 25)                0         \n",
      "_________________________________________________________________\n",
      "embedding_1 (Embedding)      (None, 25, 50)            100000    \n",
      "_________________________________________________________________\n",
      "lstm_1 (LSTM)                (None, 64)                29440     \n",
      "_________________________________________________________________\n",
      "FC1 (Dense)                  (None, 256)               16640     \n",
      "_________________________________________________________________\n",
      "activation_1 (Activation)    (None, 256)               0         \n",
      "_________________________________________________________________\n",
      "dropout_1 (Dropout)          (None, 256)               0         \n",
      "_________________________________________________________________\n",
      "out_layer (Dense)            (None, 1)                 257       \n",
      "_________________________________________________________________\n",
      "activation_2 (Activation)    (None, 1)                 0         \n",
      "=================================================================\n",
      "Total params: 146,337\n",
      "Trainable params: 146,337\n",
      "Non-trainable params: 0\n",
      "_________________________________________________________________\n"
     ]
    }
   ],
   "source": [
    "model = RNN()\n",
    "model.summary()\n",
    "model.compile(loss='binary_crossentropy',optimizer=RMSprop(),metrics=['accuracy'])"
   ]
  },
  {
   "cell_type": "code",
   "execution_count": 9,
   "metadata": {},
   "outputs": [
    {
     "name": "stdout",
     "output_type": "stream",
     "text": [
      "Train on 923 samples, validate on 231 samples\n",
      "Epoch 1/10\n",
      "923/923 [==============================] - 1s 1ms/step - loss: 0.6457 - acc: 0.6934 - val_loss: 0.5678 - val_acc: 0.7100\n",
      "Epoch 2/10\n",
      "923/923 [==============================] - 0s 226us/step - loss: 0.5081 - acc: 0.7194 - val_loss: 0.5670 - val_acc: 0.7100\n",
      "Epoch 3/10\n",
      "923/923 [==============================] - 0s 244us/step - loss: 0.3936 - acc: 0.8104 - val_loss: 0.3153 - val_acc: 0.8139\n",
      "Epoch 4/10\n",
      "923/923 [==============================] - 0s 248us/step - loss: 0.2202 - acc: 0.9415 - val_loss: 0.1944 - val_acc: 0.9437\n",
      "Epoch 5/10\n",
      "923/923 [==============================] - 0s 241us/step - loss: 0.1098 - acc: 0.9751 - val_loss: 0.1593 - val_acc: 0.9567\n",
      "Epoch 6/10\n",
      "923/923 [==============================] - 0s 253us/step - loss: 0.0572 - acc: 0.9978 - val_loss: 0.1177 - val_acc: 0.9697\n",
      "Epoch 7/10\n",
      "923/923 [==============================] - 0s 249us/step - loss: 0.0462 - acc: 0.9881 - val_loss: 0.1229 - val_acc: 0.9697\n"
     ]
    },
    {
     "data": {
      "text/plain": [
       "<keras.callbacks.History at 0x4526f24a20>"
      ]
     },
     "execution_count": 9,
     "metadata": {},
     "output_type": "execute_result"
    }
   ],
   "source": [
    "model.fit(sequences_matrix,Y_train,batch_size=128,epochs=10,\n",
    "          validation_split=0.2,callbacks=[EarlyStopping(monitor='val_loss',min_delta=0.0001)])"
   ]
  },
  {
   "cell_type": "code",
   "execution_count": 10,
   "metadata": {},
   "outputs": [],
   "source": [
    "test_sequences = tok.texts_to_sequences(X_test)\n",
    "test_sequences_matrix = sequence.pad_sequences(test_sequences,maxlen=max_len)\n",
    "pred = model.predict(test_sequences_matrix)"
   ]
  },
  {
   "cell_type": "code",
   "execution_count": 11,
   "metadata": {},
   "outputs": [
    {
     "name": "stdout",
     "output_type": "stream",
     "text": [
      "204/204 [==============================] - 0s 98us/step\n"
     ]
    }
   ],
   "source": [
    "accr = model.evaluate(test_sequences_matrix,Y_test)"
   ]
  },
  {
   "cell_type": "code",
   "execution_count": 12,
   "metadata": {},
   "outputs": [
    {
     "name": "stdout",
     "output_type": "stream",
     "text": [
      "Test set\n",
      "  Loss: 0.041\n",
      "  Accuracy: 0.990\n"
     ]
    }
   ],
   "source": [
    "print('Test set\\n  Loss: {:0.3f}\\n  Accuracy: {:0.3f}'.format(accr[0],accr[1]))"
   ]
  },
  {
   "cell_type": "code",
   "execution_count": 13,
   "metadata": {},
   "outputs": [
    {
     "name": "stdout",
     "output_type": "stream",
     "text": [
      "[[ 0  0  0  0  0  0  0  0  0  0  0  0  0  0  0  0  0  0  0  0  2 15  8 11\n",
      "  12]]\n",
      "[[2, 15, 8, 11, 12]]\n",
      "[[0.94355255]]\n",
      "0\n"
     ]
    }
   ],
   "source": [
    "text = np.array(['i need my phone now '])\n",
    "sequences = tok.texts_to_sequences(text)\n",
    "sequences_matrix = sequence.pad_sequences(sequences,maxlen=max_len)\n",
    "prediction = model.predict(sequences_matrix)\n",
    "predict=np.argmax(prediction,axis=1)\n",
    "print(sequences_matrix)\n",
    "print(sequences)\n",
    "print(prediction)\n",
    "print(predict[0])"
   ]
  },
  {
   "cell_type": "code",
   "execution_count": null,
   "metadata": {},
   "outputs": [],
   "source": []
  }
 ],
 "metadata": {
  "kernelspec": {
   "display_name": "Python 3",
   "language": "python",
   "name": "python3"
  },
  "language_info": {
   "codemirror_mode": {
    "name": "ipython",
    "version": 3
   },
   "file_extension": ".py",
   "mimetype": "text/x-python",
   "name": "python",
   "nbconvert_exporter": "python",
   "pygments_lexer": "ipython3",
   "version": "3.6.8"
  }
 },
 "nbformat": 4,
 "nbformat_minor": 2
}
