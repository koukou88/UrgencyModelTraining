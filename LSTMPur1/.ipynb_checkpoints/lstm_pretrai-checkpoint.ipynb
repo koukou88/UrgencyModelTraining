{
 "cells": [
  {
   "cell_type": "code",
   "execution_count": 3,
   "metadata": {},
   "outputs": [],
   "source": [
    "import pandas as pd\n",
    "import numpy as np\n",
    "import matplotlib.pyplot as plt\n",
    "import seaborn as sns\n",
    "from sklearn.model_selection import train_test_split\n",
    "from sklearn.preprocessing import LabelEncoder\n",
    "from keras.models import Model\n",
    "from keras.layers import LSTM, Activation, Dense, Dropout, Input, Embedding\n",
    "from keras.optimizers import RMSprop\n",
    "from keras.preprocessing.text import Tokenizer\n",
    "from keras.preprocessing import sequence\n",
    "from keras.utils import to_categorical\n",
    "from keras.callbacks import EarlyStopping\n",
    "%matplotlib inline\n",
    "import os"
   ]
  },
  {
   "cell_type": "code",
   "execution_count": 4,
   "metadata": {},
   "outputs": [
    {
     "data": {
      "text/html": [
       "<div>\n",
       "<style scoped>\n",
       "    .dataframe tbody tr th:only-of-type {\n",
       "        vertical-align: middle;\n",
       "    }\n",
       "\n",
       "    .dataframe tbody tr th {\n",
       "        vertical-align: top;\n",
       "    }\n",
       "\n",
       "    .dataframe thead th {\n",
       "        text-align: right;\n",
       "    }\n",
       "</style>\n",
       "<table border=\"1\" class=\"dataframe\">\n",
       "  <thead>\n",
       "    <tr style=\"text-align: right;\">\n",
       "      <th></th>\n",
       "      <th>Unnamed: 0</th>\n",
       "      <th>text</th>\n",
       "      <th>label</th>\n",
       "      <th>label_id</th>\n",
       "    </tr>\n",
       "  </thead>\n",
       "  <tbody>\n",
       "    <tr>\n",
       "      <th>0</th>\n",
       "      <td>0</td>\n",
       "      <td>request urgent</td>\n",
       "      <td>urgent</td>\n",
       "      <td>0</td>\n",
       "    </tr>\n",
       "    <tr>\n",
       "      <th>1</th>\n",
       "      <td>1</td>\n",
       "      <td>request import</td>\n",
       "      <td>urgent</td>\n",
       "      <td>0</td>\n",
       "    </tr>\n",
       "    <tr>\n",
       "      <th>2</th>\n",
       "      <td>2</td>\n",
       "      <td>request realli urgent</td>\n",
       "      <td>urgent</td>\n",
       "      <td>0</td>\n",
       "    </tr>\n",
       "    <tr>\n",
       "      <th>3</th>\n",
       "      <td>3</td>\n",
       "      <td>request realli import</td>\n",
       "      <td>urgent</td>\n",
       "      <td>0</td>\n",
       "    </tr>\n",
       "    <tr>\n",
       "      <th>4</th>\n",
       "      <td>4</td>\n",
       "      <td>must complet mission now</td>\n",
       "      <td>urgent</td>\n",
       "      <td>0</td>\n",
       "    </tr>\n",
       "    <tr>\n",
       "      <th>5</th>\n",
       "      <td>5</td>\n",
       "      <td>must complet mission now</td>\n",
       "      <td>urgent</td>\n",
       "      <td>0</td>\n",
       "    </tr>\n",
       "    <tr>\n",
       "      <th>6</th>\n",
       "      <td>6</td>\n",
       "      <td>must complet mission right now</td>\n",
       "      <td>urgent</td>\n",
       "      <td>0</td>\n",
       "    </tr>\n",
       "    <tr>\n",
       "      <th>7</th>\n",
       "      <td>7</td>\n",
       "      <td>must complet mission instantli</td>\n",
       "      <td>urgent</td>\n",
       "      <td>0</td>\n",
       "    </tr>\n",
       "    <tr>\n",
       "      <th>8</th>\n",
       "      <td>8</td>\n",
       "      <td>must complet mission fast</td>\n",
       "      <td>urgent</td>\n",
       "      <td>0</td>\n",
       "    </tr>\n",
       "    <tr>\n",
       "      <th>9</th>\n",
       "      <td>9</td>\n",
       "      <td>must complet mission fast</td>\n",
       "      <td>urgent</td>\n",
       "      <td>0</td>\n",
       "    </tr>\n",
       "  </tbody>\n",
       "</table>\n",
       "</div>"
      ],
      "text/plain": [
       "   Unnamed: 0                            text   label  label_id\n",
       "0           0                  request urgent  urgent         0\n",
       "1           1                  request import  urgent         0\n",
       "2           2           request realli urgent  urgent         0\n",
       "3           3           request realli import  urgent         0\n",
       "4           4        must complet mission now  urgent         0\n",
       "5           5        must complet mission now  urgent         0\n",
       "6           6  must complet mission right now  urgent         0\n",
       "7           7  must complet mission instantli  urgent         0\n",
       "8           8       must complet mission fast  urgent         0\n",
       "9           9       must complet mission fast  urgent         0"
      ]
     },
     "execution_count": 4,
     "metadata": {},
     "output_type": "execute_result"
    }
   ],
   "source": [
    "datasource = os.path.abspath('..\\Data\\pretraitement_service5.csv')\n",
    "data = pd.read_csv(datasource , delimiter=\";\")\n",
    "data.head(10)"
   ]
  },
  {
   "cell_type": "code",
   "execution_count": 3,
   "metadata": {},
   "outputs": [
    {
     "data": {
      "text/plain": [
       "Text(0.5,1,'Number of urgent and noturgent messages')"
      ]
     },
     "execution_count": 3,
     "metadata": {},
     "output_type": "execute_result"
    },
    {
     "data": {
      "image/png": "[encoded data removed]",
      "text/plain": [
       "<Figure size 432x288 with 1 Axes>"
      ]
     },
     "metadata": {
      "needs_background": "light"
     },
     "output_type": "display_data"
    }
   ],
   "source": [
    "sns.countplot(data.label)\n",
    "plt.xlabel('Label')\n",
    "plt.title('Number of urgent and noturgent messages')"
   ]
  },
  {
   "cell_type": "code",
   "execution_count": 4,
   "metadata": {},
   "outputs": [
    {
     "name": "stdout",
     "output_type": "stream",
     "text": [
      "[[1]\n",
      " [1]\n",
      " [1]\n",
      " ...\n",
      " [1]\n",
      " [0]\n",
      " [0]]\n"
     ]
    }
   ],
   "source": [
    "X = data.text\n",
    "Y = data.label\n",
    "le = LabelEncoder()\n",
    "Y = le.fit_transform(Y)\n",
    "Y = Y.reshape(-1,1)\n",
    "print(Y)"
   ]
  },
  {
   "cell_type": "code",
   "execution_count": 5,
   "metadata": {},
   "outputs": [
    {
     "name": "stdout",
     "output_type": "stream",
     "text": [
      "[[0]\n",
      " [0]\n",
      " [0]\n",
      " ...\n",
      " [0]\n",
      " [0]\n",
      " [0]]\n",
      "891             biggest complaint batteri drain superfast\n",
      "994                                                 drain\n",
      "754                                   great product price\n",
      "1068                       receiv headset good time happi\n",
      "1170                                    fix phone quickli\n",
      "1092                     product high qualiti chines crap\n",
      "244                                           featur want\n",
      "604     stupid keep bui new charger car charger cradl ...\n",
      "1302           need wai take much time need get real fast\n",
      "1269                                            get right\n",
      "570                 drive along headset start ring reason\n",
      "681                                            not regret\n",
      "1150                                              satisfi\n",
      "679     version bill howev difficult understand even t...\n",
      "388                                       replac die week\n",
      "990                internet access fine rare instanc work\n",
      "825                   not make mistak pleas not bui phone\n",
      "986                                              not want\n",
      "1112    phone sound not great wife phone almost total ...\n",
      "689     super charg us small hybrid palmtop camera cel...\n",
      "270     even bmw seri fairli quiet troubl hear person sai\n",
      "421                  expect better consum experi motorola\n",
      "1355                                not speak phone angri\n",
      "1289                          need ticket fast show start\n",
      "536     long last batteri not recharg frequent flip phone\n",
      "338                                                  wast\n",
      "1064                             nice case feel good hand\n",
      "1200                               need bui drug promptli\n",
      "255                                            disappoint\n",
      "1135                  headset fulfil requir happi purchas\n",
      "                              ...                        \n",
      "1186                              must prepar work immedi\n",
      "478                                best rotat featur help\n",
      "537                                 obvious problem adhes\n",
      "931                        try unit fail within month pro\n",
      "1037                         disappoint thing speakerphon\n",
      "745                        try make call exercis frustrat\n",
      "333                      major logitech earn headset fail\n",
      "350     absolut problem headset link 8530 blackberri curv\n",
      "1264                                  fix right now pleas\n",
      "1352                      call polic now not bear acceler\n",
      "1209                                      want car immedi\n",
      "1233                              sister want work immedi\n",
      "704                        would not recommend item anyon\n",
      "1300                        dude next bu come minut hurri\n",
      "759                                 pleas dont wast monei\n",
      "1199                                need hospit instantli\n",
      "1097    pair two devic easi bare take coupl minut star...\n",
      "922           alwai us cord headset freedom wireless help\n",
      "1079                     good thing fit comfort small ear\n",
      "1023                                            good case\n",
      "1214               must call now mechan repair air condit\n",
      "916     simpli want small flip phone look elsewher ext...\n",
      "99                               print sheet soon possibl\n",
      "815                                          poor product\n",
      "648                                          portabl work\n",
      "438                                       not make mistak\n",
      "563                  light easi us clear recept transmiss\n",
      "306     love 350 headset cabra 350 bluetooth headset g...\n",
      "943                                  stai awai store care\n",
      "1066            realli good far probabl best headset ever\n",
      "Name: text, Length: 1154, dtype: object\n"
     ]
    }
   ],
   "source": [
    "X_train,X_test,Y_train,Y_test = train_test_split(X,Y,test_size=0.15)\n",
    "print(Y_train)\n",
    "print(X_train)"
   ]
  },
  {
   "cell_type": "code",
   "execution_count": 6,
   "metadata": {},
   "outputs": [
    {
     "name": "stdout",
     "output_type": "stream",
     "text": [
      "[[615, 320, 11, 244, 616], [244], [6, 10, 39], [132, 14, 8, 28, 108], [46, 1, 109], [10, 214, 19, 435, 184], [157, 22], [436, 110, 23, 52, 56, 26, 56, 437, 111, 26, 617, 185, 28, 52, 1, 44], [5, 158, 78, 84, 28, 5, 13, 123, 16], [13, 12], [186, 438, 14, 159, 245, 187], [2, 439], [215], [133, 160, 134, 321, 322, 63, 323, 39, 216, 246], [112, 217, 98], [124, 247, 113, 618, 619, 3], [2, 18, 324, 38, 2, 23, 1], [2, 22], [1, 17, 2, 6, 248, 1, 440, 441, 620, 47, 2, 322, 621, 74], [249, 27, 9, 161, 622, 623, 79, 325, 37, 624], [63, 625, 442, 626, 627, 326, 99, 443, 74], [114, 64, 444, 250, 80], [2, 628, 1, 445], [5, 446, 16, 447, 159], [85, 100, 11, 2, 448, 449, 251, 1], [53], [57, 40, 162, 8, 135], [5, 23, 629, 327], [65], [14, 630, 450, 108, 66], [11, 101, 29], [1, 75, 252, 136, 218, 451, 1], [37, 631, 328, 14], [22, 24, 30], [137, 138, 58], [7, 139, 160, 4], [163, 253, 632, 110, 254, 25], [44, 35, 16, 5, 24, 255], [2, 115, 31, 101, 256, 219], [2, 102, 125], [5, 45, 188, 4], [7, 32, 140, 141, 189], [2, 115, 257, 116, 24], [134, 5, 64, 257], [7, 34, 103, 4], [142, 220, 5, 633], [258, 190, 259, 142, 14, 31, 143, 25], [144, 111, 86, 72, 17, 452], [191, 219, 164, 18, 162, 33, 634, 635, 636, 44], [134, 73, 637, 159, 13, 453, 638, 639, 126, 221, 47, 2, 132, 222, 15], [164, 41], [67, 10, 158, 165], [5, 117, 94, 12, 4], [2, 100, 85], [260, 2, 448, 1, 261, 145, 640, 454, 641, 642, 643, 11, 329, 330, 455], [68, 44, 166, 78, 1], [262, 52, 59, 254, 644], [42, 263, 456], [5, 87, 88], [60, 45, 26, 20], [645, 104, 457, 458], [133, 646, 331, 647, 648, 258, 3, 167, 252, 649, 650, 223], [38, 459, 47, 112, 29, 651, 652, 460, 461, 251], [89, 8], [23, 224, 1, 2], [5, 24, 38, 34, 15, 16], [264, 7, 192], [2, 101, 27], [101, 1, 462, 653, 332, 99, 654], [78, 655, 32, 656, 5, 12, 4], [61, 18, 265, 101], [7, 34, 103, 16], [333, 463, 323], [146, 81, 266], [464, 2, 105, 17, 657, 658, 147], [78, 659, 38, 5, 13, 660, 123, 16], [73, 11, 34, 334, 14], [61, 52, 42], [76, 66], [15, 69, 58], [661, 662, 80, 225, 1], [663], [29, 267, 268, 28, 3, 664], [33, 193, 465, 466, 269, 1], [146], [665, 74, 53, 49], [5, 69, 58], [666, 73, 667, 23, 335, 467], [668, 8, 19, 26, 56, 2, 84, 270], [1, 669, 249], [127, 271, 670, 33, 226, 671, 672], [272, 14, 90], [17, 8, 187, 39, 273, 246], [5, 13, 70], [5, 26, 46, 673], [5, 1, 46, 12, 4], [674, 468, 185, 15, 469, 336, 9, 14], [2, 8, 102, 39], [22, 46, 1, 81], [32, 1, 12, 4], [274, 275, 109, 84, 470, 675], [7, 27, 11, 20], [676, 276, 95, 1, 168, 471, 2, 99, 277], [59, 57], [148, 19, 227, 677, 91, 15], [22, 194, 87, 20], [149, 224, 70, 15, 250, 91, 472, 276], [118, 3, 473, 150], [195, 88, 140, 196, 337], [24, 46, 124, 278], [108, 10], [196, 35, 88], [33, 193, 465, 466, 269, 1], [7, 32, 140, 4], [58, 35, 5, 12, 4], [1, 13, 73, 226, 678, 50, 261, 84, 279, 197], [5, 24, 20], [54, 151], [679, 680, 338, 228, 54], [40, 339, 280, 229, 266, 681, 340, 25], [2, 23, 474, 682, 475, 474], [31, 2, 41], [52, 11, 3, 6, 1], [37, 17, 19], [57, 17], [164, 341], [6, 39], [3, 33, 281, 3, 21, 13, 1], [342, 190, 683, 28, 684, 685, 50, 47, 2, 9, 282, 686], [17, 19, 8, 283, 262], [169, 5, 13, 168, 4], [18, 265, 110, 92, 2, 152], [687, 13, 284, 476], [258, 52, 21, 72, 198, 3, 688], [285, 31, 41, 1, 52, 689], [55, 256, 25, 690, 2, 63, 5, 9, 17, 64, 477, 25, 691], [23, 692, 56, 50, 141, 66], [343, 185, 693], [61, 472, 199, 50, 2, 694, 695, 696], [35, 697], [152, 698, 101, 29], [7, 478, 4], [86, 1, 43, 72, 118], [62, 128, 26, 125, 699, 198, 247], [23, 344, 42, 11], [453, 145, 1, 63, 230, 231, 479, 82], [700, 124, 701, 9, 106, 33], [702, 9, 286], [6, 1], [8, 200, 2, 18, 1, 703], [7, 48, 3, 16], [104, 345, 704, 60, 2, 18, 111, 287, 2, 705, 102, 706, 707, 89, 708], [6, 17, 36], [54, 288, 9, 21, 14, 709, 95], [62, 144, 201, 95], [7, 48, 3, 70], [13, 1, 4], [51, 135], [346, 23, 52, 170, 1, 3, 6], [7, 116, 10, 12, 4], [5, 78, 710, 38, 186, 168, 169], [153, 1, 711], [2, 480, 8, 59, 171, 202, 18, 59], [3, 6], [712, 347, 450, 713, 44, 20], [32, 348, 17, 19], [11, 119], [349, 46, 1, 16], [154, 253, 55, 25, 29], [225, 11, 8, 23], [22, 714, 289, 44, 67, 21, 715], [716, 344, 1, 4], [717, 5, 481, 4], [98, 266, 350, 718, 217], [40, 43, 75, 351, 254, 719, 118, 21, 203, 85, 720], [8, 10, 290, 232], [3, 113], [56, 482, 35, 6], [352, 23], [61, 1, 2, 203, 353, 277, 483, 721, 722, 484, 354, 723, 355], [5, 24, 155, 38, 34, 15, 4], [37, 291, 292, 144, 1, 724, 140], [172, 173, 3, 4], [3, 485], [233, 71, 129, 36, 725], [24, 13, 1, 46, 16], [7, 48, 3, 12, 4], [111, 6, 67, 115, 356, 71, 66, 43, 18, 100, 149, 73, 357], [286, 32], [136, 60], [54, 14], [6, 293, 1, 726], [358, 486, 47, 727, 49, 12, 487], [174, 488, 28], [3, 6], [7, 3, 16], [47, 2, 41], [5, 87, 359, 30], [489, 360, 728, 490, 142, 167, 491, 2, 114], [62, 9], [492], [78, 21, 91, 729, 730, 731, 493, 2, 120, 2, 732], [6, 79, 494, 733, 57, 105, 6, 202, 19], [8, 447, 201], [2, 23, 10, 218], [132, 109, 3, 6], [11, 3, 29, 112, 280, 44, 1, 73, 361], [21, 3, 39, 12], [13, 335, 734, 12, 4], [3, 98, 50], [6, 1], [134, 495, 496, 497, 489, 204, 175], [60, 45, 188, 20], [67, 95, 1, 12, 234, 735, 26], [2, 27, 362, 464, 736, 1], [7, 3, 16], [205, 41, 40], [92, 2, 3, 1, 294, 126, 498, 4, 18, 15, 737, 293, 294], [738, 10], [196, 35, 121], [11, 100, 81], [122, 284, 50, 1, 68], [499, 65], [31, 41], [5, 24, 38, 34, 15, 141, 189], [200, 1, 228], [133, 1, 3, 29, 739, 8, 93, 363, 740, 479, 364, 741], [21, 2, 3, 295], [27, 742, 11, 3, 6], [7, 34, 103, 4], [18, 195, 85, 32, 1, 16], [490, 25, 2, 9, 743, 744], [32, 111, 30], [5, 87, 4], [54, 1, 500, 130, 157], [169, 46, 1], [47, 2, 501], [365, 366, 52, 11, 82, 276, 190, 68, 176, 27], [9, 745, 746, 40, 55, 113], [233, 36, 73, 4, 156, 108], [5, 1, 88], [3, 6], [8, 40, 37, 232], [296, 458, 297, 1, 747], [5, 69, 12, 4], [5, 24, 155, 38, 83, 15, 4], [7, 206, 129, 20], [11, 119, 104, 2, 85, 102, 80, 225], [22, 24, 16], [260, 62, 502, 350, 748, 367, 175, 502, 367, 1, 368, 749], [15, 177, 30], [369, 37, 79, 8, 73], [370, 750, 503, 18, 74, 751], [76, 93], [22, 168, 4, 26], [65], [5, 24, 38, 83, 15, 16], [504, 298, 505, 506, 18, 62, 350, 455], [2, 3, 752, 753], [11, 153], [7, 198, 222, 4, 754], [48, 3, 20], [1, 13, 371, 755], [22, 117, 94, 12, 4], [2, 23], [372, 2, 3], [22, 24, 12, 4], [373, 13, 374, 31, 2, 756, 23, 757, 19, 503], [758, 274], [759, 89], [40, 760, 122, 271, 338, 228, 200, 507], [441, 267], [2, 508, 39], [167, 375, 761, 762, 166, 293, 376], [48, 3, 30], [96, 509, 377, 378, 2, 377], [26, 35, 121, 38, 58], [5, 24, 38, 34, 15, 12, 4], [13, 763, 510, 58], [22, 24, 4], [2, 23, 10], [137, 138, 30], [26, 56, 29, 56, 377, 18, 299, 235, 366, 764, 765, 41], [107, 511, 766, 767, 115, 3, 494, 77, 9], [171, 300], [97, 67, 2, 768, 106, 3], [289, 13, 91, 379, 769, 379, 770], [7, 27, 11, 12, 4], [2, 3, 95, 1, 97, 301, 56], [6, 9, 168, 771], [380, 11, 145, 50, 151, 128], [11, 366, 109], [126, 259, 165, 491, 381, 131, 29, 102, 79, 19, 37, 79, 1], [6, 178, 96], [512, 5, 46, 81], [106, 115, 47, 513, 17, 382, 14], [48, 3, 70], [97, 204, 259], [115, 8, 772], [57, 383], [773, 3, 12, 302], [774, 36], [5, 302, 514, 13, 1, 515, 28, 77, 128, 1, 11, 119, 775], [15, 69, 4], [206, 207, 264, 516, 199, 104, 517, 47, 2, 776, 777, 778], [7, 32, 140, 16], [7, 177, 20, 384, 42], [29, 18, 55, 779, 236], [107, 10, 77, 780, 20], [55, 51, 295, 25, 17, 105, 193, 27, 100, 231, 68], [7, 116, 10, 16], [37, 10, 39], [149, 518, 149, 781, 206, 782, 783, 142, 21, 21], [60, 3, 30], [5, 117, 94, 30], [80, 298, 784, 477, 47, 2, 13, 144], [61, 108, 39], [178, 151, 785, 786, 787, 18, 119, 788, 130, 265], [7, 48, 3, 20], [207, 27, 789, 790, 104, 2, 32, 385, 166], [105, 19, 17, 2, 386, 17, 387, 208, 17, 175, 14], [320, 791, 17, 125, 178, 237, 63, 128], [5, 69, 141, 189], [292, 54, 85, 11, 119], [133, 73, 361, 35, 33, 36], [519, 371, 57, 24, 1], [5, 24, 155, 38, 34, 15, 12, 4], [77, 2, 152, 29], [48, 3, 30], [2, 120], [5, 24, 38, 34, 15, 4], [6, 93, 28], [43, 91, 1, 28, 74, 63, 792, 1, 104, 6, 793, 794], [358, 279], [795, 388, 2, 520], [60, 3, 20], [22, 49, 166], [27, 11, 30], [134, 389, 238, 2, 71, 521, 522], [31, 205, 41, 10], [29, 215], [39, 8, 239, 275, 8, 66], [51], [7, 139, 160, 12, 4], [2, 18, 15, 796, 222], [37, 10, 39], [172, 173, 3, 30], [120, 280, 11, 523, 11], [390, 14, 73, 6, 17, 8, 125, 8, 391, 524], [86, 129, 36, 72], [37, 797, 798, 1, 40], [799, 800, 8, 19], [6, 232], [172, 173, 3, 30], [392, 66], [57, 525, 526, 168, 3], [123, 513], [393, 22, 83, 527, 4], [253, 801, 17, 802, 25, 203, 803, 17, 125, 303], [23, 170, 95, 1, 98, 361, 804], [805, 806, 437, 219, 14, 304, 227], [360, 364, 209, 528, 127, 807, 529], [808, 18, 66], [22, 24, 20], [530, 60, 158, 809, 76, 1, 146, 199, 155], [5, 87, 109], [100, 28, 23], [531, 810, 157, 35, 65], [65], [82, 811, 812, 159, 305, 813, 394, 814, 17, 14], [1, 240, 815], [4, 517, 42, 816, 360, 364, 229, 49, 532, 817, 362, 2, 331], [32, 111, 30], [1, 240, 170, 276, 1], [10, 6, 18, 3, 130, 265, 818, 195, 101, 155], [235, 241, 533, 252, 102, 12, 534, 28, 283, 22, 2], [54, 10], [7, 15, 129, 4], [819, 449], [110, 8, 3, 171], [216, 107], [7, 34, 103, 12, 4], [268, 109, 84, 395, 263, 820], [13, 204, 107, 306, 4], [2, 821, 38, 44, 24, 88], [60, 3, 12, 4], [6, 387], [7, 48, 3, 30], [7, 34, 3, 4], [36, 242, 261, 535, 74, 337], [33, 146], [2, 306, 36, 2, 41, 10], [8, 1], [37, 10], [822, 1], [22, 194, 87, 16], [3, 6], [5, 24, 38, 83, 15, 16], [7, 48, 3, 20], [2, 8, 152, 823, 824], [825, 42, 47, 2, 143, 145, 70, 826], [33, 535, 335, 827, 25, 396, 536], [4, 241, 18, 452, 537], [538, 42, 828], [829, 124, 67, 21, 71, 232], [18, 40, 161, 321, 397], [22, 1, 12, 4], [77, 115, 13, 8, 307, 830, 831, 97, 1, 225], [43, 326, 247, 124, 398, 238, 243, 283], [37, 17, 11, 119, 832, 833], [132, 834, 52, 80, 835, 836, 2, 837, 1, 56], [65, 11], [7, 34, 103, 16], [539, 34, 179], [18, 136, 838, 540, 44, 168, 514], [539, 839], [2, 33, 170, 295], [7, 32, 117, 94, 12, 4], [840, 105, 10, 841, 308, 112, 842, 44, 190, 197], [2, 843, 206, 207, 844, 10, 845, 846, 60, 2, 23, 399, 847, 848], [63, 849, 27, 850, 128, 309, 400, 851, 852, 305, 210, 541], [71, 56, 459, 542, 365], [185, 106, 1, 3, 236, 33], [196, 121], [16, 36], [35, 62], [3, 6, 26, 56, 292, 2, 97, 82, 853, 28], [7, 45, 26, 20], [854, 98, 195, 855, 856, 857, 84], [37, 135, 239, 291], [93, 153, 858, 394], [22, 69, 4], [86, 72], [53, 178, 49, 163], [21, 859, 66, 72], [99, 186, 26, 543, 2, 63, 229, 860, 301], [6, 180, 80], [48, 3, 12, 4], [190, 50, 230, 82, 118, 9], [134, 25, 381, 44, 401, 21, 98, 304, 21], [296, 74, 53, 28, 5, 4, 544, 861, 123, 141], [62, 9], [51, 55, 5, 14, 51, 302, 81, 28, 2, 862, 68], [863, 328, 545, 127, 178, 1], [131, 864, 865, 305], [147, 179, 129, 36], [46, 12, 234], [22, 194, 87, 12, 4], [6, 14, 120, 866], [86, 122, 184, 72, 438, 133, 129, 36], [86, 1, 72], [64, 31, 114], [5, 24, 16], [867, 868, 77, 402, 304, 231, 121, 206], [22, 194, 87, 16], [2, 67, 76, 199, 44, 21, 869, 31, 2, 41, 211], [110, 13, 64, 64, 546, 21, 43, 547, 308], [8, 403, 39], [63, 78, 870, 871, 872, 873, 369, 212], [7, 45, 26, 4], [257, 874, 457], [32, 111, 12, 4], [875], [8, 39], [5, 45, 188, 16], [7, 32, 117, 94, 4], [181, 19, 90], [67, 876, 548, 146, 1, 356, 306, 877], [13, 64, 93, 303, 1, 43], [17, 19, 37, 29], [5, 82, 135, 404, 126, 878, 180, 879, 880, 226, 2, 881, 52, 180, 89], [882, 107, 70], [11, 27, 119, 198, 85], [56, 268, 230, 883, 884, 2, 3], [150, 8], [150, 86, 66, 43, 18, 171], [66, 230, 68, 282, 3], [10, 405, 885, 886, 549, 887, 402, 146], [7, 70], [336, 53, 28, 403, 58], [7, 27, 11, 30], [32, 111, 20], [5, 24, 12, 4], [22, 888, 20], [550, 60, 889, 890], [78, 210, 5, 91, 532, 35, 121, 5, 13, 109], [7, 116, 10, 58], [74, 1, 79, 57, 406, 212, 273, 551, 310, 407, 29], [2, 193, 102, 2, 128, 33, 60], [7, 3, 20], [96, 3, 6, 50, 118, 9], [552, 72, 99, 891, 74], [212], [107], [8, 19], [59, 8, 19, 80, 14, 110, 59, 2], [2, 55], [38, 66], [172, 173, 3, 20], [892, 89, 311, 893, 2, 9, 894, 2, 115, 40], [18, 1, 3, 4], [17, 19, 6], [204, 312, 84, 49, 5, 169, 58], [156, 8, 10], [895, 180, 440, 896], [54, 213], [531, 148, 897, 898, 495, 899, 128, 192, 77, 553, 304], [77, 900, 270, 10], [96, 6, 397, 554, 27, 901, 3, 8, 185, 208, 42], [7, 34, 3, 4], [43, 61, 42, 1, 370, 902, 94, 313, 128], [7, 32, 367, 381, 4], [6, 1], [136, 5, 47, 2, 555], [18, 3, 16], [14, 62, 9, 388, 54], [213, 63, 903, 115, 31, 556, 290, 408], [6, 1], [6, 96], [2, 346, 277, 1, 534, 904], [22, 177, 4], [6, 10, 299, 508, 9, 905], [906, 907], [908, 557, 300], [76, 139, 118, 36], [326, 125], [35, 5, 1, 46, 16], [36, 76, 409, 359], [134, 909, 910, 28, 1, 2, 911, 33, 351, 1], [5, 69, 16], [2, 18, 324], [7, 3, 30], [410, 6], [6, 1], [393, 22, 83, 527, 4], [558, 143, 234], [137, 138, 30], [75, 314, 411, 387, 3, 113], [21, 165, 912, 355, 175, 1, 338, 559, 554, 913, 914, 915, 294, 192], [6, 307], [7, 34, 103, 4, 88], [125, 488, 916, 199, 917, 918], [392, 67, 10, 171, 252, 67, 2, 214, 39], [215, 95, 1, 68, 21], [7, 48, 3, 12, 4], [13, 130, 919], [207, 275, 10, 327, 3, 29], [478, 920, 921, 922, 221, 1, 412, 923, 6, 213], [37, 92, 14], [59, 14, 85, 28, 4, 43, 13, 47, 2, 413], [61, 321, 229, 41, 297, 10], [53, 49], [560, 92, 14], [18, 240], [2, 3], [2, 53, 49], [44, 405, 131, 9, 131, 79, 924, 63, 498, 227, 357], [8, 10, 8, 274], [561, 6, 36], [925, 1, 33, 52, 243], [35, 33, 10, 80, 926, 927, 25, 122, 372], [48, 3, 16], [13, 182], [928, 237, 19, 17, 40, 315, 562, 929, 563, 249, 930, 375], [38], [129, 36, 153], [7, 27, 11, 4], [14, 3, 6, 267, 57, 297, 931], [372, 6], [7, 34, 103, 16], [54, 92], [2, 9, 40, 549, 932], [89, 311], [71, 14, 9], [108], [564, 73, 226, 170, 933, 504, 101, 27, 130, 64], [83, 182, 16, 307], [60, 45, 26, 20], [414, 233, 565, 112, 469, 23, 209, 1, 176, 316, 934, 935], [261, 311, 40, 483, 19, 29, 343, 415, 312, 936, 937, 10], [122, 284], [54, 938, 6, 939], [32, 940, 10, 4], [23, 416, 130, 49], [7, 48, 3, 30], [5, 58, 941, 2, 143, 380, 942, 409, 70], [943, 4, 13, 6, 93, 178, 395, 243, 6], [484, 27, 275], [90, 19, 36], [7, 27, 11, 30], [2, 120, 31, 2, 41, 96, 211], [237, 19], [5, 24, 327], [417, 197, 3, 113, 26, 75, 398, 510, 515, 414, 944, 285, 104, 945, 151, 214], [7, 34, 103, 30], [55, 25, 29, 51], [86, 180, 72, 9, 47, 32, 946, 348, 31], [32, 12, 566, 4], [5, 220, 82, 98], [947, 567, 6, 948, 131, 949], [136, 378, 74, 31], [349, 46, 950, 278, 83, 182], [2, 23, 2, 23, 300], [37, 1], [53, 28], [951, 249, 400, 135, 239, 1, 568, 262], [371, 242, 78, 418, 277], [7, 116, 10, 58], [290], [79, 1, 952, 9, 953, 954, 396, 9, 955], [7, 139, 160, 12, 4], [97, 2, 3, 29], [956, 1, 76, 11, 119, 404, 419, 420], [3, 29], [435, 957, 958], [959, 91, 107, 18, 209, 21, 302, 70], [436], [5, 117, 94, 4], [315, 73, 569, 960, 19, 961, 962, 126, 570, 67, 963], [5, 45, 188, 16], [46, 42], [2, 53, 49, 28], [5, 109], [61, 571, 102, 55, 964, 965, 525, 526, 176, 966, 40], [137, 138, 4], [7, 27, 11, 12, 4], [1, 78, 418, 27, 33, 81, 572], [421, 47, 2, 967], [132, 573, 213, 11, 334, 231, 81, 280, 9, 100, 98, 104, 100, 282, 112], [5, 18, 512, 3, 5, 4], [365, 317, 574, 9, 311, 56, 89], [3, 33, 281, 3, 475], [64, 52], [5, 1, 4], [65, 422], [142, 166], [968, 270, 969, 97, 56, 318, 468], [333, 1], [165, 53, 28], [5, 69, 4], [970, 62, 397, 9, 105, 17], [313, 423, 18, 424, 424, 424, 17, 74, 227, 218], [344, 5, 1, 4], [5, 69, 20], [8, 971, 181], [258, 425, 353], [211, 972, 99, 197, 269], [356, 1, 374, 183, 2, 99, 9], [973, 2, 3, 28, 170, 974], [65, 975, 21], [10, 179, 208, 2, 102, 27, 575, 27, 325, 216, 9], [6, 10], [205, 41, 976, 183, 32, 75], [90, 148, 303], [1, 571, 131, 369, 333], [1, 977, 228, 35, 978], [6, 92], [558, 2, 23], [27, 11, 12, 4], [35, 8, 10], [576, 179, 2, 979, 316, 980, 93, 23], [75, 146, 385], [981, 577, 92, 14], [982, 4, 384, 42], [5, 36, 4], [58, 306, 983, 329, 388, 44], [5, 481, 30], [23, 9, 984, 412, 410, 54], [22, 194, 87, 4], [89, 373, 985, 986, 47, 2, 987, 25], [426, 35, 578, 9, 240, 102, 2, 114, 42], [174], [393, 69, 5, 13, 70], [93, 37], [1, 2, 375, 315, 26, 4, 988, 989, 1, 990, 135], [991, 175, 222, 236], [45, 26, 20], [2, 120, 10], [370, 270, 2, 42], [93, 90], [172, 173, 3, 12, 4], [255, 50, 3, 46, 68], [1, 4, 101, 27, 33, 52], [7, 32, 140, 16], [36, 76, 445], [992, 427, 291, 2, 427], [31, 41, 96], [22, 194, 87, 4], [7, 32, 117, 94, 20], [993, 71, 1, 72], [137, 138, 58], [76, 55, 158, 165], [179, 1, 579, 994], [1, 2, 3, 995, 46, 35, 5, 9, 12, 4], [205, 41, 21, 309, 400, 1], [120, 14, 317], [65], [580, 545], [37, 996, 577, 14], [23, 82, 521, 27], [8, 11, 13, 35, 16], [7, 116, 10, 16], [2, 108], [135, 71, 1, 43, 72], [40, 31, 107, 209], [55, 51, 44, 190, 259, 428, 482], [997], [48, 3, 20], [998, 246, 9, 13, 182, 18, 26, 999, 84, 1000], [581, 23, 13, 1001, 582, 1], [65], [154, 25, 583, 71], [235, 13], [2, 343], [43, 1002, 547, 15, 187], [5, 117, 94, 20], [32, 166, 1, 4], [1003, 184, 17, 19, 153], [23, 1, 112, 159, 439, 208], [5, 584, 45, 487, 4], [22, 1, 4], [568, 237, 19, 18, 245, 425, 17, 127], [32, 102, 28, 83, 182, 58], [107, 80, 223, 314, 13, 29, 83, 3, 10], [1004, 50, 5, 550, 46, 68, 332], [136, 113, 187, 39, 1005, 1006], [170, 1007, 319, 429, 314, 2, 3, 1], [14, 65], [43, 92, 98, 35, 33], [1008, 122, 31, 104, 114, 64, 19], [2, 100, 418, 2, 1009, 395, 112, 62, 404, 17, 84, 64, 263, 75], [17, 105, 183, 147, 585, 19], [3, 29], [374, 184], [31, 41, 66, 154, 1010, 1011, 442, 3, 473, 586, 501], [10, 1012, 183, 33, 1013, 25, 1014], [3], [174, 1], [86, 1, 201, 184, 1015, 201, 1016, 86, 72, 1017], [42, 25, 587, 18, 419, 1018, 50, 401], [127, 162, 59, 127], [22], [41, 211, 224, 588, 95, 1, 1019, 355, 467], [383, 57, 1020, 55, 1021, 423, 368, 8, 1022], [57, 89, 19], [57, 111, 39, 3, 6], [5, 49, 430, 68], [127, 1023, 3, 1024, 1025, 32, 237, 312, 96], [13, 339, 70, 569, 15, 2, 13, 423], [33, 89, 59, 154, 25, 14, 1026, 156, 51, 152, 81, 68, 176, 1027, 25], [1, 16, 142, 316, 553, 1028, 1029, 1030, 169, 1031, 1, 9], [1032, 28], [3, 8], [66, 224, 40], [7, 139, 160, 4], [5, 45, 188, 4], [105, 1033, 17], [172, 173, 3, 12, 4], [99, 1034, 181], [40, 6, 3, 113, 1035], [25, 1036, 589, 2, 1037], [131, 1038, 11, 1039, 51, 152, 1040, 523, 590, 28], [591, 22, 45, 79, 1041], [162, 51, 14, 152, 1042, 13, 158, 497], [101, 27, 85, 28, 187, 51, 85, 152, 347, 19, 17, 592], [27, 11, 20], [428, 122, 50, 401], [21, 106, 296, 1043, 301, 175, 228], [53, 49, 28], [65], [7, 34, 3, 4], [134, 14, 575, 2, 8, 123, 28, 522, 33, 77, 443, 1044, 208, 181, 1045, 386], [61, 1, 91, 40, 2, 416, 1046, 91, 368], [7, 34, 103, 16], [37], [39, 171, 37, 10, 31, 205, 41], [462, 1047, 31, 2, 3, 80, 1048], [2, 55], [47, 78, 310, 28, 19, 90], [137, 138, 20], [1, 156, 240, 43, 235, 253, 42], [118, 126, 221, 1049], [6, 135, 239, 151], [1, 11, 217, 7, 15, 1050, 192], [24, 67, 42, 278], [18, 1051, 44, 1052, 70], [181, 19, 90, 90], [144, 1, 47, 2, 413, 150], [53, 49], [1053, 1054, 1055, 287, 241], [203, 34, 256, 101, 219, 110, 1, 536], [13, 139, 1056], [1057], [2, 53, 49], [1058, 13, 220, 16], [7, 32, 117, 94, 30], [528, 10], [1059, 1060, 1061, 2, 63, 340, 318, 47, 2, 413, 52, 21, 1062], [1063, 158, 242, 2, 83, 3, 28, 18, 3, 169, 35, 88], [309, 1064, 62, 9], [48, 1065, 88], [8, 232, 3, 113, 454, 1066, 429, 26, 329, 330], [145, 248, 92, 80, 1067, 1, 3, 33, 281, 1068, 1, 293, 40], [45, 26, 4], [2, 1069, 238, 546, 332], [2, 22, 191, 1070, 25, 402, 1071], [5, 23, 446, 16, 1072], [13, 1073, 40, 52, 308, 3, 35, 29, 200, 1074, 236, 150], [7, 27, 11, 20], [7, 1075, 211, 1076, 86, 1077, 1078, 89], [172, 173, 3, 4], [2, 3], [24, 5, 1, 46, 4], [44, 82, 68, 430, 32, 3], [151, 6, 149, 1079], [153, 26, 2, 353, 1080], [5, 24, 155, 38, 83, 15, 141, 189], [5, 24, 20], [349, 1, 5, 4], [2, 195, 282, 22, 1, 20], [35, 318, 76, 74, 14], [124, 1081, 242], [591, 1082, 11, 217], [122, 184], [65], [43, 480, 73, 3, 6], [71, 14, 72], [11, 34, 179], [1083, 391, 524, 585, 121, 1084, 1085], [90, 19], [90, 17, 19], [243, 593, 1086, 496, 1087, 17, 149, 538, 167, 15], [9, 147, 1088, 319, 81, 11, 31, 572, 244, 217], [61, 2, 33, 175, 1089, 33, 31, 493, 9], [48, 3, 16], [37, 10, 215, 66], [245, 425, 285, 8, 1, 23], [260, 451, 594, 241, 132, 15, 396, 121, 157, 1, 1090, 1091], [6, 39, 61], [54, 106], [1, 373, 29, 86, 43, 72, 588], [7, 4, 45, 1], [67, 10, 62, 301, 9], [229, 1092, 431, 1093, 4, 33, 242, 1094, 294, 185], [90, 272], [420, 379, 1095, 1096, 174], [9, 82, 68, 2, 313, 62, 99], [31, 205, 41], [54, 59, 162, 201, 251, 1], [15, 91, 1, 44, 126, 221, 86, 336, 245, 1097], [6, 10, 39], [1098, 426, 594, 128, 580, 123, 1099, 9, 1100, 376, 1101, 595], [287, 153, 129, 36, 13, 139], [90, 147, 28, 243], [108, 10], [7, 27, 11, 4], [1102, 1, 281, 596, 1103, 1104], [486], [2, 23, 10], [31, 41, 263], [7, 1105, 4], [2, 505, 506], [1106, 50, 46, 4], [2, 279, 444, 21, 499], [71, 1, 542], [246, 178, 1, 9, 1107, 1108], [274, 322, 1109, 31, 164, 23], [13, 161, 596], [220, 1110, 1111, 567, 21, 5, 417, 6], [84, 432, 112], [416, 49, 43, 96, 118, 4], [45, 26, 12, 4], [597, 1112, 49, 354, 318], [6, 390], [66, 26, 56, 2, 3], [421, 1113], [22, 359, 30], [40, 71, 197, 398, 202, 255, 9, 63, 142, 202, 255, 1], [358, 1114, 21], [7, 27, 11, 20], [154, 1115, 108, 17, 19, 292, 1116, 64], [196, 88], [198, 215, 66], [31, 164, 41, 154, 1117, 59, 51, 303, 6, 39], [5, 26, 20], [11, 119, 61, 6], [80, 342, 13, 148, 19, 92, 14, 12], [161, 1118, 120, 59, 576, 421, 1119, 1120, 222], [107, 81], [198, 51, 25], [75, 406, 406, 417, 595, 21, 342, 3, 29], [58, 46, 1], [6, 1], [212, 1], [529, 27, 36], [9, 1121, 239, 598, 67, 124, 1122, 223, 1, 389, 39, 314, 37], [25, 587, 5, 1123, 17, 6], [391, 1124, 290], [3, 29, 144, 414, 1125, 599, 14, 9, 429, 92, 1126], [13, 519, 5, 26, 4], [2, 55, 308, 1127, 50, 77, 28, 75, 97], [115, 216, 21, 299, 100, 586, 1], [48, 3, 70], [220, 35, 121, 18, 169], [7, 27, 11, 30], [2, 1128, 298, 2, 114, 24, 331], [1129, 56, 269, 100, 70, 600, 42], [6, 31, 35, 41], [79, 2, 3, 5, 1130, 310, 278], [75, 147, 123, 193, 1131, 1132, 13, 226, 104, 264, 2, 6], [1, 73, 4, 264, 2, 6], [31, 32, 348, 288], [193, 392, 74, 317, 601, 345, 1133, 145, 95, 394, 351, 9], [9, 163, 210, 12, 106, 2, 143, 25], [11, 286, 29, 36, 9, 1134], [40, 203, 29, 18], [29, 18, 62, 247, 1, 500, 1135, 219, 191], [412, 1136, 7, 15, 1137, 200, 20], [130, 298, 602, 8, 1], [216, 9, 26, 603], [1138, 378, 146], [38, 14], [10, 37, 3, 64, 133, 21, 1139, 470], [48, 3, 12, 4], [3, 236], [5, 186, 26, 4], [183, 1140, 99, 147, 1141, 604, 147, 1], [578], [8, 19, 323], [6, 17, 36], [43, 23, 562, 111, 17, 64], [59, 52, 163, 432, 1142, 262], [43, 75, 149, 224, 163, 95, 1, 154, 21, 77, 21, 43, 67, 55, 25, 51], [1143, 1144, 81], [7, 34, 103, 4, 88], [54, 238, 1145], [7, 34, 3, 4], [7, 116, 10, 4], [3, 6], [136, 3, 77, 75, 389, 151, 605, 1146, 1147, 158, 272, 162, 8], [7, 32, 140, 12, 4], [120, 182, 80, 1148, 1], [1, 61, 78, 6, 202, 63, 310, 191], [7, 27, 11, 30], [11, 284], [5, 87, 16], [5, 69, 16], [29, 89, 408, 309, 57, 213], [471, 13, 180, 3, 411], [110, 29], [1149, 382, 15, 584, 4], [606, 21, 61, 54], [14, 3, 1150, 1151], [7, 34, 3, 4], [79, 516, 602, 120, 431, 1152, 1153, 1154, 1155, 254, 29, 114, 1156, 214, 1157], [2, 23, 22, 9, 460], [297, 21], [36, 607, 210, 12, 4], [7, 48, 3, 16], [2, 195, 384, 42, 1158], [5, 45, 188, 12, 4], [5, 87, 109], [2, 3, 1159, 2, 3], [43, 1, 118, 4, 74, 71, 233, 1, 43], [13, 227, 133, 1, 1160, 564], [6, 181], [1161, 97, 3, 6], [260, 2, 3], [39, 8], [10, 559, 121, 131, 1162, 25, 330], [9, 1163, 163, 116, 143, 156, 29], [13, 26, 56, 2, 63, 98, 56, 50, 97, 159, 608], [74, 156, 179], [241, 17, 1164, 203, 33, 1165, 557, 31, 2, 3, 1166, 21, 3, 6], [6, 52, 267, 57, 3, 8, 42, 44, 28, 114], [8, 541], [574, 144, 590, 208, 1167, 110, 91], [6, 163], [3, 6, 1168, 1169, 1, 340, 200, 1170, 376, 1171, 126], [63, 91, 1, 1172, 1173, 192, 104, 3, 6], [605, 51, 283, 407], [1174, 9], [5, 24, 155, 38, 83, 15, 16], [132, 9, 10, 68, 50], [31, 78, 85, 485, 76, 129, 36, 250, 171], [352, 53, 49], [54, 157, 399, 1175], [156, 62], [603, 61, 456, 1176, 213, 273, 1], [7, 34, 3, 4], [2, 180, 6, 182, 47, 61, 18, 238, 399, 1177, 176, 124, 145], [1178], [44, 133, 362, 1179, 95, 1, 77, 106, 305, 35, 76, 36], [8, 181, 19], [244, 419, 1180], [1181, 204, 5, 13, 430, 81], [6, 432], [107, 7, 68], [148, 609, 1182, 1183, 37], [5, 24, 38, 34, 15, 4], [148, 609, 592], [5, 69, 30], [98, 150, 8], [164, 2, 8, 1184], [39, 6, 307], [520, 50, 67, 209, 81], [317, 92, 37, 23], [57, 1185, 426], [9, 1186], [22, 15, 177, 88], [17, 19, 167, 37, 9, 14, 15, 248, 555, 248, 9, 14, 15], [415, 162, 1187, 59, 1, 433, 127, 271], [15, 69, 58], [123, 1188, 125, 1189, 50], [11, 37, 341], [7, 32, 140, 20], [7, 139, 160, 20], [96, 268, 109, 3, 6, 1190, 201, 1191, 1192, 1193, 1, 511, 1194, 17, 25, 97], [6, 42], [415, 25, 583, 116, 257, 507], [1195, 1196, 518, 91, 1197, 176, 1198, 273], [65, 537], [196, 88], [71, 610, 1199, 1200], [161, 2, 63, 1201, 13, 9], [561, 53, 49], [1202, 22], [2, 83, 598, 176, 124, 38, 46, 16], [581, 604], [476, 84, 53, 28, 58], [60, 45, 26, 30], [543, 2, 33, 1203, 21, 433, 2, 386, 1204], [15, 177, 12, 4], [122, 607], [1205, 1, 6, 420], [565, 385, 112], [15, 69, 4], [7, 27, 11, 12, 4], [1206, 81, 82, 183, 1207, 1208, 52, 1], [60, 1209, 30], [137, 138, 12, 4], [64, 114], [5, 4, 36, 337], [192, 210, 1210], [5, 24, 155, 38, 34, 15, 141, 189], [57, 14, 39, 12], [76, 390], [5, 88, 45, 1], [288, 148, 611, 26, 42], [164, 7, 509, 2, 1211, 95, 1, 1212, 186], [28, 1213, 19, 10], [60, 3, 4], [142, 166], [612, 382, 380, 354, 409, 612, 1214, 20], [1, 3, 6], [1215, 24], [433, 3, 29], [89, 1216, 25, 191, 2, 51], [31, 41], [271, 50, 35, 62, 191], [68, 266, 1217, 608, 44, 1, 9], [434, 61, 25, 1218, 75, 533, 25, 97, 25], [5, 610, 94, 30], [5, 24, 30], [60, 45, 26, 4], [363, 407, 43, 288, 1219, 315, 289, 1, 1220, 1221, 93, 17, 19, 1222], [5, 24, 38, 83, 15, 4], [285, 1223, 1, 1224, 206, 13, 6, 93], [613, 8, 79, 57, 202, 61, 212, 463, 33, 221, 573], [8, 10, 29, 18], [5, 87, 121], [3, 113, 80, 1225, 325, 130, 64, 1226, 1227, 11], [84, 65, 207], [2, 66, 1], [8, 19, 341, 23, 23, 127, 165, 130, 17, 593, 183, 167, 47, 2, 99], [82, 73, 210, 1228, 296, 1], [597, 36, 76], [9, 149, 1, 82, 73, 21, 71], [357, 5, 1, 4], [422, 1, 295, 1229, 1230, 125, 1231], [316, 434, 9, 59, 1232, 434, 1233, 33, 207], [108, 601, 320, 21, 1234, 17, 19, 167], [174, 174, 570], [8, 3, 113], [10, 312, 84, 21, 114, 3, 150, 64, 1235, 1236, 106], [300, 403, 2, 3, 1], [2, 8, 492], [22, 117, 94, 4], [7, 116, 10, 4], [15, 177, 4], [7, 45, 26, 30], [51, 25], [286, 36, 233], [2, 345, 145, 411, 1237], [2, 18, 59, 212], [3, 51], [60, 45, 26, 12, 4], [77, 27, 110, 334, 70], [96, 132, 1238], [32, 566, 16], [13, 4], [59, 408, 126, 57, 105, 6, 556], [383, 40, 2, 55], [431, 319, 1239, 1240, 79, 197, 1, 187, 8], [60, 3, 20], [165, 65, 1241, 1242], [6, 291, 1243, 427, 223, 544, 1244, 299, 9, 1245, 1246, 319, 1247, 223, 1248, 422], [55, 33, 1249, 405, 256, 1250], [174, 1251, 17, 589, 15, 235, 250], [225, 540, 7], [54, 79, 35, 156, 8, 19], [25, 1252, 551, 1253, 21, 25], [22, 186, 1254, 69, 123, 16], [53, 1255], [143, 234], [136, 10, 204, 77], [160, 214, 289, 67, 209, 21, 68], [563, 272, 1256], [7, 34, 103, 12, 4], [153, 10, 53, 49], [15, 69, 12, 4], [1257], [76, 19], [105, 599, 15, 85, 11, 119, 85, 363], [7, 48, 3, 20], [71, 1258, 157, 24], [287, 42, 1259], [75, 199, 218, 230, 118, 613], [65, 106, 1260], [75, 18, 15, 1261, 1262], [600, 560, 428, 14, 218], [410, 42, 14, 530, 1263, 461, 1264], [46, 12, 4, 38], [15, 177, 4, 2, 1265, 1266], [22, 26, 20], [606, 22, 3, 20], [31, 2, 41, 96, 211], [1267, 582, 1268, 44, 70, 58], [38, 352, 53, 49], [5, 69, 30], [144, 82, 151, 62, 552, 78, 231, 70, 159, 18, 15, 148, 611, 157], [313, 9, 1269, 14, 1270, 328, 24], [8, 106, 55, 51, 161, 25], [8, 40], [7, 15, 4, 1271, 45, 1272, 347], [579, 22, 161, 251, 1, 59, 1273, 339, 1274, 1275, 1276], [137, 138, 141, 189], [90, 10], [1277, 3], [2, 18, 324], [131, 62, 9, 105, 93, 1278], [54, 614, 14, 154, 614, 92, 14, 6, 93, 8, 25, 122, 51, 55], [143, 234, 346, 279], [35, 8, 150, 548, 71, 14, 72]]\n",
      "[[  0   0   0 ...  11 244 616]\n",
      " [  0   0   0 ...   0   0 244]\n",
      " [  0   0   0 ...   6  10  39]\n",
      " ...\n",
      " [  0   0   0 ... 122  51  55]\n",
      " [  0   0   0 ... 234 346 279]\n",
      " [  0   0   0 ...  71  14  72]]\n"
     ]
    },
    {
     "name": "stdout",
     "output_type": "stream",
     "text": [
      "word_index :  {'phone': 1, 'not': 2, 'work': 3, 'now': 4, 'need': 5, 'great': 6, 'must': 7, 'good': 8, 'us': 9, 'product': 10, 'batteri': 11, 'right': 12, 'get': 13, 'headset': 14, 'call': 15, 'fast': 16, 'sound': 17, 'make': 18, 'qualiti': 19, 'immedi': 20, 'on': 21, 'want': 22, 'bui': 23, 'help': 24, 'ear': 25, 'car': 26, 'charg': 27, 'time': 28, 'well': 29, 'instantli': 30, 'would': 31, 'give': 32, 'like': 33, 'complet': 34, 'realli': 35, 'servic': 36, 'excel': 37, 'pleas': 38, 'price': 39, 'case': 40, 'recommend': 41, 'problem': 42, 'ev': 43, 'come': 44, 'repair': 45, 'fix': 46, 'could': 47, 'prepar': 48, 'monei': 49, 'break': 50, 'comfort': 51, 'new': 52, 'wast': 53, 'love': 54, 'fit': 55, 'charger': 56, 'nice': 57, 'hurri': 58, 'look': 59, 'should': 60, 'also': 61, 'easi': 62, 'even': 63, 'better': 64, 'disappoint': 65, 'purchas': 66, 'find': 67, 'dai': 68, 'hospit': 69, 'minut': 70, 'best': 71, 'ever': 72, 'year': 73, 'sai': 74, 'try': 75, 'bad': 76, 'first': 77, 'take': 78, 'camera': 79, 'motorola': 80, 'hour': 81, 'two': 82, 'finish': 83, 'much': 84, 'long': 85, 'worst': 86, 'paper': 87, 'urgent': 88, 'design': 89, 'poor': 90, 'drop': 91, 'bluetooth': 92, 'recept': 93, 'card': 94, 'cell': 95, 'item': 96, 'plug': 97, 'week': 98, 'hear': 99, 'last': 100, 'hold': 101, 'enough': 102, 'mission': 103, 'still': 104, 'clear': 105, 'thing': 106, 'order': 107, 'happi': 108, 'quickli': 109, 'keep': 110, 'headphon': 111, 'replac': 112, 'fine': 113, 'expect': 114, 'think': 115, 'provid': 116, 'credit': 117, 'month': 118, 'life': 119, 'impress': 120, 'import': 121, 'piec': 122, 'real': 123, 'internet': 124, 'volum': 125, 'screen': 126, 'cheap': 127, 'turn': 128, 'custom': 129, 'lot': 130, 'light': 131, 'receiv': 132, 'version': 133, 'howev': 134, 'hand': 135, 'everyth': 136, 'print': 137, 'sheet': 138, 'pai': 139, 'answer': 140, 'soon': 141, 'send': 142, 'stai': 143, 'pair': 144, 'connect': 145, 'return': 146, 'talk': 147, 'voic': 148, 'sever': 149, 'far': 150, 'devic': 151, 'wear': 152, 'terribl': 153, 'cabra': 154, 'someth': 155, 'pretti': 156, 'featur': 157, 'wai': 158, 'start': 159, 'bill': 160, 'small': 161, 'feel': 162, 'earpiec': 163, 'definit': 164, 'big': 165, 'back': 166, 'end': 167, 'home': 168, 'faster': 169, 'nokia': 170, 'amazon': 171, 'bo': 172, 'demand': 173, 'horribl': 174, 'button': 175, 'without': 176, 'polic': 177, 'littl': 178, 'useless': 179, 'softwar': 180, 'audio': 181, 'job': 182, 'peopl': 183, 'crap': 184, 'everi': 185, 'drive': 186, 'reason': 187, 'motorcycl': 188, 'possibl': 189, 'three': 190, 'clip': 191, 'second': 192, 'loud': 193, 'extract': 194, 'wait': 195, 'request': 196, 'part': 197, 'quit': 198, 'unit': 199, 'protect': 200, 'samsung': 201, 'pictur': 202, 'seem': 203, 'wrong': 204, 'highli': 205, 'contact': 206, 'compani': 207, 'sinc': 208, 'anoth': 209, 'leav': 210, 'anyon': 211, 'cool': 212, 'color': 213, 'high': 214, 'satisfi': 215, 'plan': 216, 'die': 217, 'fail': 218, 'belt': 219, 'file': 220, 'black': 221, 'place': 222, 'data': 223, 'differ': 224, 'razor': 225, 'old': 226, 'signal': 227, 'side': 228, 'put': 229, 'within': 230, 'coupl': 231, 'valu': 232, 'mobil': 233, 'awai': 234, 'never': 235, 'perfectli': 236, 'low': 237, 'inton': 238, 'free': 239, 'sturdi': 240, 'know': 241, 'slow': 242, 'perform': 243, 'drain': 244, 'ring': 245, 'simpl': 246, 'access': 247, 'wife': 248, 'super': 249, 'experi': 250, 'flip': 251, 'hard': 252, 'larg': 253, 'fall': 254, 'laptop': 255, 'secur': 256, 'instruct': 257, 'none': 258, 'size': 259, 'unfortun': 260, 'despit': 261, 'awesom': 262, 'other': 263, 'tell': 264, 'easier': 265, 'later': 266, 'packag': 267, 'arriv': 268, 'convers': 269, 'review': 270, 'plastic': 271, 'construct': 272, 'effect': 273, 'seller': 274, 'ship': 275, 'bar': 276, 'anyth': 277, 'asap': 278, 'care': 279, 'origin': 280, 'charm': 281, 'longer': 282, 'function': 283, 'junk': 284, 'overal': 285, 'unreli': 286, 'obvious': 287, 'abl': 288, 'hous': 289, 'incred': 290, 'tool': 291, 'especi': 292, 'pocket': 293, 'lock': 294, 'either': 295, 'hate': 296, 'avoid': 297, 'webster': 298, 'sure': 299, 'suck': 300, 'set': 301, 'least': 302, 'clariti': 303, 'lose': 304, 'notic': 305, 'chang': 306, 'deal': 307, 'palm': 308, 'blue': 309, 'video': 310, 'flaw': 311, 'cost': 312, 'alwai': 313, 'cabl': 314, 'around': 315, 'kind': 316, 'plantron': 317, 'noth': 318, '2': 319, 'complaint': 320, 'difficult': 321, 'understand': 322, 'though': 323, 'mistak': 324, 'cellphon': 325, 'troubl': 326, 'promptli': 327, 'wireless': 328, 'wall': 329, 'outlet': 330, 'support': 331, 'parti': 332, 'beauti': 333, 'dead': 334, 'rest': 335, 'stop': 336, 'rush': 337, 'front': 338, 'extra': 339, 'scratch': 340, 'bargain': 341, 'final': 342, 'worth': 343, 'mother': 344, 'maintain': 345, 'store': 346, 'condit': 347, 'star': 348, 'hope': 349, 'activ': 350, 'normal': 351, 'dont': 352, 'accept': 353, 'window': 354, 'player': 355, 'perhap': 356, 'serious': 357, 'buyer': 358, 'agenc': 359, 'bottom': 360, 'ago': 361, 'singular': 362, 'rang': 363, 'line': 364, 'yet': 365, 'run': 366, 'touch': 367, 'face': 368, 'displai': 369, 'read': 370, 'extrem': 371, 'mic': 372, 'might': 373, 'defect': 374, 'slide': 375, 'instead': 376, 'includ': 377, 'descript': 378, 'coverag': 379, 'open': 380, 'pad': 381, 'leak': 382, 'leather': 383, 'solv': 384, 'refund': 385, 'mess': 386, 'pod': 387, 'everyon': 388, 'the': 389, 'choic': 390, 'nois': 391, 'glad': 392, 'mom': 393, 'static': 394, 'expens': 395, 'rather': 396, 'instal': 397, 'download': 398, 'form': 399, 'tooth': 400, 'easili': 401, 'caus': 402, 'stuff': 403, 'oper': 404, 'strong': 405, 'mani': 406, 'decent': 407, 'sharp': 408, 'close': 409, 'absolut': 410, 'comput': 411, 'fire': 412, 'happier': 413, 'tree': 414, 'addit': 415, 'save': 416, 'handsfre': 417, 'forev': 418, 'weak': 419, 'network': 420, 'setup': 421, 'result': 422, 'cut': 423, 'beep': 424, 'tone': 425, 'keyboard': 426, 'commun': 427, 'earn': 428, 'usb': 429, 'readi': 430, '1': 431, 'jawbon': 432, 'lightweight': 433, 'embarrass': 434, 'chines': 435, 'stupid': 436, 'cradl': 437, 'along': 438, 'regret': 439, 'almost': 440, 'total': 441, 'seri': 442, 'person': 443, 'consum': 444, 'angri': 445, 'ticket': 446, 'show': 447, 'recharg': 448, 'frequent': 449, 'requir': 450, 'abil': 451, 'wise': 452, 'loos': 453, 'power': 454, 'etc': 455, 'mention': 456, 'lack': 457, 'barbuda': 458, 'see': 459, 'holster': 460, 'blackberri': 461, 'particular': 462, 'style': 463, 'att': 464, 'buzz': 465, 'overrid': 466, 'famili': 467, 'happen': 468, 'forc': 469, 'cheaper': 470, 'cant': 471, 'area': 472, 'flawlessli': 473, '807': 474, 'advertis': 475, 'idea': 476, 'direct': 477, 'post': 478, 'foot': 479, 'nearli': 480, 'passport': 481, 'tip': 482, 'except': 483, 'rip': 484, 'describ': 485, 'bewar': 486, 'toilet': 487, 'switch': 488, 'reach': 489, 'uncomfort': 490, 'kei': 491, 'hop': 492, 'crack': 493, 'that': 494, 'keypad': 495, 'tinni': 496, 'sometim': 497, 'flash': 498, 'bite': 499, 'handi': 500, 'figur': 501, 'accident': 502, 'alon': 503, 'tracfon': 504, 'user': 505, 'friendli': 506, 'whatsoev': 507, 'beat': 508, 'state': 509, 'address': 510, 'soni': 511, 'tablet': 512, 'improv': 513, 'min': 514, 'book': 515, 'although': 516, 'warranti': 517, 'dozen': 518, 'late': 519, 'fool': 520, 'neither': 521, 'game': 522, 'extend': 523, 'cancel': 524, 'dock': 525, 'station': 526, 'busi': 527, 'worthless': 528, 'sprint': 529, 'link': 530, 'check': 531, 'somewher': 532, 'push': 533, 'number': 534, 'fact': 535, 'insid': 536, 'decis': 537, 'echo': 538, 'wind': 539, 'owner': 540, 'morn': 541, 'market': 542, 'usual': 543, 'manag': 544, 'rock': 545, 'third': 546, 'numer': 547, 'probabl': 548, 'smell': 549, 'someon': 550, 'plai': 551, 'bare': 552, 'messag': 553, 'let': 554, 'ask': 555, 'graphic': 556, 'technolog': 557, 'warn': 558, 'cover': 559, 'logitech': 560, 'thank': 561, 'wire': 562, 'poorli': 563, 't': 564, 'refus': 565, 'locat': 566, 'option': 567, 'speaker': 568, 'carri': 569, 'protector': 570, 'slim': 571, 'liter': 572, 'white': 573, 'continu': 574, 'current': 575, 'practic': 576, 'purpos': 577, 'worthwhil': 578, 'simpli': 579, 'pda': 580, 'fantast': 581, 'next': 582, 'gel': 583, 'plumber': 584, 'amaz': 585, 'moto': 586, 'loop': 587, 'brand': 588, 'background': 589, 'period': 590, 'father': 591, 'tremend': 592, 'aw': 593, 'actual': 594, 'gadget': 595, 'ador': 596, 'basic': 597, 'program': 598, 'skye': 599, 'major': 600, '510': 601, 'rat': 602, 'forget': 603, 'earphon': 604, 'certainli': 605, 'sister': 606, 'trash': 607, 'smoke': 608, 'recognit': 609, 'electron': 610, 'dial': 611, 'ga': 612, 'pro': 613, '350': 614, 'biggest': 615, 'superfast': 616, 'kit': 617, 'rare': 618, 'instanc': 619, 'unintellig': 620, 'word': 621, 'hybrid': 622, 'palmtop': 623, 'role': 624, 'bmw': 625, 'fairli': 626, 'quiet': 627, 'speak': 628, 'drug': 629, 'fulfil': 630, 'starter': 631, 'heavi': 632, 'quick': 633, 'cent': 634, 'up': 635, 'and': 636, 'lipton': 637, 'wobbl': 638, 'eventu': 639, 'multipl': 640, 'sourc': 641, 'mac': 642, 'extern': 643, '2000': 644, 'engag': 645, 'tech': 646, 'walk': 647, 'procedur': 648, 'reset': 649, 'wipe': 650, 'trail': 651, 'swivel': 652, 'angl': 653, 'clearli': 654, 'backpack': 655, 'sam': 656, 'distort': 657, 'yell': 658, 'shortcut': 659, 'friend': 660, 'integr': 661, 'seamlessli': 662, 'winner': 663, 'intend': 664, 'needl': 665, 'mine': 666, 'christma': 667, 'surpris': 668, 'load': 669, 'creak': 670, 'wooden': 671, 'floor': 672, 'tomorrow': 673, 'due': 674, 'competitor': 675, '23': 676, 'strength': 677, 'slowli': 678, 'ye': 679, 'shini': 680, 'discard': 681, 'wrongli': 682, 'four': 683, 'spring': 684, 'latch': 685, 'visor': 686, 'possess': 687, 'properli': 688, 'walkman': 689, 'hook': 690, 'canal': 691, 'mainli': 692, 'penni': 693, 'fond': 694, 'magnet': 695, 'strap': 696, 'ugli': 697, 'everydai': 698, 'control': 699, 'whine': 700, 'goeth': 701, 'awkward': 702, 'bulki': 703, 'monkei': 704, 'share': 705, 'dna': 706, 'copi': 707, 'human': 708, 'landslid': 709, 'medicin': 710, 'holder': 711, 'health': 712, 'doctor': 713, 'rent': 714, 'todai': 715, 'spot': 716, 'dad': 717, 'suddenli': 718, 'apart': 719, 'haul': 720, 'cbr': 721, 'prefer': 722, 'medium': 723, 'auto': 724, 'anywher': 725, 'combin': 726, 'flush': 727, 'row': 728, 'inch': 729, 'kitchen': 730, 'counter': 731, 'laugh': 732, 'pic': 733, 'toolbox': 734, 'enter': 735, '8525': 736, 'randomli': 737, 'lousi': 738, 'togeth': 739, 'exce': 740, 'sight': 741, 'overnight': 742, '79900': 743, 'env': 744, 'river': 745, 'spine': 746, 'mean': 747, 'gentl': 748, 'listen': 749, 'spec': 750, 'wow': 751, 'europ': 752, 'asia': 753, 'theft': 754, 'hot': 755, 'risk': 756, 'build': 757, 'thumb': 758, 'cumbersom': 759, 'flimsi': 760, 'edg': 761, 'pant': 762, 'email': 763, 'juic': 764, 'highi': 765, 'ericsson': 766, '1810': 767, 'darn': 768, 'upstair': 769, 'basement': 770, 'stereo': 771, 'invest': 772, 'wont': 773, 'prompt': 774, 'short': 775, 'produc': 776, 'receipt': 777, 'luck': 778, 'surefir': 779, 'unhappi': 780, 'hundr': 781, 'imagin': 782, 'fun': 783, 'follow': 784, 'transform': 785, 'organiz': 786, 'capabl': 787, 'whole': 788, 'restock': 789, 'fee': 790, 'standard': 791, 'concret': 792, 'knock': 793, 'wood': 794, 'advis': 795, 'certain': 796, 'wallet': 797, 'type': 798, 'attract': 799, 'appear': 800, 'channel': 801, 'directli': 802, 'increas': 803, 'nightmar': 804, 'sit': 805, 'vehicl': 806, 'gimmick': 807, 'sorri': 808, 'exchang': 809, 'everywher': 810, 'separ': 811, 'mere': 812, 'excess': 813, 'marbl': 814, 'waterproof': 815, 'recur': 816, 'els': 817, 'copier': 818, 'freez': 819, 'sell': 820, 'clue': 821, 'jerk': 822, 'hat': 823, 'sunglass': 824, 'recent': 825, 'disconnect': 826, 'lightli': 827, 'unsatisfactori': 828, 'search': 829, '7': 830, '44': 831, 'inconspicu': 832, 'boot': 833, 'supposedli': 834, '375': 835, 'appar': 836, 'match': 837, 'clean': 838, 'resist': 839, 'steer': 840, 'genuin': 841, 'pen': 842, 'bother': 843, 'dollar': 844, 'learn': 845, 'lesson': 846, 'onlin': 847, 'anywai': 848, 'fulli': 849, 'bed': 850, 'hi': 851, 'fi': 852, 'adapt': 853, 'spend': 854, 'technician': 855, 'correct': 856, 'failur': 857, 'full': 858, 'favorit': 859, 'loudest': 860, 'visit': 861, 'entir': 862, 'virgin': 863, 'weight': 864, 'hardli': 865, '8500': 866, 'utterli': 867, 'confus': 868, 'arpad': 869, 'self': 870, 'portrait': 871, 'outsid': 872, 'exterior': 873, 'manual': 874, 'perfect': 875, 'inexcus': 876, 'carrier': 877, 'thi': 878, 'interfac': 879, 'decad': 880, 'compet': 881, 'deliv': 882, 'promis': 883, 'timefram': 884, 'rubber': 885, 'petroleum': 886, 'unbear': 887, 'garden': 888, 'invent': 889, 'sooner': 890, 'constantli': 891, 'huge': 892, 'unless': 893, 'correctli': 894, 'accompani': 895, 'brilliant': 896, 'mail': 897, 'night': 898, 'backlight': 899, 'neg': 900, 'overtim': 901, 'memori': 902, 'prettier': 903, 'sim': 904, 'finger': 905, 'commerci': 906, 'mislead': 907, 'solo': 908, 'girl': 909, 'complain': 910, 'wake': 911, 'drawback': 912, 'paus': 913, 'skip': 914, 'song': 915, 'rocket': 916, 'destin': 917, 'unknown': 918, 'compliment': 919, 'detail': 920, 'comment': 921, 'grei': 922, 'red': 923, 'shot': 924, 'restor': 925, 'allot': 926, 'clearer': 927, 'muddi': 928, 'insert': 929, 'glue': 930, 'damag': 931, 'disgust': 932, '2160': 933, 'upgrad': 934, 'discount': 935, 'offici': 936, 'oem': 937, 'it': 938, 'armband': 939, 'list': 940, 'shop': 941, '2424': 942, 'colleagu': 943, 'reboot': 944, 'rate': 945, 'zero': 946, 'loudspeak': 947, 'bumper': 948, 'appeal': 949, 'electr': 950, 'blunt': 951, 'mai': 952, 'dustpan': 953, 'indoor': 954, 'dispos': 955, 'averag': 956, 'forgeri': 957, 'abound': 958, 'oop': 959, 'highest': 960, 'anti': 961, 'slave': 962, 'date': 963, 'alarm': 964, 'clock': 965, 'remov': 966, 'simpler': 967, 'earlier': 968, 'note': 969, 'otherwis': 970, 'transmit': 971, 'near': 972, 'dit': 973, '5320': 974, 'accessori': 975, 'encourag': 976, 'thorn': 977, 'abhor': 978, 'add': 979, 'boost': 980, 'defeat': 981, 'municip': 982, 'paint': 983, 'kindl': 984, 'ergonom': 985, 'theori': 986, 'stand': 987, 'grip': 988, 'prevent': 989, 'slip': 990, 'cutout': 991, 'essenti': 992, 'gosh': 993, 'deaf': 994, 'anymor': 995, 'dual': 996, 'infuri': 997, 'conveni': 998, 'ride': 999, 'smoother': 1000, 'whatev': 1001, 'miss': 1002, 'utter': 1003, 'watch': 1004, 'i': 1005, 'e': 1006, 'a': 1007, 'inexpens': 1008, 'overli': 1009, 'dc': 1010, '10': 1011, 'ideal': 1012, 'whose': 1013, 'sensit': 1014, 'crappi': 1015, '27155': 1016, 'seen': 1017, 'materi': 1018, 'mp': 1019, 'soft': 1020, 'tight': 1021, 'shape': 1022, 'hei': 1023, 'pleasantli': 1024, 'supris': 1025, '5020': 1026, 'pain': 1027, 'web': 1028, 'brows': 1029, 'significantli': 1030, 'previou': 1031, 'deliveri': 1032, 'crisp': 1033, 'garbag': 1034, '680': 1035, 'occupi': 1036, 'distract': 1037, 'plenti': 1038, 'capac': 1039, 'somewhat': 1040, 'forthwith': 1041, 'glass': 1042, 'mode': 1043, 'shooter': 1044, 'delai': 1045, 'special': 1046, 'model': 1047, 'smartphon': 1048, 'sudden': 1049, 'parent': 1050, 'coffe': 1051, 'offic': 1052, 'research': 1053, 'develop': 1054, 'divis': 1055, 'guess': 1056, 'displeas': 1057, 'meet': 1058, 'shift': 1059, 'bubbl': 1060, 'peel': 1061, 'droid': 1062, 'server': 1063, 'ant': 1064, 'document': 1065, 'via': 1066, 's80': 1067, 'whether': 1068, 'unload': 1069, 'top': 1070, 'discomfort': 1071, 'sold': 1072, 'aluminum': 1073, 'handheld': 1074, 'studi': 1075, 'interest': 1076, 'sin': 1077, 'industri': 1078, 'situat': 1079, 'cassett': 1080, 'excruciatingli': 1081, '0265': 1082, 'bose': 1083, 'nec': 1084, 'commut': 1085, 'muffl': 1086, 'incom': 1087, 'r': 1088, 'felt': 1089, 'piti': 1090, 'respect': 1091, 'latest': 1092, '15': 1093, 'crawl': 1094, 'lo': 1095, 'angel': 1096, 'intermitt': 1097, 'usabl': 1098, 'world': 1099, 'machin': 1100, 'neat': 1101, 'frog': 1102, 'ey': 1103, 'catch': 1104, 'reform': 1105, 'pipe': 1106, 'breakag': 1107, 'unaccept': 1108, 'patient': 1109, 'browser': 1110, 'offer': 1111, 'throw': 1112, 'smoothli': 1113, 'remors': 1114, 'barset': 1115, 'outdo': 1116, 'tk50': 1117, 'sleek': 1118, 'ampl': 1119, 'storag': 1120, 'biopic': 1121, 'transfer': 1122, 'tini': 1123, 'shield': 1124, '700': 1125, 'transceiv': 1126, 'tungsten': 1127, 'trust': 1128, 'tie': 1129, 'film': 1130, 'shout': 1131, 'telephon': 1132, 'flawless': 1133, 'antenna': 1134, 'detach': 1135, 'neighborhood': 1136, 'civil': 1137, 'improp': 1138, 'boi': 1139, 'couldnt': 1140, 'pull': 1141, 'era': 1142, 'volcano': 1143, 'explod': 1144, 'upbeat': 1145, 'engin': 1146, 'clever': 1147, 'steadi': 1148, 'water': 1149, 'peachi': 1150, 'keen': 1151, '3': 1152, 'megapixel': 1153, 'render': 1154, 'imag': 1155, 'rel': 1156, 'resolut': 1157, 'press': 1158, 'bought': 1159, 'n': 1160, 'revers': 1161, 'sensor': 1162, 'smallest': 1163, 'funni': 1164, 'sketchi': 1165, 'helliwel': 1166, 'somehow': 1167, 'cat': 1168, 'attack': 1169, 'strip': 1170, 'destroi': 1171, 'stream': 1172, 'submerg': 1173, 'joi': 1174, 'factor': 1175, 'weird': 1176, 'exist': 1177, 'hello': 1178, 'nicer': 1179, 'snap': 1180, 'timer': 1181, 'thru': 1182, 'handset': 1183, 's11': 1184, 'solid': 1185, 'dirti': 1186, 'amp': 1187, 'killer': 1188, 'cours': 1189, 'metro': 1190, 'scar': 1191, '450': 1192, 'slider': 1193, 'premium': 1194, 'sanyo': 1195, 'surviv': 1196, 'blackton': 1197, 'ill': 1198, 'avail': 1199, 'transmitt': 1200, 'realiz': 1201, 'exactli': 1202, 'headband': 1203, 'hair': 1204, 'superb': 1205, 'span': 1206, 'exclaim': 1207, 'whoa': 1208, 'bank': 1209, 'kick': 1210, 'allow': 1211, 'usag': 1212, 'shipment': 1213, 'cylind': 1214, 'magic': 1215, 'odd': 1216, 'puff': 1217, 'hurt': 1218, 'roam': 1219, 'live': 1220, 'room': 1221, 'issu': 1222, 'psych': 1223, 'appoint': 1224, '325': 1225, 'worn': 1226, 'out': 1227, 'contract': 1228, 'stick': 1229, 'max': 1230, 'mute': 1231, 'mostli': 1232, 'child': 1233, 'regard': 1234, 'greater': 1235, 'eas': 1236, 'lap': 1237, 'counterfeit': 1238, 'mega': 1239, 'pixel': 1240, 'calendar': 1241, 'sync': 1242, 'entertain': 1243, 'oh': 1244, 'activesync': 1245, '4': 1246, 'optim': 1247, 'synchron': 1248, 'glove': 1249, 'durabl': 1250, 'tick': 1251, 'bud': 1252, 'music': 1253, 'closest': 1254, 'buck': 1255, 'hing': 1256, 'aggrav': 1257, 'rotat': 1258, 'adhes': 1259, 'speakerphon': 1260, 'exercis': 1261, 'frustrat': 1262, '8530': 1263, 'curv': 1264, 'bear': 1265, 'acceler': 1266, 'dude': 1267, 'bu': 1268, 'cord': 1269, 'freedom': 1270, 'mechan': 1271, 'air': 1272, 'elsewher': 1273, 'bell': 1274, 'whistl': 1275, 'mediocr': 1276, 'portabl': 1277, 'transmiss': 1278}\n"
     ]
    }
   ],
   "source": [
    "import os\n",
    "max_words = 2000\n",
    "max_len = 25\n",
    "tok = Tokenizer(num_words=max_words)\n",
    "tok.fit_on_texts(X_train)\n",
    "sequences = tok.texts_to_sequences(X_train)\n",
    "print(sequences)\n",
    "sequences_matrix = sequence.pad_sequences(sequences,maxlen=max_len)\n",
    "print(sequences_matrix)\n",
    "print('word_index : ',tok.word_index)"
   ]
  },
  {
   "cell_type": "code",
   "execution_count": 7,
   "metadata": {},
   "outputs": [],
   "source": [
    "def RNN():\n",
    "    inputs = Input(name='inputs',shape=[max_len])\n",
    "    layer = Embedding(max_words,50,input_length=max_len)(inputs)\n",
    "    layer = LSTM(64)(layer)\n",
    "    layer = Dense(256,name='FC1')(layer)\n",
    "    layer = Activation('relu')(layer)\n",
    "    layer = Dropout(0.5)(layer)\n",
    "    layer = Dense(1,name='out_layer')(layer)\n",
    "    layer = Activation('sigmoid')(layer)\n",
    "    model = Model(inputs=inputs,outputs=layer)\n",
    "    return model"
   ]
  },
  {
   "cell_type": "code",
   "execution_count": 8,
   "metadata": {},
   "outputs": [
    {
     "name": "stdout",
     "output_type": "stream",
     "text": [
      "_________________________________________________________________\n",
      "Layer (type)                 Output Shape              Param #   \n",
      "=================================================================\n",
      "inputs (InputLayer)          (None, 25)                0         \n",
      "_________________________________________________________________\n",
      "embedding_1 (Embedding)      (None, 25, 50)            100000    \n",
      "_________________________________________________________________\n",
      "lstm_1 (LSTM)                (None, 64)                29440     \n",
      "_________________________________________________________________\n",
      "FC1 (Dense)                  (None, 256)               16640     \n",
      "_________________________________________________________________\n",
      "activation_1 (Activation)    (None, 256)               0         \n",
      "_________________________________________________________________\n",
      "dropout_1 (Dropout)          (None, 256)               0         \n",
      "_________________________________________________________________\n",
      "out_layer (Dense)            (None, 1)                 257       \n",
      "_________________________________________________________________\n",
      "activation_2 (Activation)    (None, 1)                 0         \n",
      "=================================================================\n",
      "Total params: 146,337\n",
      "Trainable params: 146,337\n",
      "Non-trainable params: 0\n",
      "_________________________________________________________________\n"
     ]
    }
   ],
   "source": [
    "model = RNN()\n",
    "model.summary()\n",
    "model.compile(loss='binary_crossentropy',optimizer=RMSprop(),metrics=['accuracy'])"
   ]
  },
  {
   "cell_type": "code",
   "execution_count": 9,
   "metadata": {},
   "outputs": [
    {
     "name": "stdout",
     "output_type": "stream",
     "text": [
      "Train on 923 samples, validate on 231 samples\n",
      "Epoch 1/10\n",
      "923/923 [==============================] - 1s 1ms/step - loss: 0.6485 - acc: 0.6956 - val_loss: 0.5977 - val_acc: 0.6970\n",
      "Epoch 2/10\n",
      "923/923 [==============================] - 0s 250us/step - loss: 0.5577 - acc: 0.7237 - val_loss: 0.5583 - val_acc: 0.6970\n",
      "Epoch 3/10\n",
      "923/923 [==============================] - 0s 235us/step - loss: 0.4906 - acc: 0.7237 - val_loss: 0.4452 - val_acc: 0.7143\n",
      "Epoch 4/10\n",
      "923/923 [==============================] - 0s 232us/step - loss: 0.3674 - acc: 0.8093 - val_loss: 0.3548 - val_acc: 0.7576\n",
      "Epoch 5/10\n",
      "923/923 [==============================] - 0s 247us/step - loss: 0.2364 - acc: 0.9220 - val_loss: 0.2706 - val_acc: 0.8788\n",
      "Epoch 6/10\n",
      "923/923 [==============================] - 0s 231us/step - loss: 0.1394 - acc: 0.9686 - val_loss: 0.1381 - val_acc: 0.9610\n",
      "Epoch 7/10\n",
      "923/923 [==============================] - 0s 227us/step - loss: 0.0699 - acc: 0.9870 - val_loss: 0.1718 - val_acc: 0.9610\n",
      "Epoch 8/10\n",
      "923/923 [==============================] - 0s 219us/step - loss: 0.0630 - acc: 0.9881 - val_loss: 0.0769 - val_acc: 0.9610\n",
      "Epoch 9/10\n",
      "923/923 [==============================] - 0s 228us/step - loss: 0.0368 - acc: 0.9924 - val_loss: 0.0704 - val_acc: 0.9654\n",
      "Epoch 10/10\n",
      "923/923 [==============================] - 0s 253us/step - loss: 0.0223 - acc: 0.9935 - val_loss: 0.0626 - val_acc: 0.9654\n"
     ]
    },
    {
     "data": {
      "text/plain": [
       "<keras.callbacks.History at 0x789a5eff98>"
      ]
     },
     "execution_count": 9,
     "metadata": {},
     "output_type": "execute_result"
    }
   ],
   "source": [
    "model.fit(sequences_matrix,Y_train,batch_size=128,epochs=10,\n",
    "          validation_split=0.2)"
   ]
  },
  {
   "cell_type": "code",
   "execution_count": 10,
   "metadata": {},
   "outputs": [],
   "source": [
    "test_sequences = tok.texts_to_sequences(X_test)\n",
    "test_sequences_matrix = sequence.pad_sequences(test_sequences,maxlen=max_len)\n",
    "pred = model.predict(test_sequences_matrix)"
   ]
  },
  {
   "cell_type": "code",
   "execution_count": 11,
   "metadata": {},
   "outputs": [
    {
     "name": "stdout",
     "output_type": "stream",
     "text": [
      "204/204 [==============================] - 0s 113us/step\n"
     ]
    }
   ],
   "source": [
    "accr = model.evaluate(test_sequences_matrix,Y_test)"
   ]
  },
  {
   "cell_type": "code",
   "execution_count": 12,
   "metadata": {},
   "outputs": [
    {
     "name": "stdout",
     "output_type": "stream",
     "text": [
      "Test set\n",
      "  Loss: 0.080\n",
      "  Accuracy: 0.971\n"
     ]
    }
   ],
   "source": [
    "print('Test set\\n  Loss: {:0.3f}\\n  Accuracy: {:0.3f}'.format(accr[0],accr[1]))"
   ]
  },
  {
   "cell_type": "code",
   "execution_count": 16,
   "metadata": {},
   "outputs": [],
   "source": [
    "stopword={\"until\",\"off\",\"the\",\"any\",\"only\",\"d\",\"in\",\"because\",\"during\",\"on\",\"which\",\"who\",\"re\",\"then\",\"each\",\"will\",\"its\",\"these\",\"but\",\"other\",\"been\",\"t\",\"y\",\"between\",\"she's\",\"she\",\"have\",\"yourselves\",\"ve\",\"ain\",\"i\",\"just\",\"to\",\"that\",\"own\",\"before\",\"himself\",\"themselves\",\"a\",\"is\",\"my\",\"ll\",\"you\",\"where\",\"had\",\"too\",\"haven\",\"won\",\"yours\",\"over\",\"her\",\"his\",\"shan\",\"if\",\"after\",\"under\",\"such\",\"doing\",\"up\",\"through\",\"same\",\"we\",\"as\",\"or\",\"very\",\"no\",\"myself\",\"they\",\"me\",\"your\",\"are\",\"what\",\"against\",\"theirs\",\"ours\",\"and\",\"it's\",\"of\",\"did\",\"once\",\"am\",\"yourself\",\"again\",\"why\",\"above\",\"here\",\"into\",\"them\",\"at\",\"both\",\"s\",\"hers\",\"herself\",\"so\",\"by\",\"from\",\"when\",\"this\",\"that'll\",\"about\",\"him\",\"it\",\"was\",\"you've\",\"ma\",\"there\",\"ourselves\",\"their\",\"m\",\"how\",\"itself\",\"an\",\"with\",\"down\",\"more\",\"can\",\"some\",\"than\",\"our\",\"those\",\"do\",\"most\",\"be\",\"o\",\"were\",\"all\",\"out\",\"for\",\"has\",\"further\",\"while\",\"whom\",\"below\",\"he\",\"few\",\"being\"}"
   ]
  },
  {
   "cell_type": "code",
   "execution_count": 17,
   "metadata": {},
   "outputs": [],
   "source": [
    "def replace_word(text):\n",
    "    switcher = {\n",
    "       \"couldn't\": \"could not\",\n",
    "       \"couldn\": \"could not\",\n",
    "       \"won't\": \"will not\",\n",
    "       \"won\": \"will not\",\n",
    "       \"mustn't\": \"must not\",\n",
    "       \"mustn\": \"must not\",\n",
    "       \"that'll\": \"that will\",\n",
    "       \"shouldn't\": \"should not\",\n",
    "       \"shouldn\": \"should not\",\n",
    "       \"should've\": \"should have\",\n",
    "       \"haven't\": \"have not\",\n",
    "       \"haven\": \"have not\",\n",
    "       \"hadn't\": \"have not\",\n",
    "       \"hadn\": \"have not\",\n",
    "       \"hasn't\": \"have not\",\n",
    "       \"hasn\": \"have not\",\n",
    "       \"didn't\": \"do not\",\n",
    "       \"didn\": \"do not\",\n",
    "       \"doesn't\": \"do not\",\n",
    "       \"doesn\": \"do not\",\n",
    "       \"don't\": \"do not\",\n",
    "       \"don\": \"do not\",\n",
    "       \"isn't\": \"be not\",\n",
    "       \"you'd\":\"you would\",\n",
    "       \"you've\":\"you have\",\n",
    "       \"you're\":\"you are\",\n",
    "       \"you'll\":\"you will\",\n",
    "       \"she's\":\"she is\",\n",
    "       \"it's\":\"it is\",\n",
    "       \"aren't\":\"are not\",\n",
    "       \"aren\":\"are not\",\n",
    "       \"weren't\":\"were not\",\n",
    "       \"weren\":\"were not\",\n",
    "       \"wouldn't\":\"would not\",\n",
    "       \"wouldn\":\"would not\",\n",
    "       \"needn't\":\"need not\",\n",
    "       \"needn\":\"need not\",\n",
    "       \"wasn't\":\"was not\",\n",
    "       \"wasn\":\"was not\",\n",
    "       \"mightn't\":\"might not\",\n",
    "       \"mightn\":\"might not\",\n",
    "       \"shan't\":\"shall not\",\n",
    "       \"shan\":\"shall not\",\n",
    "       \"can't\":\"can not\",\n",
    "       \"i'm\":\"i am\"\n",
    "   }\n",
    "    text = text.lower()\n",
    "    text = text.split()\n",
    "    for i in range(len(text)):\n",
    "        text[i] = switcher.get(text[i], text[i])\n",
    "    text = \" \".join(text)\n",
    "    return text"
   ]
  },
  {
   "cell_type": "code",
   "execution_count": 37,
   "metadata": {},
   "outputs": [
    {
     "name": "stderr",
     "output_type": "stream",
     "text": [
      "[nltk_data] Downloading package stopwords to\n",
      "[nltk_data]     C:\\Users\\khouloud\\AppData\\Roaming\\nltk_data...\n",
      "[nltk_data]   Package stopwords is already up-to-date!\n"
     ]
    }
   ],
   "source": [
    "import nltk\n",
    "nltk.download('stopwords')\n",
    "def transformText(text):\n",
    "    \n",
    "    #text=split_alphanum(text)\n",
    "    #stops = set(stopwords.words(\"english\"))\n",
    "    \n",
    "    # Convert text to lower\n",
    "    text = text.lower()\n",
    "    # Removing non ASCII chars    \n",
    "    text = re.sub(r'[^\\x00-\\x7f]',r' ',text)\n",
    "    \n",
    "    #replace_word\n",
    "    text=replace_word(text)\n",
    "    input_str=word_tokenize(text)\n",
    "    for i in range(len(input_str)):\n",
    "        input_str[i]=lemmatizer.lemmatize(input_str[i],pos='v')\n",
    "        input_str[i]=lemmatizer.lemmatize(input_str[i],pos='n')\n",
    "    \n",
    "    text=\" \".join(input_str)\n",
    "    # Strip multiple whitespaces\n",
    "    text = gensim.corpora.textcorpus.strip_multiple_whitespaces(text)\n",
    "    \n",
    "     #correcteur\n",
    "    spell = SpellChecker()\n",
    "    misspelled = text.split()\n",
    "    for i in range(len(misspelled)):\n",
    "# Get the one `most likely` answer\n",
    "      word = spell.correction(misspelled[i])\n",
    "      misspelled[i]=word\n",
    "    text = \" \".join(misspelled)\n",
    "    \n",
    "    # Removing all the stopwords\n",
    "    filtered_words = [word for word in text.split() if word not in stopword]\n",
    "    \n",
    "   \n",
    "    \n",
    "    # Removing all the tokens with lesser than 3 characters\n",
    "    filtered_words = gensim.corpora.textcorpus.remove_short(filtered_words, minsize=3)\n",
    "    \n",
    "    # Preprocessed text after stop words removal\n",
    "    text = \" \".join(filtered_words)\n",
    "    \n",
    "    # Remove the punctuation\n",
    "    text = gensim.parsing.preprocessing.strip_punctuation2(text)\n",
    "    \n",
    "   \n",
    "    \n",
    "    # Strip multiple whitespaces\n",
    "    text = gensim.corpora.textcorpus.strip_multiple_whitespaces(text)\n",
    "    \n",
    "    \n",
    "    #Lematisation\n",
    "    #text = [WordNetLemmatizer().lemmatize(word) for word in text.split()]\n",
    "    \n",
    "    \n",
    "    # Stemming\n",
    "    return gensim.parsing.preprocessing.stem_text(text)"
   ]
  },
  {
   "cell_type": "code",
   "execution_count": 20,
   "metadata": {},
   "outputs": [
    {
     "name": "stderr",
     "output_type": "stream",
     "text": [
      "[nltk_data] Downloading package wordnet to\n",
      "[nltk_data]     C:\\Users\\khouloud\\AppData\\Roaming\\nltk_data...\n",
      "[nltk_data]   Package wordnet is already up-to-date!\n",
      "C:\\Users\\khouloud\\AppData\\Local\\Continuum\\anaconda3\\lib\\site-packages\\gensim\\utils.py:1197: UserWarning: detected Windows; aliasing chunkize to chunkize_serial\n",
      "  warnings.warn(\"detected Windows; aliasing chunkize to chunkize_serial\")\n"
     ]
    }
   ],
   "source": [
    "import nltk                       # the natural langauage toolkit, open-source NLP\n",
    "nltk.download('wordnet')\n",
    "import pandas as pd               # pandas dataframe\n",
    "import re                         # regular expression\n",
    "from nltk.corpus import stopwords  \n",
    "from gensim import parsing        # Help in preprocessing the data, very efficiently\n",
    "import gensim\n",
    "import numpy as np\n",
    "from spellchecker import SpellChecker\n",
    "from nltk.stem.wordnet import WordNetLemmatizer\n",
    "from gensim.parsing.preprocessing import split_alphanum\n",
    "from nltk.stem import WordNetLemmatizer\n",
    "from nltk.tokenize import word_tokenize\n",
    "lemmatizer=WordNetLemmatizer()"
   ]
  },
  {
   "cell_type": "code",
   "execution_count": 45,
   "metadata": {},
   "outputs": [
    {
     "name": "stdout",
     "output_type": "stream",
     "text": [
      "[[0 0 0 0 0 0 0 0 0 0 0 0 0 0 0 0 0 0 0 0 0 0 5 1 4]]\n",
      "[[5, 1, 4]]\n",
      "[[0.99386495]]\n",
      "0\n"
     ]
    }
   ],
   "source": [
    "t=transformText('i need my phone now ')\n",
    "text = np.array([t])\n",
    "sequences = tok.texts_to_sequences(text)\n",
    "sequences_matrix = sequence.pad_sequences(sequences,maxlen=max_len)\n",
    "prediction = model.predict(sequences_matrix)\n",
    "predict=np.argmax(prediction,axis=1)\n",
    "print(sequences_matrix)\n",
    "print(sequences)\n",
    "print(prediction)\n",
    "print(predict[0])"
   ]
  },
  {
   "cell_type": "code",
   "execution_count": null,
   "metadata": {},
   "outputs": [],
   "source": []
  }
 ],
 "metadata": {
  "kernelspec": {
   "display_name": "Python 3",
   "language": "python",
   "name": "python3"
  },
  "language_info": {
   "codemirror_mode": {
    "name": "ipython",
    "version": 3
   },
   "file_extension": ".py",
   "mimetype": "text/x-python",
   "name": "python",
   "nbconvert_exporter": "python",
   "pygments_lexer": "ipython3",
   "version": "3.6.8"
  }
 },
 "nbformat": 4,
 "nbformat_minor": 2
}
